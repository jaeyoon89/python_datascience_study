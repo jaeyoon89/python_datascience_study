{
 "cells": [
  {
   "cell_type": "markdown",
   "id": "promising-conducting",
   "metadata": {},
   "source": [
    "<center>\n",
    "<img src=\"https://raw.githubusercontent.com/PinkWink/DataScience/master/img/title.jpg\" width=\"200\" height=\"200\"><br>\n",
    "</center>"
   ]
  },
  {
   "cell_type": "markdown",
   "id": "northern-printing",
   "metadata": {},
   "source": [
    "# 8장 - 자연어 처리 시작하기"
   ]
  },
  {
   "cell_type": "code",
   "execution_count": null,
   "id": "general-plasma",
   "metadata": {},
   "outputs": [],
   "source": []
  }
 ],
 "metadata": {
  "kernelspec": {
   "display_name": "Python 3",
   "language": "python",
   "name": "python3"
  },
  "language_info": {
   "codemirror_mode": {
    "name": "ipython",
    "version": 3
   },
   "file_extension": ".py",
   "mimetype": "text/x-python",
   "name": "python",
   "nbconvert_exporter": "python",
   "pygments_lexer": "ipython3",
   "version": "3.6.9"
  }
 },
 "nbformat": 4,
 "nbformat_minor": 5
}
