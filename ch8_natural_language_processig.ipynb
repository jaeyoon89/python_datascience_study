{
 "cells": [
  {
   "cell_type": "markdown",
   "id": "confident-transmission",
   "metadata": {},
   "source": [
    "<center>\n",
    "<img src=\"https://raw.githubusercontent.com/PinkWink/DataScience/master/img/title.jpg\" width=\"200\" height=\"200\"><br>\n",
    "</center>"
   ]
  },
  {
   "cell_type": "markdown",
   "id": "novel-thing",
   "metadata": {},
   "source": [
    "# 8장 - 자연어 처리 시작하기 \n",
    "\n",
    "\n",
    "자연어 처리는 데이터 분석이 인기를 끌고 있는 요즘 이론적 배경에 대한 이해는 부족하더라도 자연어 처리 모듈의 일부 기능을 사용하는 빈도가 조금씩 많아지고 있다. 자연어 처리 전문가가 아니더라도 웹 데이터를 다루다 보면 정형화된 데이터에서 단순 텍스트 분석등의 역할에 대한 니즈가 있다."
   ]
  },
  {
   "cell_type": "markdown",
   "id": "greater-border",
   "metadata": {},
   "source": [
    "## 8-1 한글 자연어 처리 기초 - KoNLPy 및 필요 모듈의 설치"
   ]
  },
  {
   "cell_type": "markdown",
   "id": "naval-possibility",
   "metadata": {},
   "source": [
    "한글 자연어 처리를 파이썬으로 하는 것을 도와주는 모둘은 Lucy Park 이라는 분이 개발한 KoNLPy 모듈이 필수이다."
   ]
  },
  {
   "cell_type": "code",
   "execution_count": 1,
   "id": "automated-outdoors",
   "metadata": {},
   "outputs": [],
   "source": [
    "from konlpy.tag import Kkma\n",
    "kkma = Kkma()"
   ]
  },
  {
   "cell_type": "markdown",
   "id": "04031369",
   "metadata": {},
   "source": [
    "먼저 꼬꼬마 모듈을 사용할 수 있게 한다."
   ]
  },
  {
   "cell_type": "code",
   "execution_count": 2,
   "id": "a89da60f",
   "metadata": {},
   "outputs": [
    {
     "data": {
      "text/plain": [
       "['한국어 분석을 시작합니다', '재미있어요~~']"
      ]
     },
     "execution_count": 2,
     "metadata": {},
     "output_type": "execute_result"
    }
   ],
   "source": [
    "kkma.sentences('한국어 분석을 시작합니다 재미있어요~~')"
   ]
  },
  {
   "cell_type": "markdown",
   "id": "44ed932f",
   "metadata": {},
   "source": [
    "마침표가 없어도 위와 같이 두 개의 문장으로 구분한다."
   ]
  },
  {
   "cell_type": "code",
   "execution_count": 3,
   "id": "2147f53e",
   "metadata": {},
   "outputs": [
    {
     "data": {
      "text/plain": [
       "['한국어', '분석']"
      ]
     },
     "execution_count": 3,
     "metadata": {},
     "output_type": "execute_result"
    }
   ],
   "source": [
    "kkma.nouns('한국어 분석을 시작합니다 재미있어요~~')"
   ]
  },
  {
   "cell_type": "markdown",
   "id": "20a42344",
   "metadata": {},
   "source": [
    "명사(nouns) 분석도 수행한다."
   ]
  },
  {
   "cell_type": "code",
   "execution_count": 4,
   "id": "c01d3ef2",
   "metadata": {},
   "outputs": [
    {
     "data": {
      "text/plain": [
       "[('한국어', 'NNG'),\n",
       " ('분석', 'NNG'),\n",
       " ('을', 'JKO'),\n",
       " ('시작하', 'VV'),\n",
       " ('ㅂ니다', 'EFN'),\n",
       " ('재미있', 'VA'),\n",
       " ('어요', 'EFN'),\n",
       " ('~~', 'SW')]"
      ]
     },
     "execution_count": 4,
     "metadata": {},
     "output_type": "execute_result"
    }
   ],
   "source": [
    "kkma.pos('한국어 분석을 시작합니다 재미있어요~~')"
   ]
  },
  {
   "cell_type": "markdown",
   "id": "a4325c7d",
   "metadata": {},
   "source": [
    "형태소(pos) 분석도 수행한다. 한글은 영어와 달리 단어의 형태 변화가 많아서 영어처럼 쉽게 접근하기 어렵다. 그래서 최소한의 의미 단위인 형태소로 언어를 분석하는 것이 일반적이다."
   ]
  },
  {
   "cell_type": "code",
   "execution_count": 5,
   "id": "fd8e9424",
   "metadata": {},
   "outputs": [],
   "source": [
    "from konlpy.tag import Hannanum\n",
    "hannanum = Hannanum()"
   ]
  },
  {
   "cell_type": "markdown",
   "id": "df29de86",
   "metadata": {},
   "source": [
    "이번엔 한나눔을 사용해 보자."
   ]
  },
  {
   "cell_type": "code",
   "execution_count": 6,
   "id": "a62a41a3",
   "metadata": {},
   "outputs": [
    {
     "data": {
      "text/plain": [
       "['한국어', '분석', '시작']"
      ]
     },
     "execution_count": 6,
     "metadata": {},
     "output_type": "execute_result"
    }
   ],
   "source": [
    "hannanum.nouns('한국어 분석을 시작합니다 재미있어요~~')"
   ]
  },
  {
   "cell_type": "markdown",
   "id": "c0c10c28",
   "metadata": {},
   "source": [
    "한나눔 명사 분석은 꼬꼬마와는 약간 다른 결과를 가져온다."
   ]
  }
 ],
 "metadata": {
  "kernelspec": {
   "display_name": "Python 3",
   "language": "python",
   "name": "python3"
  },
  "language_info": {
   "codemirror_mode": {
    "name": "ipython",
    "version": 3
   },
   "file_extension": ".py",
   "mimetype": "text/x-python",
   "name": "python",
   "nbconvert_exporter": "python",
   "pygments_lexer": "ipython3",
   "version": "3.6.9"
  }
 },
 "nbformat": 4,
 "nbformat_minor": 5
}
