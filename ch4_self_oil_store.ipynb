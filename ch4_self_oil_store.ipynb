{
 "cells": [
  {
   "cell_type": "markdown",
   "id": "fuzzy-munich",
   "metadata": {},
   "source": [
    "<img src=\"https://raw.githubusercontent.com/PinkWink/DataScience/master/img/title.jpg\" width=\"200\" height=\"200\"><br>"
   ]
  },
  {
   "cell_type": "markdown",
   "id": "north-arrival",
   "metadata": {},
   "source": [
    "# 4장 - 셀프 주유소는 정말 저렴할까\n",
    "\n",
    "\n",
    "\n",
    "이번 장에서는 아주 간단한 질문에 답하는 것을 함꼐 해보려 한다. 누군가 셀프 주유소는 정말 저렴한가? 에 대해 물었다면 데이터를 만지는 사람들은 어떻게 할까? 답은 바로 주유소의 가격을 조사해서 셀프 주유소와 아닌 주유소를 구분해서 비교하면 된다.\n",
    "앞서 우리는 BeautifulSoup를 사용했다. 그걸로도 많은 일을 할 수 있다. 하지만 몇가지 문제로 인해 BeautifulSoup만으로는 접근할 수 없는 인터넷 정보가 있다. 그래서 사용하는 것이 바로 Selenium 이다.\n",
    "우선 주유소의 가격을 비교하는 정부 사이트인 Opninet에 접속해서 정보를 모아야 한다."
   ]
  },
  {
   "cell_type": "code",
   "execution_count": 25,
   "id": "intelligent-egypt",
   "metadata": {},
   "outputs": [],
   "source": [
    "from selenium import webdriver"
   ]
  },
  {
   "cell_type": "markdown",
   "id": "spoken-celebrity",
   "metadata": {},
   "source": [
    "먼저 selenium 에서 webdriver를 import 한다. 그리고 네이버(www.naver.com)에 접속해 보자."
   ]
  },
  {
   "cell_type": "code",
   "execution_count": 26,
   "id": "characteristic-fishing",
   "metadata": {
    "scrolled": true
   },
   "outputs": [],
   "source": [
    "driver = webdriver.Chrome('C:/Users/이재윤/Downloads/chromedriver_win32/chromedriver')\n",
    "driver.get(\"http://naver.com\")"
   ]
  },
  {
   "cell_type": "markdown",
   "id": "statistical-gentleman",
   "metadata": {},
   "source": [
    "위처럼 네이버에 접속을 하면 'chrome이 자동화된 테스트 소프트웨어에 의해 제어되고 있습니다' 라는 문구와 함께 웹 브라우저가 또 하나 떠 있을 텐데, 저 웹 브라우저는 우리가 코드로 움직일 브라우저이다. 그래서 가급적 우리가 생성한 크롬 브라우저는 손으로 조작하면 안된다. 코드를 작성할 때 혼선이 생길 수 있다. 별도로 네이버창을 하나 더 열어서 작업하자."
   ]
  },
  {
   "cell_type": "code",
   "execution_count": 29,
   "id": "geological-elevation",
   "metadata": {},
   "outputs": [
    {
     "data": {
      "text/plain": [
       "True"
      ]
     },
     "execution_count": 29,
     "metadata": {},
     "output_type": "execute_result"
    }
   ],
   "source": [
    "driver.save_screenshot('C:/Users/이재윤/images/001.jpg')"
   ]
  },
  {
   "cell_type": "markdown",
   "id": "streaming-upgrade",
   "metadata": {},
   "source": [
    "selenium은 save_screenshot 명령으로 화면을 캡처할 수 있다."
   ]
  },
  {
   "cell_type": "code",
   "execution_count": 38,
   "id": "beginning-bracket",
   "metadata": {},
   "outputs": [],
   "source": [
    "elem_login = driver.find_element_by_id(\"id\")\n",
    "elem_login.clear()\n",
    "elem_login.send_keys(\"wodbsdbsk\")\n",
    "\n",
    "elem_login = driver.find_element_by_id(\"pw\")\n",
    "elem_login.clear()\n",
    "elem_login.send_keys(\"sorkwodbs1!\")"
   ]
  },
  {
   "cell_type": "markdown",
   "id": "textile-competition",
   "metadata": {},
   "source": [
    "네이버에 로그인 정보를 입력하는 곳이 있다. 크롬 드라이버로 네이버에 로그인하고 싶다면 당연히 id와 비밀번호를 입력해야 한다. 개발자 도구를 이용해서 id와 비밀번호를 입력하는 부분의 html 소스 코드를 확인해 보면 id= 라는 항목에 id 혹은 pw 라고 되어있다. selenium이 제공하는 명령 중 find_element_by_id 를 이용해서 id와 pw를 찾으면 된다. 위 코드를 치면 로그인 정보가 입력되어 있을 것이다.\n",
    "\n",
    "그런 후에 로그인 개발자 도구로 로그인 버튼 쪽을 클릭하면 특정 코드가 하이라이트 되어 있을 것이다. 그곳에서 마우스 오른쪽 버튼을 클릭 후 copy 항목으로 가서 copy xpath를 선택하면 로그인 버튼의 xpath를 복사할 수 있다.\n"
   ]
  },
  {
   "cell_type": "code",
   "execution_count": 39,
   "id": "collect-bikini",
   "metadata": {},
   "outputs": [],
   "source": [
    "xpath = '''//*[@id=\"frmNIDLogin\"]/fieldset/input'''\n",
    "driver.find_element_by_xpath(xpath).click()"
   ]
  },
  {
   "cell_type": "markdown",
   "id": "nutritional-franchise",
   "metadata": {},
   "source": [
    "그리고 위 코드를 작성하면서 방금 복사한 xpath를 xpath =  뒤에 붙여 넣기 하면 된다.\n",
    "이렇게 로그인을 한 후 메일(mail.naver.com)에 접근해 보자."
   ]
  },
  {
   "cell_type": "code",
   "execution_count": 40,
   "id": "adopted-glenn",
   "metadata": {},
   "outputs": [],
   "source": [
    "driver.get(\"http://mail.naver.com\")"
   ]
  },
  {
   "cell_type": "markdown",
   "id": "helpful-xerox",
   "metadata": {},
   "source": [
    "원하는 곳으로 이동 했다면 Beautiful Soup를 이용해서 페이지 내용을 읽어오게 된다."
   ]
  },
  {
   "cell_type": "code",
   "execution_count": 48,
   "id": "coupled-chocolate",
   "metadata": {},
   "outputs": [],
   "source": [
    "from bs4 import BeautifulSoup\n",
    "\n",
    "html = driver.page_source\n",
    "soup = BeautifulSoup(html, 'html.parser')"
   ]
  },
  {
   "cell_type": "markdown",
   "id": "middle-identifier",
   "metadata": {},
   "source": [
    "driver.page_source를 사용하면 현재 selenium이 접근한 페이지의 소스를 넘겨 받을 수 있다.\n",
    "\n",
    "이제 크롬 개발자 도구를 이용해서 메일을 보낸 사람이 나타나는 곳의 태그를 확인해두자."
   ]
  },
  {
   "cell_type": "code",
   "execution_count": 50,
   "id": "solar-damage",
   "metadata": {},
   "outputs": [
    {
     "data": {
      "text/plain": [
       "[<div class=\"name _ccr(lst.from)\"><span class=\"blind\">보낸 이:</span><a class=\"_c1(myContextMenu|showSenderContextLayer|list|4) _stopDefault\" href=\"#\" title='\"네이버메일\" &lt;navermail_noreply@navercorp.com&gt;'>네이버메일</a></div>,\n",
       " <div class=\"name _ccr(lst.from)\"><span class=\"blind\">보낸 이:</span><a class=\"_c1(myContextMenu|showSenderContextLayer|list|3) _stopDefault\" href=\"#\" title=\"&lt;no_reply@its-lil.com&gt;\">no_reply@its-lil.com</a></div>,\n",
       " <div class=\"name _ccr(lst.from)\"><span class=\"blind\">보낸 이:</span><a class=\"_c1(myContextMenu|showSenderContextLayer|list|2) _stopDefault\" href=\"#\" title='\"네이버\" &lt;webmaster@naver.com&gt;'>네이버</a></div>,\n",
       " <div class=\"name _ccr(lst.from)\"><span class=\"blind\">보낸 이:</span><a class=\"_c1(myContextMenu|showSenderContextLayer|list|1) _stopDefault\" href=\"#\" title='\"네이버\" &lt;webmaster@naver.com&gt;'>네이버</a></div>]"
      ]
     },
     "execution_count": 50,
     "metadata": {},
     "output_type": "execute_result"
    }
   ],
   "source": [
    "raw_list = soup.find_all('div', 'name _ccr(lst.from)')\n",
    "raw_list"
   ]
  },
  {
   "cell_type": "markdown",
   "id": "accurate-edmonton",
   "metadata": {},
   "source": [
    "위처럼 find_all 명령을 사용하면 된다."
   ]
  },
  {
   "cell_type": "code",
   "execution_count": 51,
   "id": "desperate-preparation",
   "metadata": {},
   "outputs": [
    {
     "data": {
      "text/plain": [
       "['네이버메일', 'no_reply@its-lil.com', '네이버', '네이버']"
      ]
     },
     "execution_count": 51,
     "metadata": {},
     "output_type": "execute_result"
    }
   ],
   "source": [
    "send_list = [raw_list[n].find('a').get_text() for n in range(0, len(raw_list))]\n",
    "send_list"
   ]
  },
  {
   "cell_type": "markdown",
   "id": "dated-adobe",
   "metadata": {},
   "source": [
    "손쉽게 메일을 보낸 사람의 리스트를 확보할 수 있다. 이제 크롬 드라이버를 닫아야 한다."
   ]
  },
  {
   "cell_type": "code",
   "execution_count": 52,
   "id": "ethical-reason",
   "metadata": {},
   "outputs": [],
   "source": [
    "driver.close()"
   ]
  },
  {
   "cell_type": "markdown",
   "id": "generic-creature",
   "metadata": {},
   "source": [
    "close()명령을 이용해서 실행된 크롬 드라이버를 종료할 수 있다."
   ]
  },
  {
   "cell_type": "markdown",
   "id": "fitted-charlotte",
   "metadata": {},
   "source": [
    "## 4-2 서울시 구별 주유소 가격 정보 얻기\n",
    "\n",
    "\n",
    "앞에서 배운 selenium 지식으로 https://goo.gl/VH1A5t 에 접속해서 서울시 구별 주유소 정보를 받아오자.\n",
    "\n"
   ]
  },
  {
   "cell_type": "code",
   "execution_count": 53,
   "id": "czech-alias",
   "metadata": {},
   "outputs": [],
   "source": [
    "from selenium import webdriver"
   ]
  },
  {
   "cell_type": "code",
   "execution_count": 55,
   "id": "parallel-highway",
   "metadata": {},
   "outputs": [],
   "source": [
    "driver = webdriver.Chrome('C:/Users/이재윤/Downloads/chromedriver_win32/chromedriver')\n",
    "driver.get('http://www.naver.com')"
   ]
  },
  {
   "cell_type": "code",
   "execution_count": 57,
   "id": "verified-peace",
   "metadata": {},
   "outputs": [],
   "source": [
    "driver.get('http://www.opinet.co.kr/searRgSelect.do')"
   ]
  },
  {
   "cell_type": "markdown",
   "id": "duplicate-inquiry",
   "metadata": {},
   "source": [
    "우리는 서울시만 검색할 것이니 가만히 두고, 처음에 나타나는 구에 종로구 라는 글자가 있는 부분은 바꿔줘야 한다. \n",
    "리스트 박스 형태로 되어 있어서 해당 리스트의 내용을 받아와서 순차적으로 반환해주면 된다."
   ]
  },
  {
   "cell_type": "code",
   "execution_count": 59,
   "id": "welsh-moldova",
   "metadata": {},
   "outputs": [],
   "source": [
    "gu_list_raw = driver.find_element_by_xpath('''//*[@id=\"SIGUNGU_NM0\"]''')\n",
    "gu_list = gu_list_raw.find_elements_by_tag_name('option')"
   ]
  },
  {
   "cell_type": "markdown",
   "id": "young-plaza",
   "metadata": {},
   "source": [
    "크롬 개발자 도구를 이용해서롬 개발자 도구를 이용해서 구 이름이 위치하는 곳을 클릭하면 나타나는 우측 코드에 마우스 오른쪽 버튼으로 Xpath를 복사하기를 하면 된다. 그렇게 확보한 xpath를 이용해서 element를 찾고 gu_list_raw 변수에 저장한다.\n",
    "구 리스트는 find_elements_by_tag_name으로 option이라는 태그를 찾으면 된다."
   ]
  },
  {
   "cell_type": "code",
   "execution_count": 60,
   "id": "varying-treat",
   "metadata": {},
   "outputs": [
    {
     "data": {
      "text/plain": [
       "['강남구',\n",
       " '강동구',\n",
       " '강북구',\n",
       " '강서구',\n",
       " '관악구',\n",
       " '광진구',\n",
       " '구로구',\n",
       " '금천구',\n",
       " '노원구',\n",
       " '도봉구',\n",
       " '동대문구',\n",
       " '동작구',\n",
       " '마포구',\n",
       " '서대문구',\n",
       " '서초구',\n",
       " '성동구',\n",
       " '성북구',\n",
       " '송파구',\n",
       " '양천구',\n",
       " '영등포구',\n",
       " '용산구',\n",
       " '은평구',\n",
       " '종로구',\n",
       " '중구',\n",
       " '중랑구']"
      ]
     },
     "execution_count": 60,
     "metadata": {},
     "output_type": "execute_result"
    }
   ],
   "source": [
    "gu_names = [option.get_attribute(\"value\") for option in gu_list]\n",
    "gu_names.remove('')\n",
    "gu_names"
   ]
  },
  {
   "cell_type": "markdown",
   "id": "fatal-violin",
   "metadata": {},
   "source": [
    "그렇게 얻은 결과가 나타난다. 구 이름을 전체적으로 다 알았다. 구 이름이 있는 태그에 위 코드에서 저장한 gu_names에서 첫 번째 것을 한번 시험 삼아 입력하자."
   ]
  },
  {
   "cell_type": "code",
   "execution_count": 63,
   "id": "entire-victorian",
   "metadata": {},
   "outputs": [],
   "source": [
    "element = driver.find_element_by_id(\"SIGUNGU_NM0\")\n",
    "element.send_keys(gu_names[0])"
   ]
  },
  {
   "cell_type": "code",
   "execution_count": 65,
   "id": "objective-lodging",
   "metadata": {},
   "outputs": [
    {
     "data": {
      "text/plain": [
       "True"
      ]
     },
     "execution_count": 65,
     "metadata": {},
     "output_type": "execute_result"
    }
   ],
   "source": [
    "driver.save_screenshot('C:/Users/이재윤/images/002.jpg')"
   ]
  },
  {
   "cell_type": "markdown",
   "id": "guided-outdoors",
   "metadata": {},
   "source": [
    "그러면 구 이름부분이 변경된 것을 알 수 있다. 그리고 조회 버튼을 누르면 된다. 조회 버튼의 xpath도 알아낼 수 있다."
   ]
  },
  {
   "cell_type": "code",
   "execution_count": 68,
   "id": "brutal-helen",
   "metadata": {},
   "outputs": [],
   "source": [
    "xpath ='''//*[@id=\"searRgSelect\"]/span'''\n",
    "element_sel_gu = driver.find_element_by_xpath(xpath).click()"
   ]
  },
  {
   "cell_type": "markdown",
   "id": "organized-production",
   "metadata": {},
   "source": [
    "그리고 해당 xpath를 찾아서 click()을 붙여 주면 된다. 결과가 나타난 곳 아래에 엑셀저장 버튼을 눌러서 엑셀로 내용을 저장해야 한다. 지금까지 한 것처럼 xpat를 알아내서 엑셀 저장 버튼을 누른다."
   ]
  },
  {
   "cell_type": "code",
   "execution_count": 75,
   "id": "brown-provision",
   "metadata": {},
   "outputs": [],
   "source": [
    "xpath = \"\"\"//*[@id=\"glopopd_excel\"]/span\"\"\"\n",
    "element_get_excel = driver.find_element_by_xpath(xpath).click()"
   ]
  },
  {
   "cell_type": "markdown",
   "id": "bored-karaoke",
   "metadata": {},
   "source": [
    "이렇게 엑셀로 저장 버튼까지 누르고 나면 당연히 크럼 드라이버가 실행하는 브라우저가 지정된 다운로드 폴더에 파일을 다운로드 한다. "
   ]
  },
  {
   "cell_type": "code",
   "execution_count": 79,
   "id": "congressional-injury",
   "metadata": {},
   "outputs": [
    {
     "name": "stderr",
     "output_type": "stream",
     "text": [
      "<ipython-input-79-da81b98703dc>:4: TqdmDeprecationWarning: This function will be removed in tqdm==5.0.0\n",
      "Please use `tqdm.notebook.tqdm` instead of `tqdm.tqdm_notebook`\n",
      "  for gu in tqdm_notebook(gu_names):\n"
     ]
    },
    {
     "data": {
      "application/vnd.jupyter.widget-view+json": {
       "model_id": "d8788c39f55e4a26bf0444d337476957",
       "version_major": 2,
       "version_minor": 0
      },
      "text/plain": [
       "  0%|          | 0/25 [00:00<?, ?it/s]"
      ]
     },
     "metadata": {},
     "output_type": "display_data"
    }
   ],
   "source": [
    "import time\n",
    "from tqdm import tqdm_notebook\n",
    "\n",
    "for gu in tqdm_notebook(gu_names):\n",
    "    element = driver.find_element_by_id('SIGUNGU_NM0')\n",
    "    element.send_keys(gu)\n",
    "    \n",
    "    time.sleep(2)\n",
    "    \n",
    "    xpath ='''//*[@id=\"searRgSelect\"]/span'''\n",
    "    element_sel_gu = driver.find_element_by_xpath(xpath).click()\n",
    "    \n",
    "    time.sleep(1)\n",
    "    \n",
    "    xpath = '''//*[@id=\"glopopd_excel\"]/span'''\n",
    "    element_get_excel = driver.find_element_by_xpath(xpath).click()\n",
    "    \n",
    "    time.sleep(1)\n"
   ]
  },
  {
   "cell_type": "markdown",
   "id": "solar-affair",
   "metadata": {},
   "source": [
    "이제 서울시 25개 구에 대해 반복문을 수행하면 된다.적절히 중간중간에 기다리라는 time.sleep 명령을 사용했고 25개 구에 대한 주유소 기름값을 저장한 엑셀파일이 다운로드 폴더에 저장된다."
   ]
  },
  {
   "cell_type": "code",
   "execution_count": 81,
   "id": "gentle-double",
   "metadata": {},
   "outputs": [],
   "source": [
    "driver.close()"
   ]
  },
  {
   "cell_type": "markdown",
   "id": "outdoor-technical",
   "metadata": {},
   "source": [
    "## 4-3 구별 주유 가격에 대한 데이터의 정리\n",
    "\n",
    "\n",
    "앞서 받은 25개의 엑셀 파일을 우리가 다루는 data 폴더로 옮긴다. 이전에 배운 엑셀 파일을 read하는 명령으로 하나하나 읽으면 25줄을 입력해야 하지만 파이썬에는 이를 해결해줄 좋은 모듈이 있다.\n",
    "pandas와 파일 glob 라고 하는 파일 경로등을 쉽게 접근할 수 있게 해주는 모듈을 import 하자."
   ]
  },
  {
   "cell_type": "code",
   "execution_count": 82,
   "id": "equipped-nigeria",
   "metadata": {},
   "outputs": [],
   "source": [
    "import pandas as pd\n",
    "from glob import glob"
   ]
  },
  {
   "cell_type": "code",
   "execution_count": 83,
   "id": "sustainable-chapter",
   "metadata": {},
   "outputs": [
    {
     "data": {
      "text/plain": [
       "['C:/Users/이재윤/DataScience/data\\\\지역_위치별(주유소) (1).xls',\n",
       " 'C:/Users/이재윤/DataScience/data\\\\지역_위치별(주유소) (10).xls',\n",
       " 'C:/Users/이재윤/DataScience/data\\\\지역_위치별(주유소) (11).xls',\n",
       " 'C:/Users/이재윤/DataScience/data\\\\지역_위치별(주유소) (12).xls',\n",
       " 'C:/Users/이재윤/DataScience/data\\\\지역_위치별(주유소) (13).xls',\n",
       " 'C:/Users/이재윤/DataScience/data\\\\지역_위치별(주유소) (14).xls',\n",
       " 'C:/Users/이재윤/DataScience/data\\\\지역_위치별(주유소) (15).xls',\n",
       " 'C:/Users/이재윤/DataScience/data\\\\지역_위치별(주유소) (16).xls',\n",
       " 'C:/Users/이재윤/DataScience/data\\\\지역_위치별(주유소) (17).xls',\n",
       " 'C:/Users/이재윤/DataScience/data\\\\지역_위치별(주유소) (18).xls',\n",
       " 'C:/Users/이재윤/DataScience/data\\\\지역_위치별(주유소) (19).xls',\n",
       " 'C:/Users/이재윤/DataScience/data\\\\지역_위치별(주유소) (2).xls',\n",
       " 'C:/Users/이재윤/DataScience/data\\\\지역_위치별(주유소) (20).xls',\n",
       " 'C:/Users/이재윤/DataScience/data\\\\지역_위치별(주유소) (21).xls',\n",
       " 'C:/Users/이재윤/DataScience/data\\\\지역_위치별(주유소) (22).xls',\n",
       " 'C:/Users/이재윤/DataScience/data\\\\지역_위치별(주유소) (23).xls',\n",
       " 'C:/Users/이재윤/DataScience/data\\\\지역_위치별(주유소) (24).xls',\n",
       " 'C:/Users/이재윤/DataScience/data\\\\지역_위치별(주유소) (3).xls',\n",
       " 'C:/Users/이재윤/DataScience/data\\\\지역_위치별(주유소) (4).xls',\n",
       " 'C:/Users/이재윤/DataScience/data\\\\지역_위치별(주유소) (5).xls',\n",
       " 'C:/Users/이재윤/DataScience/data\\\\지역_위치별(주유소) (6).xls',\n",
       " 'C:/Users/이재윤/DataScience/data\\\\지역_위치별(주유소) (7).xls',\n",
       " 'C:/Users/이재윤/DataScience/data\\\\지역_위치별(주유소) (8).xls',\n",
       " 'C:/Users/이재윤/DataScience/data\\\\지역_위치별(주유소) (9).xls',\n",
       " 'C:/Users/이재윤/DataScience/data\\\\지역_위치별(주유소).xls']"
      ]
     },
     "execution_count": 83,
     "metadata": {},
     "output_type": "execute_result"
    }
   ],
   "source": [
    "glob('C:/Users/이재윤/DataScience/data/지역*xls')"
   ]
  },
  {
   "cell_type": "markdown",
   "id": "entertaining-weekly",
   "metadata": {},
   "source": [
    "위와 같이 ./data 폴더 안에 지역으로 시작하는 xls 파일 전체를 의미하는 ../data/지역*.xls과 같은 명령을 사용할 수 있다."
   ]
  },
  {
   "cell_type": "code",
   "execution_count": 87,
   "id": "married-fossil",
   "metadata": {},
   "outputs": [
    {
     "data": {
      "text/plain": [
       "['C:/Users/이재윤/DataScience/data\\\\지역_위치별(주유소) (1).xls',\n",
       " 'C:/Users/이재윤/DataScience/data\\\\지역_위치별(주유소) (10).xls',\n",
       " 'C:/Users/이재윤/DataScience/data\\\\지역_위치별(주유소) (11).xls',\n",
       " 'C:/Users/이재윤/DataScience/data\\\\지역_위치별(주유소) (12).xls',\n",
       " 'C:/Users/이재윤/DataScience/data\\\\지역_위치별(주유소) (13).xls',\n",
       " 'C:/Users/이재윤/DataScience/data\\\\지역_위치별(주유소) (14).xls',\n",
       " 'C:/Users/이재윤/DataScience/data\\\\지역_위치별(주유소) (15).xls',\n",
       " 'C:/Users/이재윤/DataScience/data\\\\지역_위치별(주유소) (16).xls',\n",
       " 'C:/Users/이재윤/DataScience/data\\\\지역_위치별(주유소) (17).xls',\n",
       " 'C:/Users/이재윤/DataScience/data\\\\지역_위치별(주유소) (18).xls',\n",
       " 'C:/Users/이재윤/DataScience/data\\\\지역_위치별(주유소) (19).xls',\n",
       " 'C:/Users/이재윤/DataScience/data\\\\지역_위치별(주유소) (2).xls',\n",
       " 'C:/Users/이재윤/DataScience/data\\\\지역_위치별(주유소) (20).xls',\n",
       " 'C:/Users/이재윤/DataScience/data\\\\지역_위치별(주유소) (21).xls',\n",
       " 'C:/Users/이재윤/DataScience/data\\\\지역_위치별(주유소) (22).xls',\n",
       " 'C:/Users/이재윤/DataScience/data\\\\지역_위치별(주유소) (23).xls',\n",
       " 'C:/Users/이재윤/DataScience/data\\\\지역_위치별(주유소) (24).xls',\n",
       " 'C:/Users/이재윤/DataScience/data\\\\지역_위치별(주유소) (3).xls',\n",
       " 'C:/Users/이재윤/DataScience/data\\\\지역_위치별(주유소) (4).xls',\n",
       " 'C:/Users/이재윤/DataScience/data\\\\지역_위치별(주유소) (5).xls',\n",
       " 'C:/Users/이재윤/DataScience/data\\\\지역_위치별(주유소) (6).xls',\n",
       " 'C:/Users/이재윤/DataScience/data\\\\지역_위치별(주유소) (7).xls',\n",
       " 'C:/Users/이재윤/DataScience/data\\\\지역_위치별(주유소) (8).xls',\n",
       " 'C:/Users/이재윤/DataScience/data\\\\지역_위치별(주유소) (9).xls',\n",
       " 'C:/Users/이재윤/DataScience/data\\\\지역_위치별(주유소).xls']"
      ]
     },
     "execution_count": 87,
     "metadata": {},
     "output_type": "execute_result"
    }
   ],
   "source": [
    "stations_files = glob('C:/Users/이재윤/DataScience/data/지역*xls')\n",
    "stations_files"
   ]
  },
  {
   "cell_type": "markdown",
   "id": "traditional-generator",
   "metadata": {},
   "source": [
    "이제 station_files 변수에 각 엑셀 파일의 경로와 이름을 리스트로 저장한다."
   ]
  },
  {
   "cell_type": "code",
   "execution_count": 88,
   "id": "retained-settlement",
   "metadata": {},
   "outputs": [],
   "source": [
    "tmp_raw = []\n",
    "\n",
    "for file_name in stations_files:\n",
    "    tmp = pd.read_excel(file_name, header=2)\n",
    "    tmp_raw.append(tmp)\n",
    "    \n",
    "station_raw = pd.concat(tmp_raw)"
   ]
  },
  {
   "cell_type": "markdown",
   "id": "lined-botswana",
   "metadata": {},
   "source": [
    "그리고 read_excel로 각 파일을 반복문을 이용해서 읽은 후 tml_raw 변수에 append 시킨다. 반복문이 끝나고 나면 concat 명령으로 쉽게 하나로 합칠 수 있다."
   ]
  },
  {
   "cell_type": "code",
   "execution_count": 89,
   "id": "potential-ethernet",
   "metadata": {},
   "outputs": [
    {
     "name": "stdout",
     "output_type": "stream",
     "text": [
      "<class 'pandas.core.frame.DataFrame'>\n",
      "Int64Index: 537 entries, 0 to 45\n",
      "Data columns (total 10 columns):\n",
      " #   Column  Non-Null Count  Dtype \n",
      "---  ------  --------------  ----- \n",
      " 0   지역      537 non-null    object\n",
      " 1   상호      537 non-null    object\n",
      " 2   주소      537 non-null    object\n",
      " 3   상표      537 non-null    object\n",
      " 4   전화번호    537 non-null    object\n",
      " 5   셀프여부    537 non-null    object\n",
      " 6   고급휘발유   537 non-null    object\n",
      " 7   휘발유     537 non-null    object\n",
      " 8   경유      537 non-null    object\n",
      " 9   실내등유    537 non-null    object\n",
      "dtypes: object(10)\n",
      "memory usage: 46.1+ KB\n"
     ]
    }
   ],
   "source": [
    "station_raw.info()"
   ]
  },
  {
   "cell_type": "markdown",
   "id": "diverse-saturn",
   "metadata": {},
   "source": [
    "총 545개의 주유소 정보가 저장된 것을 알 수 있다. 하지만 가격 정보가 숫자형(int, float)이 아니어서 나중에 처리하자."
   ]
  },
  {
   "cell_type": "code",
   "execution_count": 90,
   "id": "banned-church",
   "metadata": {},
   "outputs": [
    {
     "data": {
      "text/html": [
       "<div>\n",
       "<style scoped>\n",
       "    .dataframe tbody tr th:only-of-type {\n",
       "        vertical-align: middle;\n",
       "    }\n",
       "\n",
       "    .dataframe tbody tr th {\n",
       "        vertical-align: top;\n",
       "    }\n",
       "\n",
       "    .dataframe thead th {\n",
       "        text-align: right;\n",
       "    }\n",
       "</style>\n",
       "<table border=\"1\" class=\"dataframe\">\n",
       "  <thead>\n",
       "    <tr style=\"text-align: right;\">\n",
       "      <th></th>\n",
       "      <th>지역</th>\n",
       "      <th>상호</th>\n",
       "      <th>주소</th>\n",
       "      <th>상표</th>\n",
       "      <th>전화번호</th>\n",
       "      <th>셀프여부</th>\n",
       "      <th>고급휘발유</th>\n",
       "      <th>휘발유</th>\n",
       "      <th>경유</th>\n",
       "      <th>실내등유</th>\n",
       "    </tr>\n",
       "  </thead>\n",
       "  <tbody>\n",
       "    <tr>\n",
       "      <th>0</th>\n",
       "      <td>서울특별시</td>\n",
       "      <td>오렌지주유소</td>\n",
       "      <td>서울 강동구 성안로 102 (성내동)</td>\n",
       "      <td>SK에너지</td>\n",
       "      <td>02-484-6165</td>\n",
       "      <td>N</td>\n",
       "      <td>-</td>\n",
       "      <td>1554</td>\n",
       "      <td>1354</td>\n",
       "      <td>997</td>\n",
       "    </tr>\n",
       "    <tr>\n",
       "      <th>1</th>\n",
       "      <td>서울특별시</td>\n",
       "      <td>구천면주유소</td>\n",
       "      <td>서울 강동구 구천면로 357 (암사동)</td>\n",
       "      <td>현대오일뱅크</td>\n",
       "      <td>02-441-0536</td>\n",
       "      <td>N</td>\n",
       "      <td>-</td>\n",
       "      <td>1556</td>\n",
       "      <td>1355</td>\n",
       "      <td>-</td>\n",
       "    </tr>\n",
       "    <tr>\n",
       "      <th>2</th>\n",
       "      <td>서울특별시</td>\n",
       "      <td>GS칼텍스㈜직영 신월주유소</td>\n",
       "      <td>서울 강동구 양재대로 1323 (성내동)</td>\n",
       "      <td>GS칼텍스</td>\n",
       "      <td>02-475-2600</td>\n",
       "      <td>N</td>\n",
       "      <td>1855</td>\n",
       "      <td>1559</td>\n",
       "      <td>1349</td>\n",
       "      <td>1000</td>\n",
       "    </tr>\n",
       "    <tr>\n",
       "      <th>3</th>\n",
       "      <td>서울특별시</td>\n",
       "      <td>광성주유소</td>\n",
       "      <td>서울 강동구 올림픽로 673 (천호동)</td>\n",
       "      <td>S-OIL</td>\n",
       "      <td>02-470-5133</td>\n",
       "      <td>N</td>\n",
       "      <td>-</td>\n",
       "      <td>1578</td>\n",
       "      <td>1388</td>\n",
       "      <td>1100</td>\n",
       "    </tr>\n",
       "    <tr>\n",
       "      <th>4</th>\n",
       "      <td>서울특별시</td>\n",
       "      <td>(주)소모에너지엔테크놀러지성내주유소</td>\n",
       "      <td>서울 강동구 올림픽로 578 (성내동)</td>\n",
       "      <td>GS칼텍스</td>\n",
       "      <td>02-479-3838</td>\n",
       "      <td>Y</td>\n",
       "      <td>-</td>\n",
       "      <td>1588</td>\n",
       "      <td>1388</td>\n",
       "      <td>-</td>\n",
       "    </tr>\n",
       "  </tbody>\n",
       "</table>\n",
       "</div>"
      ],
      "text/plain": [
       "      지역                   상호                      주소      상표         전화번호  \\\n",
       "0  서울특별시               오렌지주유소    서울 강동구 성안로 102 (성내동)   SK에너지  02-484-6165   \n",
       "1  서울특별시               구천면주유소   서울 강동구 구천면로 357 (암사동)  현대오일뱅크  02-441-0536   \n",
       "2  서울특별시       GS칼텍스㈜직영 신월주유소  서울 강동구 양재대로 1323 (성내동)   GS칼텍스  02-475-2600   \n",
       "3  서울특별시                광성주유소   서울 강동구 올림픽로 673 (천호동)   S-OIL  02-470-5133   \n",
       "4  서울특별시  (주)소모에너지엔테크놀러지성내주유소   서울 강동구 올림픽로 578 (성내동)   GS칼텍스  02-479-3838   \n",
       "\n",
       "  셀프여부 고급휘발유   휘발유    경유  실내등유  \n",
       "0    N     -  1554  1354   997  \n",
       "1    N     -  1556  1355     -  \n",
       "2    N  1855  1559  1349  1000  \n",
       "3    N     -  1578  1388  1100  \n",
       "4    Y     -  1588  1388     -  "
      ]
     },
     "execution_count": 90,
     "metadata": {},
     "output_type": "execute_result"
    }
   ],
   "source": [
    "station_raw.head()"
   ]
  },
  {
   "cell_type": "code",
   "execution_count": 91,
   "id": "valuable-gathering",
   "metadata": {},
   "outputs": [
    {
     "data": {
      "text/html": [
       "<div>\n",
       "<style scoped>\n",
       "    .dataframe tbody tr th:only-of-type {\n",
       "        vertical-align: middle;\n",
       "    }\n",
       "\n",
       "    .dataframe tbody tr th {\n",
       "        vertical-align: top;\n",
       "    }\n",
       "\n",
       "    .dataframe thead th {\n",
       "        text-align: right;\n",
       "    }\n",
       "</style>\n",
       "<table border=\"1\" class=\"dataframe\">\n",
       "  <thead>\n",
       "    <tr style=\"text-align: right;\">\n",
       "      <th></th>\n",
       "      <th>Oil_store</th>\n",
       "      <th>주소</th>\n",
       "      <th>가격</th>\n",
       "      <th>셀프</th>\n",
       "      <th>상표</th>\n",
       "    </tr>\n",
       "  </thead>\n",
       "  <tbody>\n",
       "    <tr>\n",
       "      <th>0</th>\n",
       "      <td>오렌지주유소</td>\n",
       "      <td>서울 강동구 성안로 102 (성내동)</td>\n",
       "      <td>1554</td>\n",
       "      <td>N</td>\n",
       "      <td>SK에너지</td>\n",
       "    </tr>\n",
       "    <tr>\n",
       "      <th>1</th>\n",
       "      <td>구천면주유소</td>\n",
       "      <td>서울 강동구 구천면로 357 (암사동)</td>\n",
       "      <td>1556</td>\n",
       "      <td>N</td>\n",
       "      <td>현대오일뱅크</td>\n",
       "    </tr>\n",
       "    <tr>\n",
       "      <th>2</th>\n",
       "      <td>GS칼텍스㈜직영 신월주유소</td>\n",
       "      <td>서울 강동구 양재대로 1323 (성내동)</td>\n",
       "      <td>1559</td>\n",
       "      <td>N</td>\n",
       "      <td>GS칼텍스</td>\n",
       "    </tr>\n",
       "    <tr>\n",
       "      <th>3</th>\n",
       "      <td>광성주유소</td>\n",
       "      <td>서울 강동구 올림픽로 673 (천호동)</td>\n",
       "      <td>1578</td>\n",
       "      <td>N</td>\n",
       "      <td>S-OIL</td>\n",
       "    </tr>\n",
       "    <tr>\n",
       "      <th>4</th>\n",
       "      <td>(주)소모에너지엔테크놀러지성내주유소</td>\n",
       "      <td>서울 강동구 올림픽로 578 (성내동)</td>\n",
       "      <td>1588</td>\n",
       "      <td>Y</td>\n",
       "      <td>GS칼텍스</td>\n",
       "    </tr>\n",
       "  </tbody>\n",
       "</table>\n",
       "</div>"
      ],
      "text/plain": [
       "             Oil_store                      주소    가격 셀프      상표\n",
       "0               오렌지주유소    서울 강동구 성안로 102 (성내동)  1554  N   SK에너지\n",
       "1               구천면주유소   서울 강동구 구천면로 357 (암사동)  1556  N  현대오일뱅크\n",
       "2       GS칼텍스㈜직영 신월주유소  서울 강동구 양재대로 1323 (성내동)  1559  N   GS칼텍스\n",
       "3                광성주유소   서울 강동구 올림픽로 673 (천호동)  1578  N   S-OIL\n",
       "4  (주)소모에너지엔테크놀러지성내주유소   서울 강동구 올림픽로 578 (성내동)  1588  Y   GS칼텍스"
      ]
     },
     "execution_count": 91,
     "metadata": {},
     "output_type": "execute_result"
    }
   ],
   "source": [
    "stations = pd.DataFrame({'Oil_store': station_raw['상호'],\n",
    "                         '주소': station_raw['주소'],\n",
    "                         '가격': station_raw['휘발유'],\n",
    "                         '셀프': station_raw['셀프여부'],\n",
    "                         '상표': station_raw['상표']\n",
    "                        })\n",
    "stations.head()"
   ]
  },
  {
   "cell_type": "markdown",
   "id": "ignored-bread",
   "metadata": {},
   "source": [
    "위 처럼 원하는 컬럼만 가지고 오고 이름도 다시 정의해서 stations 라는 변수에 저장하자."
   ]
  },
  {
   "cell_type": "markdown",
   "id": "eleven-victorian",
   "metadata": {},
   "source": [
    "여기에 추가로 주소에서 구 이름만 추출한다. 그래서 구별 주유 가격도 조사하자."
   ]
  },
  {
   "cell_type": "code",
   "execution_count": 92,
   "id": "hearing-north",
   "metadata": {},
   "outputs": [
    {
     "data": {
      "text/html": [
       "<div>\n",
       "<style scoped>\n",
       "    .dataframe tbody tr th:only-of-type {\n",
       "        vertical-align: middle;\n",
       "    }\n",
       "\n",
       "    .dataframe tbody tr th {\n",
       "        vertical-align: top;\n",
       "    }\n",
       "\n",
       "    .dataframe thead th {\n",
       "        text-align: right;\n",
       "    }\n",
       "</style>\n",
       "<table border=\"1\" class=\"dataframe\">\n",
       "  <thead>\n",
       "    <tr style=\"text-align: right;\">\n",
       "      <th></th>\n",
       "      <th>Oil_store</th>\n",
       "      <th>주소</th>\n",
       "      <th>가격</th>\n",
       "      <th>셀프</th>\n",
       "      <th>상표</th>\n",
       "      <th>구</th>\n",
       "    </tr>\n",
       "  </thead>\n",
       "  <tbody>\n",
       "    <tr>\n",
       "      <th>0</th>\n",
       "      <td>오렌지주유소</td>\n",
       "      <td>서울 강동구 성안로 102 (성내동)</td>\n",
       "      <td>1554</td>\n",
       "      <td>N</td>\n",
       "      <td>SK에너지</td>\n",
       "      <td>강동구</td>\n",
       "    </tr>\n",
       "    <tr>\n",
       "      <th>1</th>\n",
       "      <td>구천면주유소</td>\n",
       "      <td>서울 강동구 구천면로 357 (암사동)</td>\n",
       "      <td>1556</td>\n",
       "      <td>N</td>\n",
       "      <td>현대오일뱅크</td>\n",
       "      <td>강동구</td>\n",
       "    </tr>\n",
       "    <tr>\n",
       "      <th>2</th>\n",
       "      <td>GS칼텍스㈜직영 신월주유소</td>\n",
       "      <td>서울 강동구 양재대로 1323 (성내동)</td>\n",
       "      <td>1559</td>\n",
       "      <td>N</td>\n",
       "      <td>GS칼텍스</td>\n",
       "      <td>강동구</td>\n",
       "    </tr>\n",
       "    <tr>\n",
       "      <th>3</th>\n",
       "      <td>광성주유소</td>\n",
       "      <td>서울 강동구 올림픽로 673 (천호동)</td>\n",
       "      <td>1578</td>\n",
       "      <td>N</td>\n",
       "      <td>S-OIL</td>\n",
       "      <td>강동구</td>\n",
       "    </tr>\n",
       "    <tr>\n",
       "      <th>4</th>\n",
       "      <td>(주)소모에너지엔테크놀러지성내주유소</td>\n",
       "      <td>서울 강동구 올림픽로 578 (성내동)</td>\n",
       "      <td>1588</td>\n",
       "      <td>Y</td>\n",
       "      <td>GS칼텍스</td>\n",
       "      <td>강동구</td>\n",
       "    </tr>\n",
       "  </tbody>\n",
       "</table>\n",
       "</div>"
      ],
      "text/plain": [
       "             Oil_store                      주소    가격 셀프      상표    구\n",
       "0               오렌지주유소    서울 강동구 성안로 102 (성내동)  1554  N   SK에너지  강동구\n",
       "1               구천면주유소   서울 강동구 구천면로 357 (암사동)  1556  N  현대오일뱅크  강동구\n",
       "2       GS칼텍스㈜직영 신월주유소  서울 강동구 양재대로 1323 (성내동)  1559  N   GS칼텍스  강동구\n",
       "3                광성주유소   서울 강동구 올림픽로 673 (천호동)  1578  N   S-OIL  강동구\n",
       "4  (주)소모에너지엔테크놀러지성내주유소   서울 강동구 올림픽로 578 (성내동)  1588  Y   GS칼텍스  강동구"
      ]
     },
     "execution_count": 92,
     "metadata": {},
     "output_type": "execute_result"
    }
   ],
   "source": [
    "stations['구'] = [eachAddress.split()[1] for eachAddress in stations['주소']]\n",
    "stations.head()"
   ]
  },
  {
   "cell_type": "markdown",
   "id": "thick-processing",
   "metadata": {},
   "source": [
    "위 출력을 보면 주소 컬럼의 주소를 봤을 때 빈 칸을 기준으로 분리(split) 시키고 두 번째 단어를 선택하면 구 이름이 될 것 같다.\n",
    "\n",
    "\n",
    "일단 head()만 조사했을 때는 이상 없어 보이지만 5백여 개나 되는 데이터를 다 보기에는 난감하다. 이때는 unique() 검사를 수행하자."
   ]
  },
  {
   "cell_type": "code",
   "execution_count": 94,
   "id": "standing-platinum",
   "metadata": {},
   "outputs": [
    {
     "data": {
      "text/plain": [
       "array(['강동구', '동대문구', '동작구', '마포구', '서대문구', '서초구', '성동구', '서울특별시', '성북구',\n",
       "       '송파구', '양천구', '영등포구', '강북구', '용산구', '은평구', '종로구', '중구', '중랑구',\n",
       "       '강서구', '관악구', '광진구', '구로구', '금천구', '노원구', '도봉구', '특별시', '강남구'],\n",
       "      dtype=object)"
      ]
     },
     "execution_count": 94,
     "metadata": {},
     "output_type": "execute_result"
    }
   ],
   "source": [
    "stations['구'].unique()"
   ]
  },
  {
   "cell_type": "raw",
   "id": "french-newark",
   "metadata": {},
   "source": [
    "결과를 보면 '서울특별시'와 '특별시'라는 항목이 구 이름이 아닌데 들어 있다는 것을 확인할 수 있다."
   ]
  },
  {
   "cell_type": "code",
   "execution_count": 95,
   "id": "designed-testing",
   "metadata": {},
   "outputs": [
    {
     "data": {
      "text/html": [
       "<div>\n",
       "<style scoped>\n",
       "    .dataframe tbody tr th:only-of-type {\n",
       "        vertical-align: middle;\n",
       "    }\n",
       "\n",
       "    .dataframe tbody tr th {\n",
       "        vertical-align: top;\n",
       "    }\n",
       "\n",
       "    .dataframe thead th {\n",
       "        text-align: right;\n",
       "    }\n",
       "</style>\n",
       "<table border=\"1\" class=\"dataframe\">\n",
       "  <thead>\n",
       "    <tr style=\"text-align: right;\">\n",
       "      <th></th>\n",
       "      <th>Oil_store</th>\n",
       "      <th>주소</th>\n",
       "      <th>가격</th>\n",
       "      <th>셀프</th>\n",
       "      <th>상표</th>\n",
       "      <th>구</th>\n",
       "    </tr>\n",
       "  </thead>\n",
       "  <tbody>\n",
       "    <tr>\n",
       "      <th>12</th>\n",
       "      <td>SK네트웍스(주)효진주유소</td>\n",
       "      <td>1 서울특별시 성동구 동일로 129 (성수동2가)</td>\n",
       "      <td>1654</td>\n",
       "      <td>N</td>\n",
       "      <td>SK에너지</td>\n",
       "      <td>서울특별시</td>\n",
       "    </tr>\n",
       "  </tbody>\n",
       "</table>\n",
       "</div>"
      ],
      "text/plain": [
       "         Oil_store                           주소    가격 셀프     상표      구\n",
       "12  SK네트웍스(주)효진주유소  1 서울특별시 성동구 동일로 129 (성수동2가)  1654  N  SK에너지  서울특별시"
      ]
     },
     "execution_count": 95,
     "metadata": {},
     "output_type": "execute_result"
    }
   ],
   "source": [
    "stations[stations['구']=='서울특별시']"
   ]
  },
  {
   "cell_type": "markdown",
   "id": "positive-forum",
   "metadata": {},
   "source": [
    "서울 특별시를 확인해보니 애초 주소가 입력될 때 알 수 없는 글자가 하나 들어가서 칸 수가 맞지 않았다.\n"
   ]
  },
  {
   "cell_type": "code",
   "execution_count": 97,
   "id": "running-earthquake",
   "metadata": {},
   "outputs": [
    {
     "data": {
      "text/plain": [
       "array(['강동구', '동대문구', '동작구', '마포구', '서대문구', '서초구', '성동구', '성북구', '송파구',\n",
       "       '양천구', '영등포구', '강북구', '용산구', '은평구', '종로구', '중구', '중랑구', '강서구',\n",
       "       '관악구', '광진구', '구로구', '금천구', '노원구', '도봉구', '특별시', '강남구'],\n",
       "      dtype=object)"
      ]
     },
     "execution_count": 97,
     "metadata": {},
     "output_type": "execute_result"
    }
   ],
   "source": [
    "stations.loc[stations['구']=='서울특별시','구'] = '성동구'\n",
    "stations['구'].unique()"
   ]
  },
  {
   "cell_type": "markdown",
   "id": "stylish-midnight",
   "metadata": {},
   "source": [
    "위와 같이 직접 변경하자."
   ]
  },
  {
   "cell_type": "code",
   "execution_count": 98,
   "id": "continent-greek",
   "metadata": {},
   "outputs": [
    {
     "data": {
      "text/html": [
       "<div>\n",
       "<style scoped>\n",
       "    .dataframe tbody tr th:only-of-type {\n",
       "        vertical-align: middle;\n",
       "    }\n",
       "\n",
       "    .dataframe tbody tr th {\n",
       "        vertical-align: top;\n",
       "    }\n",
       "\n",
       "    .dataframe thead th {\n",
       "        text-align: right;\n",
       "    }\n",
       "</style>\n",
       "<table border=\"1\" class=\"dataframe\">\n",
       "  <thead>\n",
       "    <tr style=\"text-align: right;\">\n",
       "      <th></th>\n",
       "      <th>Oil_store</th>\n",
       "      <th>주소</th>\n",
       "      <th>가격</th>\n",
       "      <th>셀프</th>\n",
       "      <th>상표</th>\n",
       "      <th>구</th>\n",
       "    </tr>\n",
       "  </thead>\n",
       "  <tbody>\n",
       "    <tr>\n",
       "      <th>10</th>\n",
       "      <td>서현주유소</td>\n",
       "      <td>서울 특별시 도봉구 방학로 142 (방학동)</td>\n",
       "      <td>1524</td>\n",
       "      <td>Y</td>\n",
       "      <td>S-OIL</td>\n",
       "      <td>특별시</td>\n",
       "    </tr>\n",
       "  </tbody>\n",
       "</table>\n",
       "</div>"
      ],
      "text/plain": [
       "   Oil_store                        주소    가격 셀프     상표    구\n",
       "10     서현주유소  서울 특별시 도봉구 방학로 142 (방학동)  1524  Y  S-OIL  특별시"
      ]
     },
     "execution_count": 98,
     "metadata": {},
     "output_type": "execute_result"
    }
   ],
   "source": [
    "stations[stations['구']=='특별시']"
   ]
  },
  {
   "cell_type": "markdown",
   "id": "pending-affect",
   "metadata": {},
   "source": [
    "또 특별시로 되었던 것도 검색 했다. 이번엔 서울특별시라 적지 않고 서울과 특별시를 띄어쓰기를 해서 발생한 문제이다."
   ]
  },
  {
   "cell_type": "code",
   "execution_count": 101,
   "id": "actual-retailer",
   "metadata": {},
   "outputs": [
    {
     "data": {
      "text/plain": [
       "array(['강동구', '동대문구', '동작구', '마포구', '서대문구', '서초구', '성동구', '성북구', '송파구',\n",
       "       '양천구', '영등포구', '강북구', '용산구', '은평구', '종로구', '중구', '중랑구', '강서구',\n",
       "       '관악구', '광진구', '구로구', '금천구', '노원구', '도봉구', '강남구'], dtype=object)"
      ]
     },
     "execution_count": 101,
     "metadata": {},
     "output_type": "execute_result"
    }
   ],
   "source": [
    "stations.loc[stations['구']=='특별시','구']= '도봉구'\n",
    "stations['구'].unique()"
   ]
  },
  {
   "cell_type": "code",
   "execution_count": null,
   "id": "multiple-warrant",
   "metadata": {},
   "outputs": [],
   "source": []
  }
 ],
 "metadata": {
  "kernelspec": {
   "display_name": "Python 3",
   "language": "python",
   "name": "python3"
  },
  "language_info": {
   "codemirror_mode": {
    "name": "ipython",
    "version": 3
   },
   "file_extension": ".py",
   "mimetype": "text/x-python",
   "name": "python",
   "nbconvert_exporter": "python",
   "pygments_lexer": "ipython3",
   "version": "3.9.2"
  }
 },
 "nbformat": 4,
 "nbformat_minor": 5
}
