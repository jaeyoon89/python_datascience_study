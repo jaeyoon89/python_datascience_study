{
 "cells": [
  {
   "cell_type": "markdown",
   "id": "retained-glance",
   "metadata": {},
   "source": [
    "<cneter>\n",
    "<img src=\"https://raw.githubusercontent.com/PinkWink/DataScience/master/img/title.jpg\" width=\"200\" height=\"200\"><br>\n",
    "<?center>"
   ]
  },
  {
   "cell_type": "markdown",
   "id": "authorized-regression",
   "metadata": {},
   "source": [
    "# 1장 - 서울시 구별 CCTV 현황 분석\n",
    "\n",
    "\n",
    "\n",
    "## 1-1 CCTV 현황과 인구 현황 데이터 구하기\n",
    "\n",
    "\n",
    "서울시의 CCTV 현황은 구글 검색만으로도 쉽게 구할 수 있다. '서울시 자치구 연도별 CCTV 설치 현황'을 검색하면 '서울 열린데이터 광장' 사이트의 해당 페이지로 갈 수 있다. csv 파일은 콤마로 구분된 파일이다. 우리나라에서는 잘 통용되지 않지만 외국 자료를 검색하다 보면 자주 나타난다. 텍스트 파일이기 때문에 메모장에서도 열린다. 그런데 만약 csv 파일에 한글이 UTF-8로 인코딩되어 있다면 엑셀에서 열었을때 한글이 깨져 보일 수 있다.\n",
    "나는 위 책의 나와있는 github에서 data를 다운 받았다.\n",
    "\n",
    "(데이터 출처: https://github.com/PinkWink/DataScience)\n",
    "\n",
    "\n",
    "\n",
    "## 1-2  파이썬에서 텍스트 파일과 엑셀 파일 읽기 - pandas\n",
    "\n",
    "\n",
    "앞서 얻은 파일을 읽어와야 한다. 파이썬에서는 이런 종류의 파일을 아주 손쉽게 읽을 수 있는 모듈이 있다. 바로 pandas 이다. \n",
    "\n",
    "\n",
    "\n"
   ]
  },
  {
   "cell_type": "code",
   "execution_count": 11,
   "id": "champion-refrigerator",
   "metadata": {},
   "outputs": [],
   "source": [
    "import pandas as pd"
   ]
  },
  {
   "cell_type": "markdown",
   "id": "consecutive-march",
   "metadata": {},
   "source": [
    "앞으로도 위 코드와 같이 대부분의 시작은 import로 하게 될 것이다. 파이썬에서 원하는 모듈을 불러오는 명령이 import 이다. 모듈명 다음의 as는 as 뒤에 붙는 pd라는 짧은 단어로 pandas를 대체한다는 뜻이다.\n",
    "pandas에서 csv파일을 읽는 명령은 read_csv 이다. 그 안에 한글을 사용하는 경우는 인코딩에 신경 써야 한다. 우리가 받은 cctv 데이터는 UTF-8로 인코딩 되어 있어서 read_csv 명령을 쓸 때 encoding 옵션에 UTF-8 이라고 지정한다."
   ]
  },
  {
   "cell_type": "code",
   "execution_count": 12,
   "id": "pleased-flower",
   "metadata": {},
   "outputs": [
    {
     "data": {
      "text/html": [
       "<div>\n",
       "<style scoped>\n",
       "    .dataframe tbody tr th:only-of-type {\n",
       "        vertical-align: middle;\n",
       "    }\n",
       "\n",
       "    .dataframe tbody tr th {\n",
       "        vertical-align: top;\n",
       "    }\n",
       "\n",
       "    .dataframe thead th {\n",
       "        text-align: right;\n",
       "    }\n",
       "</style>\n",
       "<table border=\"1\" class=\"dataframe\">\n",
       "  <thead>\n",
       "    <tr style=\"text-align: right;\">\n",
       "      <th></th>\n",
       "      <th>기관명</th>\n",
       "      <th>소계</th>\n",
       "      <th>2013년도 이전</th>\n",
       "      <th>2014년</th>\n",
       "      <th>2015년</th>\n",
       "      <th>2016년</th>\n",
       "    </tr>\n",
       "  </thead>\n",
       "  <tbody>\n",
       "    <tr>\n",
       "      <th>0</th>\n",
       "      <td>강남구</td>\n",
       "      <td>2780</td>\n",
       "      <td>1292</td>\n",
       "      <td>430</td>\n",
       "      <td>584</td>\n",
       "      <td>932</td>\n",
       "    </tr>\n",
       "    <tr>\n",
       "      <th>1</th>\n",
       "      <td>강동구</td>\n",
       "      <td>773</td>\n",
       "      <td>379</td>\n",
       "      <td>99</td>\n",
       "      <td>155</td>\n",
       "      <td>377</td>\n",
       "    </tr>\n",
       "    <tr>\n",
       "      <th>2</th>\n",
       "      <td>강북구</td>\n",
       "      <td>748</td>\n",
       "      <td>369</td>\n",
       "      <td>120</td>\n",
       "      <td>138</td>\n",
       "      <td>204</td>\n",
       "    </tr>\n",
       "    <tr>\n",
       "      <th>3</th>\n",
       "      <td>강서구</td>\n",
       "      <td>884</td>\n",
       "      <td>388</td>\n",
       "      <td>258</td>\n",
       "      <td>184</td>\n",
       "      <td>81</td>\n",
       "    </tr>\n",
       "    <tr>\n",
       "      <th>4</th>\n",
       "      <td>관악구</td>\n",
       "      <td>1496</td>\n",
       "      <td>846</td>\n",
       "      <td>260</td>\n",
       "      <td>390</td>\n",
       "      <td>613</td>\n",
       "    </tr>\n",
       "  </tbody>\n",
       "</table>\n",
       "</div>"
      ],
      "text/plain": [
       "   기관명    소계  2013년도 이전  2014년  2015년  2016년\n",
       "0  강남구  2780       1292    430    584    932\n",
       "1  강동구   773        379     99    155    377\n",
       "2  강북구   748        369    120    138    204\n",
       "3  강서구   884        388    258    184     81\n",
       "4  관악구  1496        846    260    390    613"
      ]
     },
     "execution_count": 12,
     "metadata": {},
     "output_type": "execute_result"
    }
   ],
   "source": [
    "CCTV_Seoul = pd.read_csv('C:/Users/이재윤/DataScience/data/01. CCTV_in_Seoul.csv', encoding='utf-8')\n",
    "CCTV_Seoul.head()"
   ]
  },
  {
   "cell_type": "markdown",
   "id": "automated-circulation",
   "metadata": {},
   "source": [
    "pandas 데이터는 제일 첫 줄에 보이는 것이 해당하는 열(column)을 대표하는 일종의 제목이다. 그래서 첫 줄을 column 이라고 한다. 데이터 뒤에 columns 라고 하면 column의 이름들이 반환된다."
   ]
  },
  {
   "cell_type": "code",
   "execution_count": 13,
   "id": "aggregate-picture",
   "metadata": {},
   "outputs": [
    {
     "data": {
      "text/plain": [
       "Index(['기관명', '소계', '2013년도 이전', '2014년', '2015년', '2016년'], dtype='object')"
      ]
     },
     "execution_count": 13,
     "metadata": {},
     "output_type": "execute_result"
    }
   ],
   "source": [
    "CCTV_Seoul.columns"
   ]
  },
  {
   "cell_type": "code",
   "execution_count": 14,
   "id": "multiple-street",
   "metadata": {},
   "outputs": [
    {
     "data": {
      "text/plain": [
       "'기관명'"
      ]
     },
     "execution_count": 14,
     "metadata": {},
     "output_type": "execute_result"
    }
   ],
   "source": [
    "CCTV_Seoul.columns[0]"
   ]
  },
  {
   "cell_type": "markdown",
   "id": "electronic-elevation",
   "metadata": {},
   "source": [
    "기관명이라고 되어 있어 이를 '구별' 이라는 이름으로 하자. 이렇게 이름을 바꾸는 명령은 rename 이라고 한다."
   ]
  },
  {
   "cell_type": "code",
   "execution_count": 15,
   "id": "technical-citizen",
   "metadata": {
    "scrolled": true
   },
   "outputs": [
    {
     "data": {
      "text/html": [
       "<div>\n",
       "<style scoped>\n",
       "    .dataframe tbody tr th:only-of-type {\n",
       "        vertical-align: middle;\n",
       "    }\n",
       "\n",
       "    .dataframe tbody tr th {\n",
       "        vertical-align: top;\n",
       "    }\n",
       "\n",
       "    .dataframe thead th {\n",
       "        text-align: right;\n",
       "    }\n",
       "</style>\n",
       "<table border=\"1\" class=\"dataframe\">\n",
       "  <thead>\n",
       "    <tr style=\"text-align: right;\">\n",
       "      <th></th>\n",
       "      <th>구별</th>\n",
       "      <th>소계</th>\n",
       "      <th>2013년도 이전</th>\n",
       "      <th>2014년</th>\n",
       "      <th>2015년</th>\n",
       "      <th>2016년</th>\n",
       "    </tr>\n",
       "  </thead>\n",
       "  <tbody>\n",
       "    <tr>\n",
       "      <th>0</th>\n",
       "      <td>강남구</td>\n",
       "      <td>2780</td>\n",
       "      <td>1292</td>\n",
       "      <td>430</td>\n",
       "      <td>584</td>\n",
       "      <td>932</td>\n",
       "    </tr>\n",
       "    <tr>\n",
       "      <th>1</th>\n",
       "      <td>강동구</td>\n",
       "      <td>773</td>\n",
       "      <td>379</td>\n",
       "      <td>99</td>\n",
       "      <td>155</td>\n",
       "      <td>377</td>\n",
       "    </tr>\n",
       "    <tr>\n",
       "      <th>2</th>\n",
       "      <td>강북구</td>\n",
       "      <td>748</td>\n",
       "      <td>369</td>\n",
       "      <td>120</td>\n",
       "      <td>138</td>\n",
       "      <td>204</td>\n",
       "    </tr>\n",
       "    <tr>\n",
       "      <th>3</th>\n",
       "      <td>강서구</td>\n",
       "      <td>884</td>\n",
       "      <td>388</td>\n",
       "      <td>258</td>\n",
       "      <td>184</td>\n",
       "      <td>81</td>\n",
       "    </tr>\n",
       "    <tr>\n",
       "      <th>4</th>\n",
       "      <td>관악구</td>\n",
       "      <td>1496</td>\n",
       "      <td>846</td>\n",
       "      <td>260</td>\n",
       "      <td>390</td>\n",
       "      <td>613</td>\n",
       "    </tr>\n",
       "  </tbody>\n",
       "</table>\n",
       "</div>"
      ],
      "text/plain": [
       "    구별    소계  2013년도 이전  2014년  2015년  2016년\n",
       "0  강남구  2780       1292    430    584    932\n",
       "1  강동구   773        379     99    155    377\n",
       "2  강북구   748        369    120    138    204\n",
       "3  강서구   884        388    258    184     81\n",
       "4  관악구  1496        846    260    390    613"
      ]
     },
     "execution_count": 15,
     "metadata": {},
     "output_type": "execute_result"
    }
   ],
   "source": [
    "CCTV_Seoul.rename(columns={CCTV_Seoul.columns[0] : '구별'}, inplace=True)\n",
    "CCTV_Seoul.head()"
   ]
  },
  {
   "cell_type": "markdown",
   "id": "analyzed-ordinance",
   "metadata": {},
   "source": [
    "이번엔 두 번째 받은 엑셀 파일을 읽어야 한다. 그 명령은 read_excel이다. 그냥 인코딩만 지정하고 읽었더니 약간 이상하다. 그것은 원본 엑셀 파일이 아래에서 보이는 것처럼 첫 세 줄이 열의 제목처럼 되어 있기 때문이다."
   ]
  },
  {
   "cell_type": "code",
   "execution_count": 19,
   "id": "failing-chapter",
   "metadata": {
    "scrolled": true
   },
   "outputs": [
    {
     "data": {
      "text/html": [
       "<div>\n",
       "<style scoped>\n",
       "    .dataframe tbody tr th:only-of-type {\n",
       "        vertical-align: middle;\n",
       "    }\n",
       "\n",
       "    .dataframe tbody tr th {\n",
       "        vertical-align: top;\n",
       "    }\n",
       "\n",
       "    .dataframe thead th {\n",
       "        text-align: right;\n",
       "    }\n",
       "</style>\n",
       "<table border=\"1\" class=\"dataframe\">\n",
       "  <thead>\n",
       "    <tr style=\"text-align: right;\">\n",
       "      <th></th>\n",
       "      <th>기간</th>\n",
       "      <th>자치구</th>\n",
       "      <th>세대</th>\n",
       "      <th>인구</th>\n",
       "      <th>인구.1</th>\n",
       "      <th>인구.2</th>\n",
       "      <th>인구.3</th>\n",
       "      <th>인구.4</th>\n",
       "      <th>인구.5</th>\n",
       "      <th>인구.6</th>\n",
       "      <th>인구.7</th>\n",
       "      <th>인구.8</th>\n",
       "      <th>세대당인구</th>\n",
       "      <th>65세이상고령자</th>\n",
       "    </tr>\n",
       "  </thead>\n",
       "  <tbody>\n",
       "    <tr>\n",
       "      <th>0</th>\n",
       "      <td>기간</td>\n",
       "      <td>자치구</td>\n",
       "      <td>세대</td>\n",
       "      <td>합계</td>\n",
       "      <td>합계</td>\n",
       "      <td>합계</td>\n",
       "      <td>한국인</td>\n",
       "      <td>한국인</td>\n",
       "      <td>한국인</td>\n",
       "      <td>등록외국인</td>\n",
       "      <td>등록외국인</td>\n",
       "      <td>등록외국인</td>\n",
       "      <td>세대당인구</td>\n",
       "      <td>65세이상고령자</td>\n",
       "    </tr>\n",
       "    <tr>\n",
       "      <th>1</th>\n",
       "      <td>기간</td>\n",
       "      <td>자치구</td>\n",
       "      <td>세대</td>\n",
       "      <td>계</td>\n",
       "      <td>남자</td>\n",
       "      <td>여자</td>\n",
       "      <td>계</td>\n",
       "      <td>남자</td>\n",
       "      <td>여자</td>\n",
       "      <td>계</td>\n",
       "      <td>남자</td>\n",
       "      <td>여자</td>\n",
       "      <td>세대당인구</td>\n",
       "      <td>65세이상고령자</td>\n",
       "    </tr>\n",
       "    <tr>\n",
       "      <th>2</th>\n",
       "      <td>2017.1/4</td>\n",
       "      <td>합계</td>\n",
       "      <td>4202888</td>\n",
       "      <td>10197604</td>\n",
       "      <td>5000005</td>\n",
       "      <td>5197599</td>\n",
       "      <td>9926968</td>\n",
       "      <td>4871560</td>\n",
       "      <td>5055408</td>\n",
       "      <td>270636</td>\n",
       "      <td>128445</td>\n",
       "      <td>142191</td>\n",
       "      <td>2.36</td>\n",
       "      <td>1321458</td>\n",
       "    </tr>\n",
       "    <tr>\n",
       "      <th>3</th>\n",
       "      <td>2017.1/4</td>\n",
       "      <td>종로구</td>\n",
       "      <td>72654</td>\n",
       "      <td>162820</td>\n",
       "      <td>79675</td>\n",
       "      <td>83145</td>\n",
       "      <td>153589</td>\n",
       "      <td>75611</td>\n",
       "      <td>77978</td>\n",
       "      <td>9231</td>\n",
       "      <td>4064</td>\n",
       "      <td>5167</td>\n",
       "      <td>2.11</td>\n",
       "      <td>25425</td>\n",
       "    </tr>\n",
       "    <tr>\n",
       "      <th>4</th>\n",
       "      <td>2017.1/4</td>\n",
       "      <td>중구</td>\n",
       "      <td>59481</td>\n",
       "      <td>133240</td>\n",
       "      <td>65790</td>\n",
       "      <td>67450</td>\n",
       "      <td>124312</td>\n",
       "      <td>61656</td>\n",
       "      <td>62656</td>\n",
       "      <td>8928</td>\n",
       "      <td>4134</td>\n",
       "      <td>4794</td>\n",
       "      <td>2.09</td>\n",
       "      <td>20764</td>\n",
       "    </tr>\n",
       "  </tbody>\n",
       "</table>\n",
       "</div>"
      ],
      "text/plain": [
       "         기간  자치구       세대        인구     인구.1     인구.2     인구.3     인구.4  \\\n",
       "0        기간  자치구       세대        합계       합계       합계      한국인      한국인   \n",
       "1        기간  자치구       세대         계       남자       여자        계       남자   \n",
       "2  2017.1/4   합계  4202888  10197604  5000005  5197599  9926968  4871560   \n",
       "3  2017.1/4  종로구    72654    162820    79675    83145   153589    75611   \n",
       "4  2017.1/4   중구    59481    133240    65790    67450   124312    61656   \n",
       "\n",
       "      인구.5    인구.6    인구.7    인구.8  세대당인구  65세이상고령자  \n",
       "0      한국인   등록외국인   등록외국인   등록외국인  세대당인구  65세이상고령자  \n",
       "1       여자       계      남자      여자  세대당인구  65세이상고령자  \n",
       "2  5055408  270636  128445  142191   2.36   1321458  \n",
       "3    77978    9231    4064    5167   2.11     25425  \n",
       "4    62656    8928    4134    4794   2.09     20764  "
      ]
     },
     "execution_count": 19,
     "metadata": {},
     "output_type": "execute_result"
    }
   ],
   "source": [
    "pop_Seoul = pd.read_excel('C:/Users/이재윤/DataScience/data/01. population_in_Seoul.xls')\n",
    "pop_Seoul.head()"
   ]
  },
  {
   "cell_type": "markdown",
   "id": "owned-fluid",
   "metadata": {},
   "source": [
    "그리고 엑셀파일을 읽을 때는 옵션을 좀 더 많이 적용해 보자. 일단 엑셀을 읽는 read_excel 명령 안에서 세 번째 줄부터 읽으라는 header=2 라는 옵션을 걸고, B,D,G,J,N 열만 읽도록 usecols='B,D,G,J,N' 이라는 옵션을 넣었다."
   ]
  },
  {
   "cell_type": "code",
   "execution_count": 22,
   "id": "other-jersey",
   "metadata": {},
   "outputs": [
    {
     "data": {
      "text/html": [
       "<div>\n",
       "<style scoped>\n",
       "    .dataframe tbody tr th:only-of-type {\n",
       "        vertical-align: middle;\n",
       "    }\n",
       "\n",
       "    .dataframe tbody tr th {\n",
       "        vertical-align: top;\n",
       "    }\n",
       "\n",
       "    .dataframe thead th {\n",
       "        text-align: right;\n",
       "    }\n",
       "</style>\n",
       "<table border=\"1\" class=\"dataframe\">\n",
       "  <thead>\n",
       "    <tr style=\"text-align: right;\">\n",
       "      <th></th>\n",
       "      <th>자치구</th>\n",
       "      <th>계</th>\n",
       "      <th>계.1</th>\n",
       "      <th>계.2</th>\n",
       "      <th>65세이상고령자</th>\n",
       "    </tr>\n",
       "  </thead>\n",
       "  <tbody>\n",
       "    <tr>\n",
       "      <th>0</th>\n",
       "      <td>합계</td>\n",
       "      <td>10197604.0</td>\n",
       "      <td>9926968.0</td>\n",
       "      <td>270636.0</td>\n",
       "      <td>1321458.0</td>\n",
       "    </tr>\n",
       "    <tr>\n",
       "      <th>1</th>\n",
       "      <td>종로구</td>\n",
       "      <td>162820.0</td>\n",
       "      <td>153589.0</td>\n",
       "      <td>9231.0</td>\n",
       "      <td>25425.0</td>\n",
       "    </tr>\n",
       "    <tr>\n",
       "      <th>2</th>\n",
       "      <td>중구</td>\n",
       "      <td>133240.0</td>\n",
       "      <td>124312.0</td>\n",
       "      <td>8928.0</td>\n",
       "      <td>20764.0</td>\n",
       "    </tr>\n",
       "    <tr>\n",
       "      <th>3</th>\n",
       "      <td>용산구</td>\n",
       "      <td>244203.0</td>\n",
       "      <td>229456.0</td>\n",
       "      <td>14747.0</td>\n",
       "      <td>36231.0</td>\n",
       "    </tr>\n",
       "    <tr>\n",
       "      <th>4</th>\n",
       "      <td>성동구</td>\n",
       "      <td>311244.0</td>\n",
       "      <td>303380.0</td>\n",
       "      <td>7864.0</td>\n",
       "      <td>39997.0</td>\n",
       "    </tr>\n",
       "  </tbody>\n",
       "</table>\n",
       "</div>"
      ],
      "text/plain": [
       "   자치구           계        계.1       계.2   65세이상고령자\n",
       "0   합계  10197604.0  9926968.0  270636.0  1321458.0\n",
       "1  종로구    162820.0   153589.0    9231.0    25425.0\n",
       "2   중구    133240.0   124312.0    8928.0    20764.0\n",
       "3  용산구    244203.0   229456.0   14747.0    36231.0\n",
       "4  성동구    311244.0   303380.0    7864.0    39997.0"
      ]
     },
     "execution_count": 22,
     "metadata": {},
     "output_type": "execute_result"
    }
   ],
   "source": [
    "pop_Seoul = pd.read_excel('C:/Users/이재윤/DataScience/data/01. population_in_Seoul.xls',header =2,\n",
    "                         usecols = 'B,D,G,J,N',\n",
    "                         )\n",
    "pop_Seoul.head()"
   ]
  },
  {
   "cell_type": "markdown",
   "id": "organized-character",
   "metadata": {},
   "source": [
    "출력된 모습도 간결하게 되었다. 하지만 컬럼의 이름에 문제가 있는거 같아 rename 명령을 사용해서 컬럼의 이름을 변경한다."
   ]
  },
  {
   "cell_type": "code",
   "execution_count": 23,
   "id": "aboriginal-boring",
   "metadata": {},
   "outputs": [
    {
     "data": {
      "text/html": [
       "<div>\n",
       "<style scoped>\n",
       "    .dataframe tbody tr th:only-of-type {\n",
       "        vertical-align: middle;\n",
       "    }\n",
       "\n",
       "    .dataframe tbody tr th {\n",
       "        vertical-align: top;\n",
       "    }\n",
       "\n",
       "    .dataframe thead th {\n",
       "        text-align: right;\n",
       "    }\n",
       "</style>\n",
       "<table border=\"1\" class=\"dataframe\">\n",
       "  <thead>\n",
       "    <tr style=\"text-align: right;\">\n",
       "      <th></th>\n",
       "      <th>구별</th>\n",
       "      <th>인구수</th>\n",
       "      <th>한국인</th>\n",
       "      <th>외국인</th>\n",
       "      <th>고령자</th>\n",
       "    </tr>\n",
       "  </thead>\n",
       "  <tbody>\n",
       "    <tr>\n",
       "      <th>0</th>\n",
       "      <td>합계</td>\n",
       "      <td>10197604.0</td>\n",
       "      <td>9926968.0</td>\n",
       "      <td>270636.0</td>\n",
       "      <td>1321458.0</td>\n",
       "    </tr>\n",
       "    <tr>\n",
       "      <th>1</th>\n",
       "      <td>종로구</td>\n",
       "      <td>162820.0</td>\n",
       "      <td>153589.0</td>\n",
       "      <td>9231.0</td>\n",
       "      <td>25425.0</td>\n",
       "    </tr>\n",
       "    <tr>\n",
       "      <th>2</th>\n",
       "      <td>중구</td>\n",
       "      <td>133240.0</td>\n",
       "      <td>124312.0</td>\n",
       "      <td>8928.0</td>\n",
       "      <td>20764.0</td>\n",
       "    </tr>\n",
       "    <tr>\n",
       "      <th>3</th>\n",
       "      <td>용산구</td>\n",
       "      <td>244203.0</td>\n",
       "      <td>229456.0</td>\n",
       "      <td>14747.0</td>\n",
       "      <td>36231.0</td>\n",
       "    </tr>\n",
       "    <tr>\n",
       "      <th>4</th>\n",
       "      <td>성동구</td>\n",
       "      <td>311244.0</td>\n",
       "      <td>303380.0</td>\n",
       "      <td>7864.0</td>\n",
       "      <td>39997.0</td>\n",
       "    </tr>\n",
       "  </tbody>\n",
       "</table>\n",
       "</div>"
      ],
      "text/plain": [
       "    구별         인구수        한국인       외국인        고령자\n",
       "0   합계  10197604.0  9926968.0  270636.0  1321458.0\n",
       "1  종로구    162820.0   153589.0    9231.0    25425.0\n",
       "2   중구    133240.0   124312.0    8928.0    20764.0\n",
       "3  용산구    244203.0   229456.0   14747.0    36231.0\n",
       "4  성동구    311244.0   303380.0    7864.0    39997.0"
      ]
     },
     "execution_count": 23,
     "metadata": {},
     "output_type": "execute_result"
    }
   ],
   "source": [
    "pop_Seoul.rename(columns={pop_Seoul.columns[0] : '구별',\n",
    "                         pop_Seoul.columns[1] : '인구수',\n",
    "                         pop_Seoul.columns[2] : '한국인',\n",
    "                         pop_Seoul.columns[3] : '외국인',\n",
    "                         pop_Seoul.columns[4] : '고령자'}, inplace=True)\n",
    "pop_Seoul.head()"
   ]
  },
  {
   "cell_type": "markdown",
   "id": "prompt-religion",
   "metadata": {},
   "source": [
    "이제 어느정도 정돈된 모습이다. CCTV_Seoul 이라는 변수에는 '구별 CCTV 현황'을 pop_Seoul 이라는 변수에는 '구별 인구 현황'을 저장했다.\n",
    "pandas 에서 몇줄 입력하지 않았는데 우리는 두 종류의 파일을 보기 좋게 읽었다.\n",
    "\n",
    "\n",
    "## 1-3 pandas 기초 익히기\n",
    "\n",
    "\n",
    "이 절의 튜토리얼에서는 pandas의 기초 튜토리얼을 익히고 지나가자."
   ]
  },
  {
   "cell_type": "code",
   "execution_count": 24,
   "id": "formed-celtic",
   "metadata": {},
   "outputs": [],
   "source": [
    "import pandas as pd\n",
    "import numpy as np"
   ]
  },
  {
   "cell_type": "markdown",
   "id": "amazing-denial",
   "metadata": {},
   "source": [
    "pandas 와 numpy 를 import 했다. 이 두 모듈은 자주 사용하는 모듈이면서 함께 쓰면 유용하다."
   ]
  },
  {
   "cell_type": "code",
   "execution_count": 25,
   "id": "completed-planet",
   "metadata": {},
   "outputs": [
    {
     "data": {
      "text/plain": [
       "0    1.0\n",
       "1    3.0\n",
       "2    5.0\n",
       "3    NaN\n",
       "4    6.0\n",
       "5    8.0\n",
       "dtype: float64"
      ]
     },
     "execution_count": 25,
     "metadata": {},
     "output_type": "execute_result"
    }
   ],
   "source": [
    "s= pd.Series([1,3,5,np.nan,6,8])\n",
    "s"
   ]
  },
  {
   "cell_type": "markdown",
   "id": "biblical-venezuela",
   "metadata": {},
   "source": [
    "pandas의 데이터 유형 중 기초가 되는 것이 Series 이다. 대괄호로 만드는 파이썬의 list데이터로 만들 수 있다."
   ]
  },
  {
   "cell_type": "code",
   "execution_count": 26,
   "id": "reserved-imagination",
   "metadata": {},
   "outputs": [
    {
     "data": {
      "text/plain": [
       "DatetimeIndex(['2013-01-01', '2013-01-02', '2013-01-03', '2013-01-04',\n",
       "               '2013-01-05', '2013-01-06'],\n",
       "              dtype='datetime64[ns]', freq='D')"
      ]
     },
     "execution_count": 26,
     "metadata": {},
     "output_type": "execute_result"
    }
   ],
   "source": [
    "dates = pd.date_range('20130101', periods=6)\n",
    "dates"
   ]
  },
  {
   "cell_type": "markdown",
   "id": "auburn-victory",
   "metadata": {},
   "source": [
    "또 pandas 에는 날짜형의 데이터인 date_range가 있다. 기본 날짜를 지정하고 periods 옵션으로 6일간이라고 지정한다."
   ]
  },
  {
   "cell_type": "code",
   "execution_count": 27,
   "id": "strong-times",
   "metadata": {},
   "outputs": [
    {
     "data": {
      "text/html": [
       "<div>\n",
       "<style scoped>\n",
       "    .dataframe tbody tr th:only-of-type {\n",
       "        vertical-align: middle;\n",
       "    }\n",
       "\n",
       "    .dataframe tbody tr th {\n",
       "        vertical-align: top;\n",
       "    }\n",
       "\n",
       "    .dataframe thead th {\n",
       "        text-align: right;\n",
       "    }\n",
       "</style>\n",
       "<table border=\"1\" class=\"dataframe\">\n",
       "  <thead>\n",
       "    <tr style=\"text-align: right;\">\n",
       "      <th></th>\n",
       "      <th>A</th>\n",
       "      <th>B</th>\n",
       "      <th>C</th>\n",
       "      <th>D</th>\n",
       "    </tr>\n",
       "  </thead>\n",
       "  <tbody>\n",
       "    <tr>\n",
       "      <th>2013-01-01</th>\n",
       "      <td>0.689054</td>\n",
       "      <td>0.259651</td>\n",
       "      <td>-0.553501</td>\n",
       "      <td>0.366985</td>\n",
       "    </tr>\n",
       "    <tr>\n",
       "      <th>2013-01-02</th>\n",
       "      <td>-1.397627</td>\n",
       "      <td>-0.556272</td>\n",
       "      <td>-0.478705</td>\n",
       "      <td>-0.093360</td>\n",
       "    </tr>\n",
       "    <tr>\n",
       "      <th>2013-01-03</th>\n",
       "      <td>-0.417705</td>\n",
       "      <td>-1.143071</td>\n",
       "      <td>-0.500704</td>\n",
       "      <td>0.752166</td>\n",
       "    </tr>\n",
       "    <tr>\n",
       "      <th>2013-01-04</th>\n",
       "      <td>-0.605748</td>\n",
       "      <td>-0.328725</td>\n",
       "      <td>-0.162276</td>\n",
       "      <td>0.520092</td>\n",
       "    </tr>\n",
       "    <tr>\n",
       "      <th>2013-01-05</th>\n",
       "      <td>-0.026954</td>\n",
       "      <td>0.700364</td>\n",
       "      <td>0.574195</td>\n",
       "      <td>-1.755656</td>\n",
       "    </tr>\n",
       "    <tr>\n",
       "      <th>2013-01-06</th>\n",
       "      <td>-0.861042</td>\n",
       "      <td>1.162265</td>\n",
       "      <td>1.361301</td>\n",
       "      <td>0.951274</td>\n",
       "    </tr>\n",
       "  </tbody>\n",
       "</table>\n",
       "</div>"
      ],
      "text/plain": [
       "                   A         B         C         D\n",
       "2013-01-01  0.689054  0.259651 -0.553501  0.366985\n",
       "2013-01-02 -1.397627 -0.556272 -0.478705 -0.093360\n",
       "2013-01-03 -0.417705 -1.143071 -0.500704  0.752166\n",
       "2013-01-04 -0.605748 -0.328725 -0.162276  0.520092\n",
       "2013-01-05 -0.026954  0.700364  0.574195 -1.755656\n",
       "2013-01-06 -0.861042  1.162265  1.361301  0.951274"
      ]
     },
     "execution_count": 27,
     "metadata": {},
     "output_type": "execute_result"
    }
   ],
   "source": [
    "df = pd.DataFrame(np.random.randn(6,4), index=dates, columns=['A','B','C','D'])\n",
    "\n",
    "df"
   ]
  },
  {
   "cell_type": "markdown",
   "id": "blank-share",
   "metadata": {},
   "source": [
    "이제 DataFrame 유형의 데이터를 만든다. 6행 4열의 random 변수를 만들고, 컬럼에서 위와같이 A,B,C,D 로 지정하고 index 명령으로 전 단계에서 만든 날짜형 데이터인 dates를 index=dates 옵션을 이용해서 지정했다."
   ]
  },
  {
   "cell_type": "code",
   "execution_count": 28,
   "id": "surprised-lesson",
   "metadata": {},
   "outputs": [
    {
     "data": {
      "text/html": [
       "<div>\n",
       "<style scoped>\n",
       "    .dataframe tbody tr th:only-of-type {\n",
       "        vertical-align: middle;\n",
       "    }\n",
       "\n",
       "    .dataframe tbody tr th {\n",
       "        vertical-align: top;\n",
       "    }\n",
       "\n",
       "    .dataframe thead th {\n",
       "        text-align: right;\n",
       "    }\n",
       "</style>\n",
       "<table border=\"1\" class=\"dataframe\">\n",
       "  <thead>\n",
       "    <tr style=\"text-align: right;\">\n",
       "      <th></th>\n",
       "      <th>A</th>\n",
       "      <th>B</th>\n",
       "      <th>C</th>\n",
       "      <th>D</th>\n",
       "    </tr>\n",
       "  </thead>\n",
       "  <tbody>\n",
       "    <tr>\n",
       "      <th>2013-01-01</th>\n",
       "      <td>0.689054</td>\n",
       "      <td>0.259651</td>\n",
       "      <td>-0.553501</td>\n",
       "      <td>0.366985</td>\n",
       "    </tr>\n",
       "    <tr>\n",
       "      <th>2013-01-02</th>\n",
       "      <td>-1.397627</td>\n",
       "      <td>-0.556272</td>\n",
       "      <td>-0.478705</td>\n",
       "      <td>-0.093360</td>\n",
       "    </tr>\n",
       "    <tr>\n",
       "      <th>2013-01-03</th>\n",
       "      <td>-0.417705</td>\n",
       "      <td>-1.143071</td>\n",
       "      <td>-0.500704</td>\n",
       "      <td>0.752166</td>\n",
       "    </tr>\n",
       "  </tbody>\n",
       "</table>\n",
       "</div>"
      ],
      "text/plain": [
       "                   A         B         C         D\n",
       "2013-01-01  0.689054  0.259651 -0.553501  0.366985\n",
       "2013-01-02 -1.397627 -0.556272 -0.478705 -0.093360\n",
       "2013-01-03 -0.417705 -1.143071 -0.500704  0.752166"
      ]
     },
     "execution_count": 28,
     "metadata": {},
     "output_type": "execute_result"
    }
   ],
   "source": [
    "df.head(3)"
   ]
  },
  {
   "cell_type": "markdown",
   "id": "elder-seven",
   "metadata": {},
   "source": [
    "head() 명령을 사용하면 기본적으로 첫 5행을 보여준다. 괄호 안에 숫자를 넣으면 그 숫자만큼의 행을 볼 수 있다."
   ]
  },
  {
   "cell_type": "code",
   "execution_count": 29,
   "id": "juvenile-specific",
   "metadata": {},
   "outputs": [
    {
     "data": {
      "text/plain": [
       "DatetimeIndex(['2013-01-01', '2013-01-02', '2013-01-03', '2013-01-04',\n",
       "               '2013-01-05', '2013-01-06'],\n",
       "              dtype='datetime64[ns]', freq='D')"
      ]
     },
     "execution_count": 29,
     "metadata": {},
     "output_type": "execute_result"
    }
   ],
   "source": [
    "df.index"
   ]
  },
  {
   "cell_type": "code",
   "execution_count": 30,
   "id": "active-testimony",
   "metadata": {},
   "outputs": [
    {
     "data": {
      "text/plain": [
       "Index(['A', 'B', 'C', 'D'], dtype='object')"
      ]
     },
     "execution_count": 30,
     "metadata": {},
     "output_type": "execute_result"
    }
   ],
   "source": [
    "df.columns"
   ]
  },
  {
   "cell_type": "markdown",
   "id": "hungry-ferry",
   "metadata": {},
   "source": [
    "그리고 index, columns 명령을 이용하면 pandas의 DataFrame의 컬럼과 인덱스를 확인할 수 있다."
   ]
  },
  {
   "cell_type": "code",
   "execution_count": 31,
   "id": "simple-allocation",
   "metadata": {},
   "outputs": [
    {
     "data": {
      "text/plain": [
       "array([[ 0.68905419,  0.25965093, -0.55350065,  0.36698473],\n",
       "       [-1.39762688, -0.55627181, -0.47870485, -0.09336004],\n",
       "       [-0.41770477, -1.14307099, -0.50070441,  0.75216621],\n",
       "       [-0.60574826, -0.32872494, -0.16227618,  0.5200918 ],\n",
       "       [-0.02695421,  0.70036415,  0.57419473, -1.75565599],\n",
       "       [-0.8610418 ,  1.16226546,  1.36130064,  0.95127443]])"
      ]
     },
     "execution_count": 31,
     "metadata": {},
     "output_type": "execute_result"
    }
   ],
   "source": [
    "df.values"
   ]
  },
  {
   "cell_type": "markdown",
   "id": "leading-ecology",
   "metadata": {},
   "source": [
    "그리고 그 안에 들어가는 내용은 values 명령으로 확인할 수 있다. 그리고 info() 명령을 사용하면 DataFrame의 개요를 알 수 있다."
   ]
  },
  {
   "cell_type": "code",
   "execution_count": 32,
   "id": "governing-harbor",
   "metadata": {},
   "outputs": [
    {
     "name": "stdout",
     "output_type": "stream",
     "text": [
      "<class 'pandas.core.frame.DataFrame'>\n",
      "DatetimeIndex: 6 entries, 2013-01-01 to 2013-01-06\n",
      "Freq: D\n",
      "Data columns (total 4 columns):\n",
      " #   Column  Non-Null Count  Dtype  \n",
      "---  ------  --------------  -----  \n",
      " 0   A       6 non-null      float64\n",
      " 1   B       6 non-null      float64\n",
      " 2   C       6 non-null      float64\n",
      " 3   D       6 non-null      float64\n",
      "dtypes: float64(4)\n",
      "memory usage: 240.0 bytes\n"
     ]
    }
   ],
   "source": [
    "df.info()"
   ]
  },
  {
   "cell_type": "markdown",
   "id": "driving-night",
   "metadata": {},
   "source": [
    "describe() 명령을 사용하면 통계적 개요를 확인할 수 있다. 아래처럼 평균과 개수, min, max, 표준편차까지 알 수 있다."
   ]
  },
  {
   "cell_type": "code",
   "execution_count": 33,
   "id": "academic-harvest",
   "metadata": {},
   "outputs": [
    {
     "data": {
      "text/html": [
       "<div>\n",
       "<style scoped>\n",
       "    .dataframe tbody tr th:only-of-type {\n",
       "        vertical-align: middle;\n",
       "    }\n",
       "\n",
       "    .dataframe tbody tr th {\n",
       "        vertical-align: top;\n",
       "    }\n",
       "\n",
       "    .dataframe thead th {\n",
       "        text-align: right;\n",
       "    }\n",
       "</style>\n",
       "<table border=\"1\" class=\"dataframe\">\n",
       "  <thead>\n",
       "    <tr style=\"text-align: right;\">\n",
       "      <th></th>\n",
       "      <th>A</th>\n",
       "      <th>B</th>\n",
       "      <th>C</th>\n",
       "      <th>D</th>\n",
       "    </tr>\n",
       "  </thead>\n",
       "  <tbody>\n",
       "    <tr>\n",
       "      <th>count</th>\n",
       "      <td>6.000000</td>\n",
       "      <td>6.000000</td>\n",
       "      <td>6.000000</td>\n",
       "      <td>6.000000</td>\n",
       "    </tr>\n",
       "    <tr>\n",
       "      <th>mean</th>\n",
       "      <td>-0.436670</td>\n",
       "      <td>0.015702</td>\n",
       "      <td>0.040052</td>\n",
       "      <td>0.123584</td>\n",
       "    </tr>\n",
       "    <tr>\n",
       "      <th>std</th>\n",
       "      <td>0.716603</td>\n",
       "      <td>0.852223</td>\n",
       "      <td>0.772758</td>\n",
       "      <td>0.987447</td>\n",
       "    </tr>\n",
       "    <tr>\n",
       "      <th>min</th>\n",
       "      <td>-1.397627</td>\n",
       "      <td>-1.143071</td>\n",
       "      <td>-0.553501</td>\n",
       "      <td>-1.755656</td>\n",
       "    </tr>\n",
       "    <tr>\n",
       "      <th>25%</th>\n",
       "      <td>-0.797218</td>\n",
       "      <td>-0.499385</td>\n",
       "      <td>-0.495205</td>\n",
       "      <td>0.021726</td>\n",
       "    </tr>\n",
       "    <tr>\n",
       "      <th>50%</th>\n",
       "      <td>-0.511727</td>\n",
       "      <td>-0.034537</td>\n",
       "      <td>-0.320491</td>\n",
       "      <td>0.443538</td>\n",
       "    </tr>\n",
       "    <tr>\n",
       "      <th>75%</th>\n",
       "      <td>-0.124642</td>\n",
       "      <td>0.590186</td>\n",
       "      <td>0.390077</td>\n",
       "      <td>0.694148</td>\n",
       "    </tr>\n",
       "    <tr>\n",
       "      <th>max</th>\n",
       "      <td>0.689054</td>\n",
       "      <td>1.162265</td>\n",
       "      <td>1.361301</td>\n",
       "      <td>0.951274</td>\n",
       "    </tr>\n",
       "  </tbody>\n",
       "</table>\n",
       "</div>"
      ],
      "text/plain": [
       "              A         B         C         D\n",
       "count  6.000000  6.000000  6.000000  6.000000\n",
       "mean  -0.436670  0.015702  0.040052  0.123584\n",
       "std    0.716603  0.852223  0.772758  0.987447\n",
       "min   -1.397627 -1.143071 -0.553501 -1.755656\n",
       "25%   -0.797218 -0.499385 -0.495205  0.021726\n",
       "50%   -0.511727 -0.034537 -0.320491  0.443538\n",
       "75%   -0.124642  0.590186  0.390077  0.694148\n",
       "max    0.689054  1.162265  1.361301  0.951274"
      ]
     },
     "execution_count": 33,
     "metadata": {},
     "output_type": "execute_result"
    }
   ],
   "source": [
    "df.describe()"
   ]
  },
  {
   "cell_type": "markdown",
   "id": "described-identity",
   "metadata": {},
   "source": [
    "이때 values가 숫자가 아니라 문자라고 하더라도 그에 맞는 개요가 나타난다."
   ]
  },
  {
   "cell_type": "code",
   "execution_count": 34,
   "id": "beautiful-asbestos",
   "metadata": {},
   "outputs": [
    {
     "data": {
      "text/html": [
       "<div>\n",
       "<style scoped>\n",
       "    .dataframe tbody tr th:only-of-type {\n",
       "        vertical-align: middle;\n",
       "    }\n",
       "\n",
       "    .dataframe tbody tr th {\n",
       "        vertical-align: top;\n",
       "    }\n",
       "\n",
       "    .dataframe thead th {\n",
       "        text-align: right;\n",
       "    }\n",
       "</style>\n",
       "<table border=\"1\" class=\"dataframe\">\n",
       "  <thead>\n",
       "    <tr style=\"text-align: right;\">\n",
       "      <th></th>\n",
       "      <th>A</th>\n",
       "      <th>B</th>\n",
       "      <th>C</th>\n",
       "      <th>D</th>\n",
       "    </tr>\n",
       "  </thead>\n",
       "  <tbody>\n",
       "    <tr>\n",
       "      <th>2013-01-06</th>\n",
       "      <td>-0.861042</td>\n",
       "      <td>1.162265</td>\n",
       "      <td>1.361301</td>\n",
       "      <td>0.951274</td>\n",
       "    </tr>\n",
       "    <tr>\n",
       "      <th>2013-01-05</th>\n",
       "      <td>-0.026954</td>\n",
       "      <td>0.700364</td>\n",
       "      <td>0.574195</td>\n",
       "      <td>-1.755656</td>\n",
       "    </tr>\n",
       "    <tr>\n",
       "      <th>2013-01-01</th>\n",
       "      <td>0.689054</td>\n",
       "      <td>0.259651</td>\n",
       "      <td>-0.553501</td>\n",
       "      <td>0.366985</td>\n",
       "    </tr>\n",
       "    <tr>\n",
       "      <th>2013-01-04</th>\n",
       "      <td>-0.605748</td>\n",
       "      <td>-0.328725</td>\n",
       "      <td>-0.162276</td>\n",
       "      <td>0.520092</td>\n",
       "    </tr>\n",
       "    <tr>\n",
       "      <th>2013-01-02</th>\n",
       "      <td>-1.397627</td>\n",
       "      <td>-0.556272</td>\n",
       "      <td>-0.478705</td>\n",
       "      <td>-0.093360</td>\n",
       "    </tr>\n",
       "    <tr>\n",
       "      <th>2013-01-03</th>\n",
       "      <td>-0.417705</td>\n",
       "      <td>-1.143071</td>\n",
       "      <td>-0.500704</td>\n",
       "      <td>0.752166</td>\n",
       "    </tr>\n",
       "  </tbody>\n",
       "</table>\n",
       "</div>"
      ],
      "text/plain": [
       "                   A         B         C         D\n",
       "2013-01-06 -0.861042  1.162265  1.361301  0.951274\n",
       "2013-01-05 -0.026954  0.700364  0.574195 -1.755656\n",
       "2013-01-01  0.689054  0.259651 -0.553501  0.366985\n",
       "2013-01-04 -0.605748 -0.328725 -0.162276  0.520092\n",
       "2013-01-02 -1.397627 -0.556272 -0.478705 -0.093360\n",
       "2013-01-03 -0.417705 -1.143071 -0.500704  0.752166"
      ]
     },
     "execution_count": 34,
     "metadata": {},
     "output_type": "execute_result"
    }
   ],
   "source": [
    "df.sort_values(by='B', ascending=False)"
   ]
  },
  {
   "cell_type": "markdown",
   "id": "digital-health",
   "metadata": {},
   "source": [
    "sort_values 명령은 by로 지정된 컬럼을 기준으로 정렬한다. ascending 옵션을 사용하면 내림차순이나 오름차순으로 정렬시킬 수 있다."
   ]
  },
  {
   "cell_type": "code",
   "execution_count": 35,
   "id": "fitted-contents",
   "metadata": {},
   "outputs": [
    {
     "data": {
      "text/html": [
       "<div>\n",
       "<style scoped>\n",
       "    .dataframe tbody tr th:only-of-type {\n",
       "        vertical-align: middle;\n",
       "    }\n",
       "\n",
       "    .dataframe tbody tr th {\n",
       "        vertical-align: top;\n",
       "    }\n",
       "\n",
       "    .dataframe thead th {\n",
       "        text-align: right;\n",
       "    }\n",
       "</style>\n",
       "<table border=\"1\" class=\"dataframe\">\n",
       "  <thead>\n",
       "    <tr style=\"text-align: right;\">\n",
       "      <th></th>\n",
       "      <th>A</th>\n",
       "      <th>B</th>\n",
       "      <th>C</th>\n",
       "      <th>D</th>\n",
       "    </tr>\n",
       "  </thead>\n",
       "  <tbody>\n",
       "    <tr>\n",
       "      <th>2013-01-01</th>\n",
       "      <td>0.689054</td>\n",
       "      <td>0.259651</td>\n",
       "      <td>-0.553501</td>\n",
       "      <td>0.366985</td>\n",
       "    </tr>\n",
       "    <tr>\n",
       "      <th>2013-01-02</th>\n",
       "      <td>-1.397627</td>\n",
       "      <td>-0.556272</td>\n",
       "      <td>-0.478705</td>\n",
       "      <td>-0.093360</td>\n",
       "    </tr>\n",
       "    <tr>\n",
       "      <th>2013-01-03</th>\n",
       "      <td>-0.417705</td>\n",
       "      <td>-1.143071</td>\n",
       "      <td>-0.500704</td>\n",
       "      <td>0.752166</td>\n",
       "    </tr>\n",
       "    <tr>\n",
       "      <th>2013-01-04</th>\n",
       "      <td>-0.605748</td>\n",
       "      <td>-0.328725</td>\n",
       "      <td>-0.162276</td>\n",
       "      <td>0.520092</td>\n",
       "    </tr>\n",
       "    <tr>\n",
       "      <th>2013-01-05</th>\n",
       "      <td>-0.026954</td>\n",
       "      <td>0.700364</td>\n",
       "      <td>0.574195</td>\n",
       "      <td>-1.755656</td>\n",
       "    </tr>\n",
       "    <tr>\n",
       "      <th>2013-01-06</th>\n",
       "      <td>-0.861042</td>\n",
       "      <td>1.162265</td>\n",
       "      <td>1.361301</td>\n",
       "      <td>0.951274</td>\n",
       "    </tr>\n",
       "  </tbody>\n",
       "</table>\n",
       "</div>"
      ],
      "text/plain": [
       "                   A         B         C         D\n",
       "2013-01-01  0.689054  0.259651 -0.553501  0.366985\n",
       "2013-01-02 -1.397627 -0.556272 -0.478705 -0.093360\n",
       "2013-01-03 -0.417705 -1.143071 -0.500704  0.752166\n",
       "2013-01-04 -0.605748 -0.328725 -0.162276  0.520092\n",
       "2013-01-05 -0.026954  0.700364  0.574195 -1.755656\n",
       "2013-01-06 -0.861042  1.162265  1.361301  0.951274"
      ]
     },
     "execution_count": 35,
     "metadata": {},
     "output_type": "execute_result"
    }
   ],
   "source": [
    "df"
   ]
  },
  {
   "cell_type": "markdown",
   "id": "needed-might",
   "metadata": {},
   "source": [
    "그냥 변수명을 적고 실행 하면 그 내용이 나타난다. 너무 많으면 jupyter notebook 에서 내용을 줄인다."
   ]
  },
  {
   "cell_type": "code",
   "execution_count": 36,
   "id": "consistent-generator",
   "metadata": {},
   "outputs": [
    {
     "data": {
      "text/plain": [
       "2013-01-01    0.689054\n",
       "2013-01-02   -1.397627\n",
       "2013-01-03   -0.417705\n",
       "2013-01-04   -0.605748\n",
       "2013-01-05   -0.026954\n",
       "2013-01-06   -0.861042\n",
       "Freq: D, Name: A, dtype: float64"
      ]
     },
     "execution_count": 36,
     "metadata": {},
     "output_type": "execute_result"
    }
   ],
   "source": [
    "df['A']"
   ]
  },
  {
   "cell_type": "markdown",
   "id": "bright-finder",
   "metadata": {},
   "source": [
    "DataFrame으로 선언된 변수의 경우 변수명 뒤에 ['A']와 같이 붙여주면 해당 컬럼만 Series로 보여준다. 중간부터 보고싶다면 df[0:3]이라고 하면 된다."
   ]
  },
  {
   "cell_type": "code",
   "execution_count": 37,
   "id": "statutory-reaction",
   "metadata": {},
   "outputs": [
    {
     "data": {
      "text/html": [
       "<div>\n",
       "<style scoped>\n",
       "    .dataframe tbody tr th:only-of-type {\n",
       "        vertical-align: middle;\n",
       "    }\n",
       "\n",
       "    .dataframe tbody tr th {\n",
       "        vertical-align: top;\n",
       "    }\n",
       "\n",
       "    .dataframe thead th {\n",
       "        text-align: right;\n",
       "    }\n",
       "</style>\n",
       "<table border=\"1\" class=\"dataframe\">\n",
       "  <thead>\n",
       "    <tr style=\"text-align: right;\">\n",
       "      <th></th>\n",
       "      <th>A</th>\n",
       "      <th>B</th>\n",
       "      <th>C</th>\n",
       "      <th>D</th>\n",
       "    </tr>\n",
       "  </thead>\n",
       "  <tbody>\n",
       "    <tr>\n",
       "      <th>2013-01-01</th>\n",
       "      <td>0.689054</td>\n",
       "      <td>0.259651</td>\n",
       "      <td>-0.553501</td>\n",
       "      <td>0.366985</td>\n",
       "    </tr>\n",
       "    <tr>\n",
       "      <th>2013-01-02</th>\n",
       "      <td>-1.397627</td>\n",
       "      <td>-0.556272</td>\n",
       "      <td>-0.478705</td>\n",
       "      <td>-0.093360</td>\n",
       "    </tr>\n",
       "    <tr>\n",
       "      <th>2013-01-03</th>\n",
       "      <td>-0.417705</td>\n",
       "      <td>-1.143071</td>\n",
       "      <td>-0.500704</td>\n",
       "      <td>0.752166</td>\n",
       "    </tr>\n",
       "  </tbody>\n",
       "</table>\n",
       "</div>"
      ],
      "text/plain": [
       "                   A         B         C         D\n",
       "2013-01-01  0.689054  0.259651 -0.553501  0.366985\n",
       "2013-01-02 -1.397627 -0.556272 -0.478705 -0.093360\n",
       "2013-01-03 -0.417705 -1.143071 -0.500704  0.752166"
      ]
     },
     "execution_count": 37,
     "metadata": {},
     "output_type": "execute_result"
    }
   ],
   "source": [
    "df[0:3]"
   ]
  },
  {
   "cell_type": "markdown",
   "id": "acoustic-composite",
   "metadata": {},
   "source": [
    "만약 2013.01.02 부터 2013.01.04 까지의 행을 보고 싶다면 아래과 같이 하면 된다."
   ]
  },
  {
   "cell_type": "code",
   "execution_count": 38,
   "id": "expensive-basics",
   "metadata": {},
   "outputs": [
    {
     "data": {
      "text/html": [
       "<div>\n",
       "<style scoped>\n",
       "    .dataframe tbody tr th:only-of-type {\n",
       "        vertical-align: middle;\n",
       "    }\n",
       "\n",
       "    .dataframe tbody tr th {\n",
       "        vertical-align: top;\n",
       "    }\n",
       "\n",
       "    .dataframe thead th {\n",
       "        text-align: right;\n",
       "    }\n",
       "</style>\n",
       "<table border=\"1\" class=\"dataframe\">\n",
       "  <thead>\n",
       "    <tr style=\"text-align: right;\">\n",
       "      <th></th>\n",
       "      <th>A</th>\n",
       "      <th>B</th>\n",
       "      <th>C</th>\n",
       "      <th>D</th>\n",
       "    </tr>\n",
       "  </thead>\n",
       "  <tbody>\n",
       "    <tr>\n",
       "      <th>2013-01-02</th>\n",
       "      <td>-1.397627</td>\n",
       "      <td>-0.556272</td>\n",
       "      <td>-0.478705</td>\n",
       "      <td>-0.093360</td>\n",
       "    </tr>\n",
       "    <tr>\n",
       "      <th>2013-01-03</th>\n",
       "      <td>-0.417705</td>\n",
       "      <td>-1.143071</td>\n",
       "      <td>-0.500704</td>\n",
       "      <td>0.752166</td>\n",
       "    </tr>\n",
       "    <tr>\n",
       "      <th>2013-01-04</th>\n",
       "      <td>-0.605748</td>\n",
       "      <td>-0.328725</td>\n",
       "      <td>-0.162276</td>\n",
       "      <td>0.520092</td>\n",
       "    </tr>\n",
       "  </tbody>\n",
       "</table>\n",
       "</div>"
      ],
      "text/plain": [
       "                   A         B         C         D\n",
       "2013-01-02 -1.397627 -0.556272 -0.478705 -0.093360\n",
       "2013-01-03 -0.417705 -1.143071 -0.500704  0.752166\n",
       "2013-01-04 -0.605748 -0.328725 -0.162276  0.520092"
      ]
     },
     "execution_count": 38,
     "metadata": {},
     "output_type": "execute_result"
    }
   ],
   "source": [
    "df['20130102':'20130104']"
   ]
  },
  {
   "cell_type": "markdown",
   "id": "other-horizontal",
   "metadata": {},
   "source": [
    "앞에서 만든 dates 변수를 이용해 특정 날짜의 데이터만 보고 싶으면 df.loc 명령을 사용하면 된다. loc는 location 옵션으로 슬라이싱 할 때 loc 옵션을 이용해서 위치 값을 지정할 수 있다."
   ]
  },
  {
   "cell_type": "code",
   "execution_count": 39,
   "id": "documentary-detroit",
   "metadata": {},
   "outputs": [
    {
     "data": {
      "text/plain": [
       "A    0.689054\n",
       "B    0.259651\n",
       "C   -0.553501\n",
       "D    0.366985\n",
       "Name: 2013-01-01 00:00:00, dtype: float64"
      ]
     },
     "execution_count": 39,
     "metadata": {},
     "output_type": "execute_result"
    }
   ],
   "source": [
    "df.loc[dates[0]]"
   ]
  },
  {
   "cell_type": "markdown",
   "id": "unlikely-lyric",
   "metadata": {},
   "source": [
    "A,B 열의 모든 행을 보고싶으면 df.loc['A','B']라고 하면 된다."
   ]
  },
  {
   "cell_type": "code",
   "execution_count": 40,
   "id": "crucial-interaction",
   "metadata": {},
   "outputs": [
    {
     "data": {
      "text/html": [
       "<div>\n",
       "<style scoped>\n",
       "    .dataframe tbody tr th:only-of-type {\n",
       "        vertical-align: middle;\n",
       "    }\n",
       "\n",
       "    .dataframe tbody tr th {\n",
       "        vertical-align: top;\n",
       "    }\n",
       "\n",
       "    .dataframe thead th {\n",
       "        text-align: right;\n",
       "    }\n",
       "</style>\n",
       "<table border=\"1\" class=\"dataframe\">\n",
       "  <thead>\n",
       "    <tr style=\"text-align: right;\">\n",
       "      <th></th>\n",
       "      <th>A</th>\n",
       "      <th>B</th>\n",
       "    </tr>\n",
       "  </thead>\n",
       "  <tbody>\n",
       "    <tr>\n",
       "      <th>2013-01-01</th>\n",
       "      <td>0.689054</td>\n",
       "      <td>0.259651</td>\n",
       "    </tr>\n",
       "    <tr>\n",
       "      <th>2013-01-02</th>\n",
       "      <td>-1.397627</td>\n",
       "      <td>-0.556272</td>\n",
       "    </tr>\n",
       "    <tr>\n",
       "      <th>2013-01-03</th>\n",
       "      <td>-0.417705</td>\n",
       "      <td>-1.143071</td>\n",
       "    </tr>\n",
       "    <tr>\n",
       "      <th>2013-01-04</th>\n",
       "      <td>-0.605748</td>\n",
       "      <td>-0.328725</td>\n",
       "    </tr>\n",
       "    <tr>\n",
       "      <th>2013-01-05</th>\n",
       "      <td>-0.026954</td>\n",
       "      <td>0.700364</td>\n",
       "    </tr>\n",
       "    <tr>\n",
       "      <th>2013-01-06</th>\n",
       "      <td>-0.861042</td>\n",
       "      <td>1.162265</td>\n",
       "    </tr>\n",
       "  </tbody>\n",
       "</table>\n",
       "</div>"
      ],
      "text/plain": [
       "                   A         B\n",
       "2013-01-01  0.689054  0.259651\n",
       "2013-01-02 -1.397627 -0.556272\n",
       "2013-01-03 -0.417705 -1.143071\n",
       "2013-01-04 -0.605748 -0.328725\n",
       "2013-01-05 -0.026954  0.700364\n",
       "2013-01-06 -0.861042  1.162265"
      ]
     },
     "execution_count": 40,
     "metadata": {},
     "output_type": "execute_result"
    }
   ],
   "source": [
    "df.loc[:,['A','B']]"
   ]
  },
  {
   "cell_type": "markdown",
   "id": "coral-premiere",
   "metadata": {},
   "source": [
    "물론 행과 열의 범위를 모두 지정할 수 있다."
   ]
  },
  {
   "cell_type": "code",
   "execution_count": 41,
   "id": "civilian-thirty",
   "metadata": {},
   "outputs": [
    {
     "data": {
      "text/html": [
       "<div>\n",
       "<style scoped>\n",
       "    .dataframe tbody tr th:only-of-type {\n",
       "        vertical-align: middle;\n",
       "    }\n",
       "\n",
       "    .dataframe tbody tr th {\n",
       "        vertical-align: top;\n",
       "    }\n",
       "\n",
       "    .dataframe thead th {\n",
       "        text-align: right;\n",
       "    }\n",
       "</style>\n",
       "<table border=\"1\" class=\"dataframe\">\n",
       "  <thead>\n",
       "    <tr style=\"text-align: right;\">\n",
       "      <th></th>\n",
       "      <th>A</th>\n",
       "      <th>B</th>\n",
       "    </tr>\n",
       "  </thead>\n",
       "  <tbody>\n",
       "    <tr>\n",
       "      <th>2013-01-02</th>\n",
       "      <td>-1.397627</td>\n",
       "      <td>-0.556272</td>\n",
       "    </tr>\n",
       "    <tr>\n",
       "      <th>2013-01-03</th>\n",
       "      <td>-0.417705</td>\n",
       "      <td>-1.143071</td>\n",
       "    </tr>\n",
       "    <tr>\n",
       "      <th>2013-01-04</th>\n",
       "      <td>-0.605748</td>\n",
       "      <td>-0.328725</td>\n",
       "    </tr>\n",
       "  </tbody>\n",
       "</table>\n",
       "</div>"
      ],
      "text/plain": [
       "                   A         B\n",
       "2013-01-02 -1.397627 -0.556272\n",
       "2013-01-03 -0.417705 -1.143071\n",
       "2013-01-04 -0.605748 -0.328725"
      ]
     },
     "execution_count": 41,
     "metadata": {},
     "output_type": "execute_result"
    }
   ],
   "source": [
    "df.loc['20130102':'20130104',['A','B']]"
   ]
  },
  {
   "cell_type": "code",
   "execution_count": 42,
   "id": "hundred-directive",
   "metadata": {},
   "outputs": [
    {
     "data": {
      "text/plain": [
       "A   -1.397627\n",
       "B   -0.556272\n",
       "Name: 2013-01-02 00:00:00, dtype: float64"
      ]
     },
     "execution_count": 42,
     "metadata": {},
     "output_type": "execute_result"
    }
   ],
   "source": [
    "df.loc['20130102',['A','B']]"
   ]
  },
  {
   "cell_type": "code",
   "execution_count": 43,
   "id": "vanilla-brother",
   "metadata": {},
   "outputs": [
    {
     "data": {
      "text/plain": [
       "0.6890541888306178"
      ]
     },
     "execution_count": 43,
     "metadata": {},
     "output_type": "execute_result"
    }
   ],
   "source": [
    "df.loc[dates[0],'A']"
   ]
  },
  {
   "cell_type": "markdown",
   "id": "worse-lodging",
   "metadata": {},
   "source": [
    "하지만 loc 명령과 달리 행과 열의 번호를 이용해서 데이터에 바로 접근할 때 쓰는 명령어가 iloc 입니다. iloc을 사용하면 행이나 열의 범위를 지정하면 된다. 특히 콜론(:)을 사용하면 전체를 의미한다."
   ]
  },
  {
   "cell_type": "code",
   "execution_count": 44,
   "id": "constitutional-nirvana",
   "metadata": {},
   "outputs": [
    {
     "data": {
      "text/plain": [
       "A   -0.605748\n",
       "B   -0.328725\n",
       "C   -0.162276\n",
       "D    0.520092\n",
       "Name: 2013-01-04 00:00:00, dtype: float64"
      ]
     },
     "execution_count": 44,
     "metadata": {},
     "output_type": "execute_result"
    }
   ],
   "source": [
    "df.iloc[3]"
   ]
  },
  {
   "cell_type": "markdown",
   "id": "patient-command",
   "metadata": {},
   "source": [
    "먼저 iloc에 단지 숫자만 표시하면 3번행(0번부터시작) 즉 4번째 행이 나온다."
   ]
  },
  {
   "cell_type": "code",
   "execution_count": 45,
   "id": "worldwide-democrat",
   "metadata": {},
   "outputs": [
    {
     "data": {
      "text/html": [
       "<div>\n",
       "<style scoped>\n",
       "    .dataframe tbody tr th:only-of-type {\n",
       "        vertical-align: middle;\n",
       "    }\n",
       "\n",
       "    .dataframe tbody tr th {\n",
       "        vertical-align: top;\n",
       "    }\n",
       "\n",
       "    .dataframe thead th {\n",
       "        text-align: right;\n",
       "    }\n",
       "</style>\n",
       "<table border=\"1\" class=\"dataframe\">\n",
       "  <thead>\n",
       "    <tr style=\"text-align: right;\">\n",
       "      <th></th>\n",
       "      <th>A</th>\n",
       "      <th>B</th>\n",
       "    </tr>\n",
       "  </thead>\n",
       "  <tbody>\n",
       "    <tr>\n",
       "      <th>2013-01-04</th>\n",
       "      <td>-0.605748</td>\n",
       "      <td>-0.328725</td>\n",
       "    </tr>\n",
       "    <tr>\n",
       "      <th>2013-01-05</th>\n",
       "      <td>-0.026954</td>\n",
       "      <td>0.700364</td>\n",
       "    </tr>\n",
       "  </tbody>\n",
       "</table>\n",
       "</div>"
      ],
      "text/plain": [
       "                   A         B\n",
       "2013-01-04 -0.605748 -0.328725\n",
       "2013-01-05 -0.026954  0.700364"
      ]
     },
     "execution_count": 45,
     "metadata": {},
     "output_type": "execute_result"
    }
   ],
   "source": [
    "df.iloc[3:5,0:2]"
   ]
  },
  {
   "cell_type": "markdown",
   "id": "studied-wagner",
   "metadata": {},
   "source": [
    "또 위처럼 3번째부터 5번째 앞, 즉 3번째부터 4번째까지 행과 0번부터 1번까지 열의 데이터만 가져올 수 있다."
   ]
  },
  {
   "cell_type": "code",
   "execution_count": 46,
   "id": "subtle-department",
   "metadata": {},
   "outputs": [
    {
     "data": {
      "text/html": [
       "<div>\n",
       "<style scoped>\n",
       "    .dataframe tbody tr th:only-of-type {\n",
       "        vertical-align: middle;\n",
       "    }\n",
       "\n",
       "    .dataframe tbody tr th {\n",
       "        vertical-align: top;\n",
       "    }\n",
       "\n",
       "    .dataframe thead th {\n",
       "        text-align: right;\n",
       "    }\n",
       "</style>\n",
       "<table border=\"1\" class=\"dataframe\">\n",
       "  <thead>\n",
       "    <tr style=\"text-align: right;\">\n",
       "      <th></th>\n",
       "      <th>A</th>\n",
       "      <th>C</th>\n",
       "    </tr>\n",
       "  </thead>\n",
       "  <tbody>\n",
       "    <tr>\n",
       "      <th>2013-01-02</th>\n",
       "      <td>-1.397627</td>\n",
       "      <td>-0.478705</td>\n",
       "    </tr>\n",
       "    <tr>\n",
       "      <th>2013-01-03</th>\n",
       "      <td>-0.417705</td>\n",
       "      <td>-0.500704</td>\n",
       "    </tr>\n",
       "    <tr>\n",
       "      <th>2013-01-05</th>\n",
       "      <td>-0.026954</td>\n",
       "      <td>0.574195</td>\n",
       "    </tr>\n",
       "  </tbody>\n",
       "</table>\n",
       "</div>"
      ],
      "text/plain": [
       "                   A         C\n",
       "2013-01-02 -1.397627 -0.478705\n",
       "2013-01-03 -0.417705 -0.500704\n",
       "2013-01-05 -0.026954  0.574195"
      ]
     },
     "execution_count": 46,
     "metadata": {},
     "output_type": "execute_result"
    }
   ],
   "source": [
    "df.iloc[[1,2,4],[0,2]]"
   ]
  },
  {
   "cell_type": "markdown",
   "id": "voluntary-treasurer",
   "metadata": {},
   "source": [
    "또 범위가 아니라 콤마로 행이나 열을 지정해서 데이터를 위처럼 가져올 수 있다. 행이나 열에 대해 한쪽은 전체를 의미하게 하고 싶을때는 그냥 콜론만 사용하면 된다."
   ]
  },
  {
   "cell_type": "code",
   "execution_count": 47,
   "id": "related-canberra",
   "metadata": {},
   "outputs": [
    {
     "data": {
      "text/html": [
       "<div>\n",
       "<style scoped>\n",
       "    .dataframe tbody tr th:only-of-type {\n",
       "        vertical-align: middle;\n",
       "    }\n",
       "\n",
       "    .dataframe tbody tr th {\n",
       "        vertical-align: top;\n",
       "    }\n",
       "\n",
       "    .dataframe thead th {\n",
       "        text-align: right;\n",
       "    }\n",
       "</style>\n",
       "<table border=\"1\" class=\"dataframe\">\n",
       "  <thead>\n",
       "    <tr style=\"text-align: right;\">\n",
       "      <th></th>\n",
       "      <th>A</th>\n",
       "      <th>B</th>\n",
       "      <th>C</th>\n",
       "      <th>D</th>\n",
       "    </tr>\n",
       "  </thead>\n",
       "  <tbody>\n",
       "    <tr>\n",
       "      <th>2013-01-02</th>\n",
       "      <td>-1.397627</td>\n",
       "      <td>-0.556272</td>\n",
       "      <td>-0.478705</td>\n",
       "      <td>-0.093360</td>\n",
       "    </tr>\n",
       "    <tr>\n",
       "      <th>2013-01-03</th>\n",
       "      <td>-0.417705</td>\n",
       "      <td>-1.143071</td>\n",
       "      <td>-0.500704</td>\n",
       "      <td>0.752166</td>\n",
       "    </tr>\n",
       "  </tbody>\n",
       "</table>\n",
       "</div>"
      ],
      "text/plain": [
       "                   A         B         C         D\n",
       "2013-01-02 -1.397627 -0.556272 -0.478705 -0.093360\n",
       "2013-01-03 -0.417705 -1.143071 -0.500704  0.752166"
      ]
     },
     "execution_count": 47,
     "metadata": {},
     "output_type": "execute_result"
    }
   ],
   "source": [
    "df.iloc[1:3,:]"
   ]
  },
  {
   "cell_type": "code",
   "execution_count": 48,
   "id": "physical-baptist",
   "metadata": {},
   "outputs": [
    {
     "data": {
      "text/html": [
       "<div>\n",
       "<style scoped>\n",
       "    .dataframe tbody tr th:only-of-type {\n",
       "        vertical-align: middle;\n",
       "    }\n",
       "\n",
       "    .dataframe tbody tr th {\n",
       "        vertical-align: top;\n",
       "    }\n",
       "\n",
       "    .dataframe thead th {\n",
       "        text-align: right;\n",
       "    }\n",
       "</style>\n",
       "<table border=\"1\" class=\"dataframe\">\n",
       "  <thead>\n",
       "    <tr style=\"text-align: right;\">\n",
       "      <th></th>\n",
       "      <th>B</th>\n",
       "      <th>C</th>\n",
       "    </tr>\n",
       "  </thead>\n",
       "  <tbody>\n",
       "    <tr>\n",
       "      <th>2013-01-01</th>\n",
       "      <td>0.259651</td>\n",
       "      <td>-0.553501</td>\n",
       "    </tr>\n",
       "    <tr>\n",
       "      <th>2013-01-02</th>\n",
       "      <td>-0.556272</td>\n",
       "      <td>-0.478705</td>\n",
       "    </tr>\n",
       "    <tr>\n",
       "      <th>2013-01-03</th>\n",
       "      <td>-1.143071</td>\n",
       "      <td>-0.500704</td>\n",
       "    </tr>\n",
       "    <tr>\n",
       "      <th>2013-01-04</th>\n",
       "      <td>-0.328725</td>\n",
       "      <td>-0.162276</td>\n",
       "    </tr>\n",
       "    <tr>\n",
       "      <th>2013-01-05</th>\n",
       "      <td>0.700364</td>\n",
       "      <td>0.574195</td>\n",
       "    </tr>\n",
       "    <tr>\n",
       "      <th>2013-01-06</th>\n",
       "      <td>1.162265</td>\n",
       "      <td>1.361301</td>\n",
       "    </tr>\n",
       "  </tbody>\n",
       "</table>\n",
       "</div>"
      ],
      "text/plain": [
       "                   B         C\n",
       "2013-01-01  0.259651 -0.553501\n",
       "2013-01-02 -0.556272 -0.478705\n",
       "2013-01-03 -1.143071 -0.500704\n",
       "2013-01-04 -0.328725 -0.162276\n",
       "2013-01-05  0.700364  0.574195\n",
       "2013-01-06  1.162265  1.361301"
      ]
     },
     "execution_count": 48,
     "metadata": {},
     "output_type": "execute_result"
    }
   ],
   "source": [
    "df.iloc[:,1:3]"
   ]
  },
  {
   "cell_type": "markdown",
   "id": "induced-sharp",
   "metadata": {},
   "source": [
    "반대로 행을 전체로 선택했다. 다시 df를 호출하자."
   ]
  },
  {
   "cell_type": "code",
   "execution_count": 49,
   "id": "available-confusion",
   "metadata": {},
   "outputs": [
    {
     "data": {
      "text/html": [
       "<div>\n",
       "<style scoped>\n",
       "    .dataframe tbody tr th:only-of-type {\n",
       "        vertical-align: middle;\n",
       "    }\n",
       "\n",
       "    .dataframe tbody tr th {\n",
       "        vertical-align: top;\n",
       "    }\n",
       "\n",
       "    .dataframe thead th {\n",
       "        text-align: right;\n",
       "    }\n",
       "</style>\n",
       "<table border=\"1\" class=\"dataframe\">\n",
       "  <thead>\n",
       "    <tr style=\"text-align: right;\">\n",
       "      <th></th>\n",
       "      <th>A</th>\n",
       "      <th>B</th>\n",
       "      <th>C</th>\n",
       "      <th>D</th>\n",
       "    </tr>\n",
       "  </thead>\n",
       "  <tbody>\n",
       "    <tr>\n",
       "      <th>2013-01-01</th>\n",
       "      <td>0.689054</td>\n",
       "      <td>0.259651</td>\n",
       "      <td>-0.553501</td>\n",
       "      <td>0.366985</td>\n",
       "    </tr>\n",
       "    <tr>\n",
       "      <th>2013-01-02</th>\n",
       "      <td>-1.397627</td>\n",
       "      <td>-0.556272</td>\n",
       "      <td>-0.478705</td>\n",
       "      <td>-0.093360</td>\n",
       "    </tr>\n",
       "    <tr>\n",
       "      <th>2013-01-03</th>\n",
       "      <td>-0.417705</td>\n",
       "      <td>-1.143071</td>\n",
       "      <td>-0.500704</td>\n",
       "      <td>0.752166</td>\n",
       "    </tr>\n",
       "    <tr>\n",
       "      <th>2013-01-04</th>\n",
       "      <td>-0.605748</td>\n",
       "      <td>-0.328725</td>\n",
       "      <td>-0.162276</td>\n",
       "      <td>0.520092</td>\n",
       "    </tr>\n",
       "    <tr>\n",
       "      <th>2013-01-05</th>\n",
       "      <td>-0.026954</td>\n",
       "      <td>0.700364</td>\n",
       "      <td>0.574195</td>\n",
       "      <td>-1.755656</td>\n",
       "    </tr>\n",
       "    <tr>\n",
       "      <th>2013-01-06</th>\n",
       "      <td>-0.861042</td>\n",
       "      <td>1.162265</td>\n",
       "      <td>1.361301</td>\n",
       "      <td>0.951274</td>\n",
       "    </tr>\n",
       "  </tbody>\n",
       "</table>\n",
       "</div>"
      ],
      "text/plain": [
       "                   A         B         C         D\n",
       "2013-01-01  0.689054  0.259651 -0.553501  0.366985\n",
       "2013-01-02 -1.397627 -0.556272 -0.478705 -0.093360\n",
       "2013-01-03 -0.417705 -1.143071 -0.500704  0.752166\n",
       "2013-01-04 -0.605748 -0.328725 -0.162276  0.520092\n",
       "2013-01-05 -0.026954  0.700364  0.574195 -1.755656\n",
       "2013-01-06 -0.861042  1.162265  1.361301  0.951274"
      ]
     },
     "execution_count": 49,
     "metadata": {},
     "output_type": "execute_result"
    }
   ],
   "source": [
    "df"
   ]
  },
  {
   "cell_type": "markdown",
   "id": "quality-investor",
   "metadata": {},
   "source": [
    "DataFrame에서 특정 조건을 만족하는 데이터만 얻을 수 있다. 컬럼을 지정할 때 df['A']처럼 할 수도 있고, df.A와 같이 할 수도 있다. 컬럼 A에서 0보다 큰 행만 얻는 것이다."
   ]
  },
  {
   "cell_type": "code",
   "execution_count": 50,
   "id": "specific-malta",
   "metadata": {},
   "outputs": [
    {
     "data": {
      "text/html": [
       "<div>\n",
       "<style scoped>\n",
       "    .dataframe tbody tr th:only-of-type {\n",
       "        vertical-align: middle;\n",
       "    }\n",
       "\n",
       "    .dataframe tbody tr th {\n",
       "        vertical-align: top;\n",
       "    }\n",
       "\n",
       "    .dataframe thead th {\n",
       "        text-align: right;\n",
       "    }\n",
       "</style>\n",
       "<table border=\"1\" class=\"dataframe\">\n",
       "  <thead>\n",
       "    <tr style=\"text-align: right;\">\n",
       "      <th></th>\n",
       "      <th>A</th>\n",
       "      <th>B</th>\n",
       "      <th>C</th>\n",
       "      <th>D</th>\n",
       "    </tr>\n",
       "  </thead>\n",
       "  <tbody>\n",
       "    <tr>\n",
       "      <th>2013-01-01</th>\n",
       "      <td>0.689054</td>\n",
       "      <td>0.259651</td>\n",
       "      <td>-0.553501</td>\n",
       "      <td>0.366985</td>\n",
       "    </tr>\n",
       "  </tbody>\n",
       "</table>\n",
       "</div>"
      ],
      "text/plain": [
       "                   A         B         C         D\n",
       "2013-01-01  0.689054  0.259651 -0.553501  0.366985"
      ]
     },
     "execution_count": 50,
     "metadata": {},
     "output_type": "execute_result"
    }
   ],
   "source": [
    "df[df.A>0]"
   ]
  },
  {
   "cell_type": "markdown",
   "id": "soviet-duncan",
   "metadata": {},
   "source": [
    "데이터 전체에서 조건을 걸면 만족하지 않은 곳은 NaN 처리가 된다."
   ]
  },
  {
   "cell_type": "code",
   "execution_count": 51,
   "id": "educational-kruger",
   "metadata": {},
   "outputs": [
    {
     "data": {
      "text/html": [
       "<div>\n",
       "<style scoped>\n",
       "    .dataframe tbody tr th:only-of-type {\n",
       "        vertical-align: middle;\n",
       "    }\n",
       "\n",
       "    .dataframe tbody tr th {\n",
       "        vertical-align: top;\n",
       "    }\n",
       "\n",
       "    .dataframe thead th {\n",
       "        text-align: right;\n",
       "    }\n",
       "</style>\n",
       "<table border=\"1\" class=\"dataframe\">\n",
       "  <thead>\n",
       "    <tr style=\"text-align: right;\">\n",
       "      <th></th>\n",
       "      <th>A</th>\n",
       "      <th>B</th>\n",
       "      <th>C</th>\n",
       "      <th>D</th>\n",
       "    </tr>\n",
       "  </thead>\n",
       "  <tbody>\n",
       "    <tr>\n",
       "      <th>2013-01-01</th>\n",
       "      <td>0.689054</td>\n",
       "      <td>0.259651</td>\n",
       "      <td>NaN</td>\n",
       "      <td>0.366985</td>\n",
       "    </tr>\n",
       "    <tr>\n",
       "      <th>2013-01-02</th>\n",
       "      <td>NaN</td>\n",
       "      <td>NaN</td>\n",
       "      <td>NaN</td>\n",
       "      <td>NaN</td>\n",
       "    </tr>\n",
       "    <tr>\n",
       "      <th>2013-01-03</th>\n",
       "      <td>NaN</td>\n",
       "      <td>NaN</td>\n",
       "      <td>NaN</td>\n",
       "      <td>0.752166</td>\n",
       "    </tr>\n",
       "    <tr>\n",
       "      <th>2013-01-04</th>\n",
       "      <td>NaN</td>\n",
       "      <td>NaN</td>\n",
       "      <td>NaN</td>\n",
       "      <td>0.520092</td>\n",
       "    </tr>\n",
       "    <tr>\n",
       "      <th>2013-01-05</th>\n",
       "      <td>NaN</td>\n",
       "      <td>0.700364</td>\n",
       "      <td>0.574195</td>\n",
       "      <td>NaN</td>\n",
       "    </tr>\n",
       "    <tr>\n",
       "      <th>2013-01-06</th>\n",
       "      <td>NaN</td>\n",
       "      <td>1.162265</td>\n",
       "      <td>1.361301</td>\n",
       "      <td>0.951274</td>\n",
       "    </tr>\n",
       "  </tbody>\n",
       "</table>\n",
       "</div>"
      ],
      "text/plain": [
       "                   A         B         C         D\n",
       "2013-01-01  0.689054  0.259651       NaN  0.366985\n",
       "2013-01-02       NaN       NaN       NaN       NaN\n",
       "2013-01-03       NaN       NaN       NaN  0.752166\n",
       "2013-01-04       NaN       NaN       NaN  0.520092\n",
       "2013-01-05       NaN  0.700364  0.574195       NaN\n",
       "2013-01-06       NaN  1.162265  1.361301  0.951274"
      ]
     },
     "execution_count": 51,
     "metadata": {},
     "output_type": "execute_result"
    }
   ],
   "source": [
    "df[df>0]"
   ]
  },
  {
   "cell_type": "markdown",
   "id": "sustained-certification",
   "metadata": {},
   "source": [
    "DataFrame을 복사할 때는 그냥 = 기호를 이용해서 복사하면 실제 데이터의 내용이 복사되는 것이 아니라 데이터 위치만 복사되기 때문에 원본 데이터는 하나만 있게된다. 데이터 내용까지 복사하라는 지령은 copy() 옵션을 붙이면 된다."
   ]
  },
  {
   "cell_type": "code",
   "execution_count": 52,
   "id": "tight-wheel",
   "metadata": {},
   "outputs": [],
   "source": [
    "df2 = df.copy()"
   ]
  },
  {
   "cell_type": "code",
   "execution_count": 53,
   "id": "downtown-engineer",
   "metadata": {},
   "outputs": [
    {
     "data": {
      "text/html": [
       "<div>\n",
       "<style scoped>\n",
       "    .dataframe tbody tr th:only-of-type {\n",
       "        vertical-align: middle;\n",
       "    }\n",
       "\n",
       "    .dataframe tbody tr th {\n",
       "        vertical-align: top;\n",
       "    }\n",
       "\n",
       "    .dataframe thead th {\n",
       "        text-align: right;\n",
       "    }\n",
       "</style>\n",
       "<table border=\"1\" class=\"dataframe\">\n",
       "  <thead>\n",
       "    <tr style=\"text-align: right;\">\n",
       "      <th></th>\n",
       "      <th>A</th>\n",
       "      <th>B</th>\n",
       "      <th>C</th>\n",
       "      <th>D</th>\n",
       "      <th>E</th>\n",
       "    </tr>\n",
       "  </thead>\n",
       "  <tbody>\n",
       "    <tr>\n",
       "      <th>2013-01-01</th>\n",
       "      <td>0.689054</td>\n",
       "      <td>0.259651</td>\n",
       "      <td>-0.553501</td>\n",
       "      <td>0.366985</td>\n",
       "      <td>one</td>\n",
       "    </tr>\n",
       "    <tr>\n",
       "      <th>2013-01-02</th>\n",
       "      <td>-1.397627</td>\n",
       "      <td>-0.556272</td>\n",
       "      <td>-0.478705</td>\n",
       "      <td>-0.093360</td>\n",
       "      <td>one</td>\n",
       "    </tr>\n",
       "    <tr>\n",
       "      <th>2013-01-03</th>\n",
       "      <td>-0.417705</td>\n",
       "      <td>-1.143071</td>\n",
       "      <td>-0.500704</td>\n",
       "      <td>0.752166</td>\n",
       "      <td>two</td>\n",
       "    </tr>\n",
       "    <tr>\n",
       "      <th>2013-01-04</th>\n",
       "      <td>-0.605748</td>\n",
       "      <td>-0.328725</td>\n",
       "      <td>-0.162276</td>\n",
       "      <td>0.520092</td>\n",
       "      <td>three</td>\n",
       "    </tr>\n",
       "    <tr>\n",
       "      <th>2013-01-05</th>\n",
       "      <td>-0.026954</td>\n",
       "      <td>0.700364</td>\n",
       "      <td>0.574195</td>\n",
       "      <td>-1.755656</td>\n",
       "      <td>four</td>\n",
       "    </tr>\n",
       "    <tr>\n",
       "      <th>2013-01-06</th>\n",
       "      <td>-0.861042</td>\n",
       "      <td>1.162265</td>\n",
       "      <td>1.361301</td>\n",
       "      <td>0.951274</td>\n",
       "      <td>three</td>\n",
       "    </tr>\n",
       "  </tbody>\n",
       "</table>\n",
       "</div>"
      ],
      "text/plain": [
       "                   A         B         C         D      E\n",
       "2013-01-01  0.689054  0.259651 -0.553501  0.366985    one\n",
       "2013-01-02 -1.397627 -0.556272 -0.478705 -0.093360    one\n",
       "2013-01-03 -0.417705 -1.143071 -0.500704  0.752166    two\n",
       "2013-01-04 -0.605748 -0.328725 -0.162276  0.520092  three\n",
       "2013-01-05 -0.026954  0.700364  0.574195 -1.755656   four\n",
       "2013-01-06 -0.861042  1.162265  1.361301  0.951274  three"
      ]
     },
     "execution_count": 53,
     "metadata": {},
     "output_type": "execute_result"
    }
   ],
   "source": [
    "df2['E'] = ['one','one','two','three','four','three']\n",
    "df2"
   ]
  },
  {
   "cell_type": "markdown",
   "id": "other-bearing",
   "metadata": {},
   "source": [
    "원래 있는 DataFrame 에서 새로운 컬럼을 추가하는 것은 위처럼 하면 된다."
   ]
  },
  {
   "cell_type": "code",
   "execution_count": 54,
   "id": "assisted-fifty",
   "metadata": {},
   "outputs": [
    {
     "data": {
      "text/plain": [
       "2013-01-01    False\n",
       "2013-01-02    False\n",
       "2013-01-03     True\n",
       "2013-01-04    False\n",
       "2013-01-05     True\n",
       "2013-01-06    False\n",
       "Freq: D, Name: E, dtype: bool"
      ]
     },
     "execution_count": 54,
     "metadata": {},
     "output_type": "execute_result"
    }
   ],
   "source": [
    "df2['E'].isin(['two','four'])"
   ]
  },
  {
   "cell_type": "markdown",
   "id": "broadband-gossip",
   "metadata": {},
   "source": [
    "위에서 만든 E 컬럼에서 two와 four 가 있는지 조건을 걸고 싶을땐 isin 명령을 쓰면 된다."
   ]
  },
  {
   "cell_type": "code",
   "execution_count": 55,
   "id": "arctic-apple",
   "metadata": {},
   "outputs": [
    {
     "data": {
      "text/html": [
       "<div>\n",
       "<style scoped>\n",
       "    .dataframe tbody tr th:only-of-type {\n",
       "        vertical-align: middle;\n",
       "    }\n",
       "\n",
       "    .dataframe tbody tr th {\n",
       "        vertical-align: top;\n",
       "    }\n",
       "\n",
       "    .dataframe thead th {\n",
       "        text-align: right;\n",
       "    }\n",
       "</style>\n",
       "<table border=\"1\" class=\"dataframe\">\n",
       "  <thead>\n",
       "    <tr style=\"text-align: right;\">\n",
       "      <th></th>\n",
       "      <th>A</th>\n",
       "      <th>B</th>\n",
       "      <th>C</th>\n",
       "      <th>D</th>\n",
       "      <th>E</th>\n",
       "    </tr>\n",
       "  </thead>\n",
       "  <tbody>\n",
       "    <tr>\n",
       "      <th>2013-01-03</th>\n",
       "      <td>-0.417705</td>\n",
       "      <td>-1.143071</td>\n",
       "      <td>-0.500704</td>\n",
       "      <td>0.752166</td>\n",
       "      <td>two</td>\n",
       "    </tr>\n",
       "    <tr>\n",
       "      <th>2013-01-05</th>\n",
       "      <td>-0.026954</td>\n",
       "      <td>0.700364</td>\n",
       "      <td>0.574195</td>\n",
       "      <td>-1.755656</td>\n",
       "      <td>four</td>\n",
       "    </tr>\n",
       "  </tbody>\n",
       "</table>\n",
       "</div>"
      ],
      "text/plain": [
       "                   A         B         C         D     E\n",
       "2013-01-03 -0.417705 -1.143071 -0.500704  0.752166   two\n",
       "2013-01-05 -0.026954  0.700364  0.574195 -1.755656  four"
      ]
     },
     "execution_count": 55,
     "metadata": {},
     "output_type": "execute_result"
    }
   ],
   "source": [
    "df2[df2['E'].isin(['two','four'])]"
   ]
  },
  {
   "cell_type": "markdown",
   "id": "union-specific",
   "metadata": {},
   "source": [
    "그 결과는 True/False로 반환되는데, 이것을 이용하면 조건에 맞는 데이터를 선택할 수 있다."
   ]
  },
  {
   "cell_type": "code",
   "execution_count": 56,
   "id": "prospective-general",
   "metadata": {},
   "outputs": [
    {
     "data": {
      "text/html": [
       "<div>\n",
       "<style scoped>\n",
       "    .dataframe tbody tr th:only-of-type {\n",
       "        vertical-align: middle;\n",
       "    }\n",
       "\n",
       "    .dataframe tbody tr th {\n",
       "        vertical-align: top;\n",
       "    }\n",
       "\n",
       "    .dataframe thead th {\n",
       "        text-align: right;\n",
       "    }\n",
       "</style>\n",
       "<table border=\"1\" class=\"dataframe\">\n",
       "  <thead>\n",
       "    <tr style=\"text-align: right;\">\n",
       "      <th></th>\n",
       "      <th>A</th>\n",
       "      <th>B</th>\n",
       "      <th>C</th>\n",
       "      <th>D</th>\n",
       "    </tr>\n",
       "  </thead>\n",
       "  <tbody>\n",
       "    <tr>\n",
       "      <th>2013-01-01</th>\n",
       "      <td>0.689054</td>\n",
       "      <td>0.259651</td>\n",
       "      <td>-0.553501</td>\n",
       "      <td>0.366985</td>\n",
       "    </tr>\n",
       "    <tr>\n",
       "      <th>2013-01-02</th>\n",
       "      <td>-1.397627</td>\n",
       "      <td>-0.556272</td>\n",
       "      <td>-0.478705</td>\n",
       "      <td>-0.093360</td>\n",
       "    </tr>\n",
       "    <tr>\n",
       "      <th>2013-01-03</th>\n",
       "      <td>-0.417705</td>\n",
       "      <td>-1.143071</td>\n",
       "      <td>-0.500704</td>\n",
       "      <td>0.752166</td>\n",
       "    </tr>\n",
       "    <tr>\n",
       "      <th>2013-01-04</th>\n",
       "      <td>-0.605748</td>\n",
       "      <td>-0.328725</td>\n",
       "      <td>-0.162276</td>\n",
       "      <td>0.520092</td>\n",
       "    </tr>\n",
       "    <tr>\n",
       "      <th>2013-01-05</th>\n",
       "      <td>-0.026954</td>\n",
       "      <td>0.700364</td>\n",
       "      <td>0.574195</td>\n",
       "      <td>-1.755656</td>\n",
       "    </tr>\n",
       "    <tr>\n",
       "      <th>2013-01-06</th>\n",
       "      <td>-0.861042</td>\n",
       "      <td>1.162265</td>\n",
       "      <td>1.361301</td>\n",
       "      <td>0.951274</td>\n",
       "    </tr>\n",
       "  </tbody>\n",
       "</table>\n",
       "</div>"
      ],
      "text/plain": [
       "                   A         B         C         D\n",
       "2013-01-01  0.689054  0.259651 -0.553501  0.366985\n",
       "2013-01-02 -1.397627 -0.556272 -0.478705 -0.093360\n",
       "2013-01-03 -0.417705 -1.143071 -0.500704  0.752166\n",
       "2013-01-04 -0.605748 -0.328725 -0.162276  0.520092\n",
       "2013-01-05 -0.026954  0.700364  0.574195 -1.755656\n",
       "2013-01-06 -0.861042  1.162265  1.361301  0.951274"
      ]
     },
     "execution_count": 56,
     "metadata": {},
     "output_type": "execute_result"
    }
   ],
   "source": [
    "df"
   ]
  },
  {
   "cell_type": "markdown",
   "id": "upper-breeding",
   "metadata": {},
   "source": [
    "df 변수에서 좀 더 통계 느낌의 데이터를 볼 때는 특정 함수를 적용시키면 좋다. 이때 사용하는 것이 apply 명령이다. 누적합을 알고 싶을 때는 numpy의 cumsum을 이용하면 된다."
   ]
  },
  {
   "cell_type": "code",
   "execution_count": 57,
   "id": "motivated-passage",
   "metadata": {},
   "outputs": [
    {
     "data": {
      "text/html": [
       "<div>\n",
       "<style scoped>\n",
       "    .dataframe tbody tr th:only-of-type {\n",
       "        vertical-align: middle;\n",
       "    }\n",
       "\n",
       "    .dataframe tbody tr th {\n",
       "        vertical-align: top;\n",
       "    }\n",
       "\n",
       "    .dataframe thead th {\n",
       "        text-align: right;\n",
       "    }\n",
       "</style>\n",
       "<table border=\"1\" class=\"dataframe\">\n",
       "  <thead>\n",
       "    <tr style=\"text-align: right;\">\n",
       "      <th></th>\n",
       "      <th>A</th>\n",
       "      <th>B</th>\n",
       "      <th>C</th>\n",
       "      <th>D</th>\n",
       "    </tr>\n",
       "  </thead>\n",
       "  <tbody>\n",
       "    <tr>\n",
       "      <th>2013-01-01</th>\n",
       "      <td>0.689054</td>\n",
       "      <td>0.259651</td>\n",
       "      <td>-0.553501</td>\n",
       "      <td>0.366985</td>\n",
       "    </tr>\n",
       "    <tr>\n",
       "      <th>2013-01-02</th>\n",
       "      <td>-0.708573</td>\n",
       "      <td>-0.296621</td>\n",
       "      <td>-1.032206</td>\n",
       "      <td>0.273625</td>\n",
       "    </tr>\n",
       "    <tr>\n",
       "      <th>2013-01-03</th>\n",
       "      <td>-1.126277</td>\n",
       "      <td>-1.439692</td>\n",
       "      <td>-1.532910</td>\n",
       "      <td>1.025791</td>\n",
       "    </tr>\n",
       "    <tr>\n",
       "      <th>2013-01-04</th>\n",
       "      <td>-1.732026</td>\n",
       "      <td>-1.768417</td>\n",
       "      <td>-1.695186</td>\n",
       "      <td>1.545883</td>\n",
       "    </tr>\n",
       "    <tr>\n",
       "      <th>2013-01-05</th>\n",
       "      <td>-1.758980</td>\n",
       "      <td>-1.068053</td>\n",
       "      <td>-1.120991</td>\n",
       "      <td>-0.209773</td>\n",
       "    </tr>\n",
       "    <tr>\n",
       "      <th>2013-01-06</th>\n",
       "      <td>-2.620022</td>\n",
       "      <td>0.094213</td>\n",
       "      <td>0.240309</td>\n",
       "      <td>0.741501</td>\n",
       "    </tr>\n",
       "  </tbody>\n",
       "</table>\n",
       "</div>"
      ],
      "text/plain": [
       "                   A         B         C         D\n",
       "2013-01-01  0.689054  0.259651 -0.553501  0.366985\n",
       "2013-01-02 -0.708573 -0.296621 -1.032206  0.273625\n",
       "2013-01-03 -1.126277 -1.439692 -1.532910  1.025791\n",
       "2013-01-04 -1.732026 -1.768417 -1.695186  1.545883\n",
       "2013-01-05 -1.758980 -1.068053 -1.120991 -0.209773\n",
       "2013-01-06 -2.620022  0.094213  0.240309  0.741501"
      ]
     },
     "execution_count": 57,
     "metadata": {},
     "output_type": "execute_result"
    }
   ],
   "source": [
    "df.apply(np.cumsum)"
   ]
  },
  {
   "cell_type": "markdown",
   "id": "bound-nation",
   "metadata": {},
   "source": [
    "특별히 최대값과 최소값의 차이를 알고 싶다면 one-line 함수인 lambda를 이용할 수 도 있다."
   ]
  },
  {
   "cell_type": "code",
   "execution_count": 58,
   "id": "racial-pittsburgh",
   "metadata": {},
   "outputs": [
    {
     "data": {
      "text/plain": [
       "A    2.086681\n",
       "B    2.305336\n",
       "C    1.914801\n",
       "D    2.706930\n",
       "dtype: float64"
      ]
     },
     "execution_count": 58,
     "metadata": {},
     "output_type": "execute_result"
    }
   ],
   "source": [
    "df.apply(lambda x: x.max() - x.min())"
   ]
  },
  {
   "cell_type": "markdown",
   "id": "intimate-radar",
   "metadata": {},
   "source": [
    "## 1-4 pandas 이용해서 CCTV와 인구현황 데이터 파악하기\n",
    "\n",
    "\n",
    "이제 기초가 되는 pandas도 익혔으니 두 데이터를 정리해 보자."
   ]
  },
  {
   "cell_type": "code",
   "execution_count": 59,
   "id": "romantic-bibliography",
   "metadata": {},
   "outputs": [
    {
     "data": {
      "text/html": [
       "<div>\n",
       "<style scoped>\n",
       "    .dataframe tbody tr th:only-of-type {\n",
       "        vertical-align: middle;\n",
       "    }\n",
       "\n",
       "    .dataframe tbody tr th {\n",
       "        vertical-align: top;\n",
       "    }\n",
       "\n",
       "    .dataframe thead th {\n",
       "        text-align: right;\n",
       "    }\n",
       "</style>\n",
       "<table border=\"1\" class=\"dataframe\">\n",
       "  <thead>\n",
       "    <tr style=\"text-align: right;\">\n",
       "      <th></th>\n",
       "      <th>구별</th>\n",
       "      <th>소계</th>\n",
       "      <th>2013년도 이전</th>\n",
       "      <th>2014년</th>\n",
       "      <th>2015년</th>\n",
       "      <th>2016년</th>\n",
       "    </tr>\n",
       "  </thead>\n",
       "  <tbody>\n",
       "    <tr>\n",
       "      <th>0</th>\n",
       "      <td>강남구</td>\n",
       "      <td>2780</td>\n",
       "      <td>1292</td>\n",
       "      <td>430</td>\n",
       "      <td>584</td>\n",
       "      <td>932</td>\n",
       "    </tr>\n",
       "    <tr>\n",
       "      <th>1</th>\n",
       "      <td>강동구</td>\n",
       "      <td>773</td>\n",
       "      <td>379</td>\n",
       "      <td>99</td>\n",
       "      <td>155</td>\n",
       "      <td>377</td>\n",
       "    </tr>\n",
       "    <tr>\n",
       "      <th>2</th>\n",
       "      <td>강북구</td>\n",
       "      <td>748</td>\n",
       "      <td>369</td>\n",
       "      <td>120</td>\n",
       "      <td>138</td>\n",
       "      <td>204</td>\n",
       "    </tr>\n",
       "    <tr>\n",
       "      <th>3</th>\n",
       "      <td>강서구</td>\n",
       "      <td>884</td>\n",
       "      <td>388</td>\n",
       "      <td>258</td>\n",
       "      <td>184</td>\n",
       "      <td>81</td>\n",
       "    </tr>\n",
       "    <tr>\n",
       "      <th>4</th>\n",
       "      <td>관악구</td>\n",
       "      <td>1496</td>\n",
       "      <td>846</td>\n",
       "      <td>260</td>\n",
       "      <td>390</td>\n",
       "      <td>613</td>\n",
       "    </tr>\n",
       "  </tbody>\n",
       "</table>\n",
       "</div>"
      ],
      "text/plain": [
       "    구별    소계  2013년도 이전  2014년  2015년  2016년\n",
       "0  강남구  2780       1292    430    584    932\n",
       "1  강동구   773        379     99    155    377\n",
       "2  강북구   748        369    120    138    204\n",
       "3  강서구   884        388    258    184     81\n",
       "4  관악구  1496        846    260    390    613"
      ]
     },
     "execution_count": 59,
     "metadata": {},
     "output_type": "execute_result"
    }
   ],
   "source": [
    "CCTV_Seoul.head()"
   ]
  },
  {
   "cell_type": "markdown",
   "id": "serial-remainder",
   "metadata": {},
   "source": [
    "구별 CCTV 데이터에서 CCTV 전체 개수인 소계로 정렬하자."
   ]
  },
  {
   "cell_type": "code",
   "execution_count": 60,
   "id": "unsigned-locator",
   "metadata": {},
   "outputs": [
    {
     "data": {
      "text/html": [
       "<div>\n",
       "<style scoped>\n",
       "    .dataframe tbody tr th:only-of-type {\n",
       "        vertical-align: middle;\n",
       "    }\n",
       "\n",
       "    .dataframe tbody tr th {\n",
       "        vertical-align: top;\n",
       "    }\n",
       "\n",
       "    .dataframe thead th {\n",
       "        text-align: right;\n",
       "    }\n",
       "</style>\n",
       "<table border=\"1\" class=\"dataframe\">\n",
       "  <thead>\n",
       "    <tr style=\"text-align: right;\">\n",
       "      <th></th>\n",
       "      <th>구별</th>\n",
       "      <th>소계</th>\n",
       "      <th>2013년도 이전</th>\n",
       "      <th>2014년</th>\n",
       "      <th>2015년</th>\n",
       "      <th>2016년</th>\n",
       "    </tr>\n",
       "  </thead>\n",
       "  <tbody>\n",
       "    <tr>\n",
       "      <th>9</th>\n",
       "      <td>도봉구</td>\n",
       "      <td>485</td>\n",
       "      <td>238</td>\n",
       "      <td>159</td>\n",
       "      <td>42</td>\n",
       "      <td>386</td>\n",
       "    </tr>\n",
       "    <tr>\n",
       "      <th>12</th>\n",
       "      <td>마포구</td>\n",
       "      <td>574</td>\n",
       "      <td>314</td>\n",
       "      <td>118</td>\n",
       "      <td>169</td>\n",
       "      <td>379</td>\n",
       "    </tr>\n",
       "    <tr>\n",
       "      <th>17</th>\n",
       "      <td>송파구</td>\n",
       "      <td>618</td>\n",
       "      <td>529</td>\n",
       "      <td>21</td>\n",
       "      <td>68</td>\n",
       "      <td>463</td>\n",
       "    </tr>\n",
       "    <tr>\n",
       "      <th>24</th>\n",
       "      <td>중랑구</td>\n",
       "      <td>660</td>\n",
       "      <td>509</td>\n",
       "      <td>121</td>\n",
       "      <td>177</td>\n",
       "      <td>109</td>\n",
       "    </tr>\n",
       "    <tr>\n",
       "      <th>23</th>\n",
       "      <td>중구</td>\n",
       "      <td>671</td>\n",
       "      <td>413</td>\n",
       "      <td>190</td>\n",
       "      <td>72</td>\n",
       "      <td>348</td>\n",
       "    </tr>\n",
       "  </tbody>\n",
       "</table>\n",
       "</div>"
      ],
      "text/plain": [
       "     구별   소계  2013년도 이전  2014년  2015년  2016년\n",
       "9   도봉구  485        238    159     42    386\n",
       "12  마포구  574        314    118    169    379\n",
       "17  송파구  618        529     21     68    463\n",
       "24  중랑구  660        509    121    177    109\n",
       "23   중구  671        413    190     72    348"
      ]
     },
     "execution_count": 60,
     "metadata": {},
     "output_type": "execute_result"
    }
   ],
   "source": [
    "CCTV_Seoul.sort_values(by='소계', ascending=True).head(5)"
   ]
  },
  {
   "cell_type": "markdown",
   "id": "automotive-greenhouse",
   "metadata": {},
   "source": [
    "CCTV의 전체 개수가 가장 작은 구는 도봉구, 마포구, 송파구, 중랑구, 중구 라는 것을 알 수 있다. 의아한 것은 강남 3구 중 하나인 송파구가 CCTV가 가장 적은 구 중 하나라는 건데 앞에서 보면 송파구는 범죄율이 결코 낮은 구가 아니다. 그런데 CCTV가 적은 구 중에 하나이다."
   ]
  },
  {
   "cell_type": "code",
   "execution_count": 61,
   "id": "bulgarian-exposure",
   "metadata": {},
   "outputs": [
    {
     "data": {
      "text/html": [
       "<div>\n",
       "<style scoped>\n",
       "    .dataframe tbody tr th:only-of-type {\n",
       "        vertical-align: middle;\n",
       "    }\n",
       "\n",
       "    .dataframe tbody tr th {\n",
       "        vertical-align: top;\n",
       "    }\n",
       "\n",
       "    .dataframe thead th {\n",
       "        text-align: right;\n",
       "    }\n",
       "</style>\n",
       "<table border=\"1\" class=\"dataframe\">\n",
       "  <thead>\n",
       "    <tr style=\"text-align: right;\">\n",
       "      <th></th>\n",
       "      <th>구별</th>\n",
       "      <th>소계</th>\n",
       "      <th>2013년도 이전</th>\n",
       "      <th>2014년</th>\n",
       "      <th>2015년</th>\n",
       "      <th>2016년</th>\n",
       "    </tr>\n",
       "  </thead>\n",
       "  <tbody>\n",
       "    <tr>\n",
       "      <th>0</th>\n",
       "      <td>강남구</td>\n",
       "      <td>2780</td>\n",
       "      <td>1292</td>\n",
       "      <td>430</td>\n",
       "      <td>584</td>\n",
       "      <td>932</td>\n",
       "    </tr>\n",
       "    <tr>\n",
       "      <th>18</th>\n",
       "      <td>양천구</td>\n",
       "      <td>2034</td>\n",
       "      <td>1843</td>\n",
       "      <td>142</td>\n",
       "      <td>30</td>\n",
       "      <td>467</td>\n",
       "    </tr>\n",
       "    <tr>\n",
       "      <th>14</th>\n",
       "      <td>서초구</td>\n",
       "      <td>1930</td>\n",
       "      <td>1406</td>\n",
       "      <td>157</td>\n",
       "      <td>336</td>\n",
       "      <td>398</td>\n",
       "    </tr>\n",
       "    <tr>\n",
       "      <th>21</th>\n",
       "      <td>은평구</td>\n",
       "      <td>1873</td>\n",
       "      <td>1138</td>\n",
       "      <td>224</td>\n",
       "      <td>278</td>\n",
       "      <td>468</td>\n",
       "    </tr>\n",
       "    <tr>\n",
       "      <th>20</th>\n",
       "      <td>용산구</td>\n",
       "      <td>1624</td>\n",
       "      <td>1368</td>\n",
       "      <td>218</td>\n",
       "      <td>112</td>\n",
       "      <td>398</td>\n",
       "    </tr>\n",
       "  </tbody>\n",
       "</table>\n",
       "</div>"
      ],
      "text/plain": [
       "     구별    소계  2013년도 이전  2014년  2015년  2016년\n",
       "0   강남구  2780       1292    430    584    932\n",
       "18  양천구  2034       1843    142     30    467\n",
       "14  서초구  1930       1406    157    336    398\n",
       "21  은평구  1873       1138    224    278    468\n",
       "20  용산구  1624       1368    218    112    398"
      ]
     },
     "execution_count": 61,
     "metadata": {},
     "output_type": "execute_result"
    }
   ],
   "source": [
    "CCTV_Seoul.sort_values(by = '소계', ascending=False).head(5)"
   ]
  },
  {
   "cell_type": "markdown",
   "id": "mobile-newman",
   "metadata": {},
   "source": [
    "그리고 CCTV가 가장 많은 구는 강남구, 양천구, 서초구, 은평구, 용산구로 나타난다. 특히 2014년 부터 2016년 까지 최근 3년간 CCTV 수를 더하고 2013년 이전 CCTV 수로 나눠서 최근 3년간 CCTV 증가율을 계산하자."
   ]
  },
  {
   "cell_type": "code",
   "execution_count": 62,
   "id": "objective-sheet",
   "metadata": {},
   "outputs": [
    {
     "data": {
      "text/html": [
       "<div>\n",
       "<style scoped>\n",
       "    .dataframe tbody tr th:only-of-type {\n",
       "        vertical-align: middle;\n",
       "    }\n",
       "\n",
       "    .dataframe tbody tr th {\n",
       "        vertical-align: top;\n",
       "    }\n",
       "\n",
       "    .dataframe thead th {\n",
       "        text-align: right;\n",
       "    }\n",
       "</style>\n",
       "<table border=\"1\" class=\"dataframe\">\n",
       "  <thead>\n",
       "    <tr style=\"text-align: right;\">\n",
       "      <th></th>\n",
       "      <th>구별</th>\n",
       "      <th>소계</th>\n",
       "      <th>2013년도 이전</th>\n",
       "      <th>2014년</th>\n",
       "      <th>2015년</th>\n",
       "      <th>2016년</th>\n",
       "      <th>최근증가율</th>\n",
       "    </tr>\n",
       "  </thead>\n",
       "  <tbody>\n",
       "    <tr>\n",
       "      <th>22</th>\n",
       "      <td>종로구</td>\n",
       "      <td>1002</td>\n",
       "      <td>464</td>\n",
       "      <td>314</td>\n",
       "      <td>211</td>\n",
       "      <td>630</td>\n",
       "      <td>248.922414</td>\n",
       "    </tr>\n",
       "    <tr>\n",
       "      <th>9</th>\n",
       "      <td>도봉구</td>\n",
       "      <td>485</td>\n",
       "      <td>238</td>\n",
       "      <td>159</td>\n",
       "      <td>42</td>\n",
       "      <td>386</td>\n",
       "      <td>246.638655</td>\n",
       "    </tr>\n",
       "    <tr>\n",
       "      <th>12</th>\n",
       "      <td>마포구</td>\n",
       "      <td>574</td>\n",
       "      <td>314</td>\n",
       "      <td>118</td>\n",
       "      <td>169</td>\n",
       "      <td>379</td>\n",
       "      <td>212.101911</td>\n",
       "    </tr>\n",
       "    <tr>\n",
       "      <th>8</th>\n",
       "      <td>노원구</td>\n",
       "      <td>1265</td>\n",
       "      <td>542</td>\n",
       "      <td>57</td>\n",
       "      <td>451</td>\n",
       "      <td>516</td>\n",
       "      <td>188.929889</td>\n",
       "    </tr>\n",
       "    <tr>\n",
       "      <th>1</th>\n",
       "      <td>강동구</td>\n",
       "      <td>773</td>\n",
       "      <td>379</td>\n",
       "      <td>99</td>\n",
       "      <td>155</td>\n",
       "      <td>377</td>\n",
       "      <td>166.490765</td>\n",
       "    </tr>\n",
       "  </tbody>\n",
       "</table>\n",
       "</div>"
      ],
      "text/plain": [
       "     구별    소계  2013년도 이전  2014년  2015년  2016년       최근증가율\n",
       "22  종로구  1002        464    314    211    630  248.922414\n",
       "9   도봉구   485        238    159     42    386  246.638655\n",
       "12  마포구   574        314    118    169    379  212.101911\n",
       "8   노원구  1265        542     57    451    516  188.929889\n",
       "1   강동구   773        379     99    155    377  166.490765"
      ]
     },
     "execution_count": 62,
     "metadata": {},
     "output_type": "execute_result"
    }
   ],
   "source": [
    "CCTV_Seoul['최근증가율'] = (CCTV_Seoul['2016년'] + CCTV_Seoul['2015년'] + CCTV_Seoul['2014년']) / CCTV_Seoul['2013년도 이전'] *100\n",
    "CCTV_Seoul.sort_values(by='최근증가율', ascending=False).head(5)"
   ]
  },
  {
   "cell_type": "markdown",
   "id": "damaged-freeze",
   "metadata": {},
   "source": [
    "그 결과를 보면 최근 3년간 CCTV가 그 이전 대비 많이 증가한 구는 종로구, 도봉구, 마포구, 노원구, 강동구 라는 것을 알 수 있다. 이제 서울시 인구 현황을 정리해 보자.\n"
   ]
  },
  {
   "cell_type": "code",
   "execution_count": 63,
   "id": "completed-norman",
   "metadata": {},
   "outputs": [
    {
     "data": {
      "text/html": [
       "<div>\n",
       "<style scoped>\n",
       "    .dataframe tbody tr th:only-of-type {\n",
       "        vertical-align: middle;\n",
       "    }\n",
       "\n",
       "    .dataframe tbody tr th {\n",
       "        vertical-align: top;\n",
       "    }\n",
       "\n",
       "    .dataframe thead th {\n",
       "        text-align: right;\n",
       "    }\n",
       "</style>\n",
       "<table border=\"1\" class=\"dataframe\">\n",
       "  <thead>\n",
       "    <tr style=\"text-align: right;\">\n",
       "      <th></th>\n",
       "      <th>구별</th>\n",
       "      <th>인구수</th>\n",
       "      <th>한국인</th>\n",
       "      <th>외국인</th>\n",
       "      <th>고령자</th>\n",
       "    </tr>\n",
       "  </thead>\n",
       "  <tbody>\n",
       "    <tr>\n",
       "      <th>0</th>\n",
       "      <td>합계</td>\n",
       "      <td>10197604.0</td>\n",
       "      <td>9926968.0</td>\n",
       "      <td>270636.0</td>\n",
       "      <td>1321458.0</td>\n",
       "    </tr>\n",
       "    <tr>\n",
       "      <th>1</th>\n",
       "      <td>종로구</td>\n",
       "      <td>162820.0</td>\n",
       "      <td>153589.0</td>\n",
       "      <td>9231.0</td>\n",
       "      <td>25425.0</td>\n",
       "    </tr>\n",
       "    <tr>\n",
       "      <th>2</th>\n",
       "      <td>중구</td>\n",
       "      <td>133240.0</td>\n",
       "      <td>124312.0</td>\n",
       "      <td>8928.0</td>\n",
       "      <td>20764.0</td>\n",
       "    </tr>\n",
       "    <tr>\n",
       "      <th>3</th>\n",
       "      <td>용산구</td>\n",
       "      <td>244203.0</td>\n",
       "      <td>229456.0</td>\n",
       "      <td>14747.0</td>\n",
       "      <td>36231.0</td>\n",
       "    </tr>\n",
       "    <tr>\n",
       "      <th>4</th>\n",
       "      <td>성동구</td>\n",
       "      <td>311244.0</td>\n",
       "      <td>303380.0</td>\n",
       "      <td>7864.0</td>\n",
       "      <td>39997.0</td>\n",
       "    </tr>\n",
       "  </tbody>\n",
       "</table>\n",
       "</div>"
      ],
      "text/plain": [
       "    구별         인구수        한국인       외국인        고령자\n",
       "0   합계  10197604.0  9926968.0  270636.0  1321458.0\n",
       "1  종로구    162820.0   153589.0    9231.0    25425.0\n",
       "2   중구    133240.0   124312.0    8928.0    20764.0\n",
       "3  용산구    244203.0   229456.0   14747.0    36231.0\n",
       "4  성동구    311244.0   303380.0    7864.0    39997.0"
      ]
     },
     "execution_count": 63,
     "metadata": {},
     "output_type": "execute_result"
    }
   ],
   "source": [
    "pop_Seoul.head()"
   ]
  },
  {
   "cell_type": "markdown",
   "id": "similar-avatar",
   "metadata": {},
   "source": [
    "먼저 pop_Seoul 변수를 확인 했더니 0번 행에 합계가 보인다. 이것은 우리에게 필요가 없다. 이럴 때는 drop 명령을 사용해서 지우자.\n"
   ]
  },
  {
   "cell_type": "code",
   "execution_count": 64,
   "id": "sexual-dining",
   "metadata": {},
   "outputs": [
    {
     "data": {
      "text/html": [
       "<div>\n",
       "<style scoped>\n",
       "    .dataframe tbody tr th:only-of-type {\n",
       "        vertical-align: middle;\n",
       "    }\n",
       "\n",
       "    .dataframe tbody tr th {\n",
       "        vertical-align: top;\n",
       "    }\n",
       "\n",
       "    .dataframe thead th {\n",
       "        text-align: right;\n",
       "    }\n",
       "</style>\n",
       "<table border=\"1\" class=\"dataframe\">\n",
       "  <thead>\n",
       "    <tr style=\"text-align: right;\">\n",
       "      <th></th>\n",
       "      <th>구별</th>\n",
       "      <th>인구수</th>\n",
       "      <th>한국인</th>\n",
       "      <th>외국인</th>\n",
       "      <th>고령자</th>\n",
       "    </tr>\n",
       "  </thead>\n",
       "  <tbody>\n",
       "    <tr>\n",
       "      <th>1</th>\n",
       "      <td>종로구</td>\n",
       "      <td>162820.0</td>\n",
       "      <td>153589.0</td>\n",
       "      <td>9231.0</td>\n",
       "      <td>25425.0</td>\n",
       "    </tr>\n",
       "    <tr>\n",
       "      <th>2</th>\n",
       "      <td>중구</td>\n",
       "      <td>133240.0</td>\n",
       "      <td>124312.0</td>\n",
       "      <td>8928.0</td>\n",
       "      <td>20764.0</td>\n",
       "    </tr>\n",
       "    <tr>\n",
       "      <th>3</th>\n",
       "      <td>용산구</td>\n",
       "      <td>244203.0</td>\n",
       "      <td>229456.0</td>\n",
       "      <td>14747.0</td>\n",
       "      <td>36231.0</td>\n",
       "    </tr>\n",
       "    <tr>\n",
       "      <th>4</th>\n",
       "      <td>성동구</td>\n",
       "      <td>311244.0</td>\n",
       "      <td>303380.0</td>\n",
       "      <td>7864.0</td>\n",
       "      <td>39997.0</td>\n",
       "    </tr>\n",
       "    <tr>\n",
       "      <th>5</th>\n",
       "      <td>광진구</td>\n",
       "      <td>372164.0</td>\n",
       "      <td>357211.0</td>\n",
       "      <td>14953.0</td>\n",
       "      <td>42214.0</td>\n",
       "    </tr>\n",
       "  </tbody>\n",
       "</table>\n",
       "</div>"
      ],
      "text/plain": [
       "    구별       인구수       한국인      외국인      고령자\n",
       "1  종로구  162820.0  153589.0   9231.0  25425.0\n",
       "2   중구  133240.0  124312.0   8928.0  20764.0\n",
       "3  용산구  244203.0  229456.0  14747.0  36231.0\n",
       "4  성동구  311244.0  303380.0   7864.0  39997.0\n",
       "5  광진구  372164.0  357211.0  14953.0  42214.0"
      ]
     },
     "execution_count": 64,
     "metadata": {},
     "output_type": "execute_result"
    }
   ],
   "source": [
    "pop_Seoul.drop([0], inplace=True)\n",
    "pop_Seoul.head()"
   ]
  },
  {
   "cell_type": "markdown",
   "id": "excess-mineral",
   "metadata": {},
   "source": [
    "그리고 pop_Seoul 데이터의 '구별' 컬럼의 unique를 조사하자. 유니크 조사는 반복된 데이터는 하나로 나타내서 한 번 이상 나타난 데이터를 확인하는 것이다."
   ]
  },
  {
   "cell_type": "code",
   "execution_count": 65,
   "id": "ignored-service",
   "metadata": {},
   "outputs": [
    {
     "data": {
      "text/plain": [
       "array(['종로구', '중구', '용산구', '성동구', '광진구', '동대문구', '중랑구', '성북구', '강북구',\n",
       "       '도봉구', '노원구', '은평구', '서대문구', '마포구', '양천구', '강서구', '구로구', '금천구',\n",
       "       '영등포구', '동작구', '관악구', '서초구', '강남구', '송파구', '강동구', nan],\n",
       "      dtype=object)"
      ]
     },
     "execution_count": 65,
     "metadata": {},
     "output_type": "execute_result"
    }
   ],
   "source": [
    "pop_Seoul['구별'].unique()"
   ]
  },
  {
   "cell_type": "markdown",
   "id": "biblical-minority",
   "metadata": {},
   "source": [
    "이렇게 유니크 조사를 했더니 제일 끝에 Nan이 보인다. NaN이 어디에 있는지 확인하기 위해서는 조건문을 사용해야 한다. isnull 명령으로 NaN 데이터를 추출할 수 있다. "
   ]
  },
  {
   "cell_type": "code",
   "execution_count": 66,
   "id": "herbal-covering",
   "metadata": {},
   "outputs": [
    {
     "data": {
      "text/html": [
       "<div>\n",
       "<style scoped>\n",
       "    .dataframe tbody tr th:only-of-type {\n",
       "        vertical-align: middle;\n",
       "    }\n",
       "\n",
       "    .dataframe tbody tr th {\n",
       "        vertical-align: top;\n",
       "    }\n",
       "\n",
       "    .dataframe thead th {\n",
       "        text-align: right;\n",
       "    }\n",
       "</style>\n",
       "<table border=\"1\" class=\"dataframe\">\n",
       "  <thead>\n",
       "    <tr style=\"text-align: right;\">\n",
       "      <th></th>\n",
       "      <th>구별</th>\n",
       "      <th>인구수</th>\n",
       "      <th>한국인</th>\n",
       "      <th>외국인</th>\n",
       "      <th>고령자</th>\n",
       "    </tr>\n",
       "  </thead>\n",
       "  <tbody>\n",
       "    <tr>\n",
       "      <th>26</th>\n",
       "      <td>NaN</td>\n",
       "      <td>NaN</td>\n",
       "      <td>NaN</td>\n",
       "      <td>NaN</td>\n",
       "      <td>NaN</td>\n",
       "    </tr>\n",
       "  </tbody>\n",
       "</table>\n",
       "</div>"
      ],
      "text/plain": [
       "     구별  인구수  한국인  외국인  고령자\n",
       "26  NaN  NaN  NaN  NaN  NaN"
      ]
     },
     "execution_count": 66,
     "metadata": {},
     "output_type": "execute_result"
    }
   ],
   "source": [
    "pop_Seoul[pop_Seoul['구별'].isnull()]"
   ]
  },
  {
   "cell_type": "markdown",
   "id": "naval-message",
   "metadata": {},
   "source": [
    "행을 지우는 drop 명령으로 NaN 이 있던 행을 삭제하자."
   ]
  },
  {
   "cell_type": "code",
   "execution_count": 67,
   "id": "heavy-angola",
   "metadata": {},
   "outputs": [
    {
     "data": {
      "text/html": [
       "<div>\n",
       "<style scoped>\n",
       "    .dataframe tbody tr th:only-of-type {\n",
       "        vertical-align: middle;\n",
       "    }\n",
       "\n",
       "    .dataframe tbody tr th {\n",
       "        vertical-align: top;\n",
       "    }\n",
       "\n",
       "    .dataframe thead th {\n",
       "        text-align: right;\n",
       "    }\n",
       "</style>\n",
       "<table border=\"1\" class=\"dataframe\">\n",
       "  <thead>\n",
       "    <tr style=\"text-align: right;\">\n",
       "      <th></th>\n",
       "      <th>구별</th>\n",
       "      <th>인구수</th>\n",
       "      <th>한국인</th>\n",
       "      <th>외국인</th>\n",
       "      <th>고령자</th>\n",
       "    </tr>\n",
       "  </thead>\n",
       "  <tbody>\n",
       "    <tr>\n",
       "      <th>1</th>\n",
       "      <td>종로구</td>\n",
       "      <td>162820.0</td>\n",
       "      <td>153589.0</td>\n",
       "      <td>9231.0</td>\n",
       "      <td>25425.0</td>\n",
       "    </tr>\n",
       "    <tr>\n",
       "      <th>2</th>\n",
       "      <td>중구</td>\n",
       "      <td>133240.0</td>\n",
       "      <td>124312.0</td>\n",
       "      <td>8928.0</td>\n",
       "      <td>20764.0</td>\n",
       "    </tr>\n",
       "    <tr>\n",
       "      <th>3</th>\n",
       "      <td>용산구</td>\n",
       "      <td>244203.0</td>\n",
       "      <td>229456.0</td>\n",
       "      <td>14747.0</td>\n",
       "      <td>36231.0</td>\n",
       "    </tr>\n",
       "    <tr>\n",
       "      <th>4</th>\n",
       "      <td>성동구</td>\n",
       "      <td>311244.0</td>\n",
       "      <td>303380.0</td>\n",
       "      <td>7864.0</td>\n",
       "      <td>39997.0</td>\n",
       "    </tr>\n",
       "    <tr>\n",
       "      <th>5</th>\n",
       "      <td>광진구</td>\n",
       "      <td>372164.0</td>\n",
       "      <td>357211.0</td>\n",
       "      <td>14953.0</td>\n",
       "      <td>42214.0</td>\n",
       "    </tr>\n",
       "  </tbody>\n",
       "</table>\n",
       "</div>"
      ],
      "text/plain": [
       "    구별       인구수       한국인      외국인      고령자\n",
       "1  종로구  162820.0  153589.0   9231.0  25425.0\n",
       "2   중구  133240.0  124312.0   8928.0  20764.0\n",
       "3  용산구  244203.0  229456.0  14747.0  36231.0\n",
       "4  성동구  311244.0  303380.0   7864.0  39997.0\n",
       "5  광진구  372164.0  357211.0  14953.0  42214.0"
      ]
     },
     "execution_count": 67,
     "metadata": {},
     "output_type": "execute_result"
    }
   ],
   "source": [
    "pop_Seoul.drop([26], inplace=True)\n",
    "pop_Seoul.head()"
   ]
  },
  {
   "cell_type": "markdown",
   "id": "cellular-client",
   "metadata": {},
   "source": [
    "이제 각 구별 전체 인구를 이용해서 구별 외국인비율과 고령자비율을 계산해보자.\n"
   ]
  },
  {
   "cell_type": "code",
   "execution_count": 68,
   "id": "small-organ",
   "metadata": {},
   "outputs": [
    {
     "data": {
      "text/html": [
       "<div>\n",
       "<style scoped>\n",
       "    .dataframe tbody tr th:only-of-type {\n",
       "        vertical-align: middle;\n",
       "    }\n",
       "\n",
       "    .dataframe tbody tr th {\n",
       "        vertical-align: top;\n",
       "    }\n",
       "\n",
       "    .dataframe thead th {\n",
       "        text-align: right;\n",
       "    }\n",
       "</style>\n",
       "<table border=\"1\" class=\"dataframe\">\n",
       "  <thead>\n",
       "    <tr style=\"text-align: right;\">\n",
       "      <th></th>\n",
       "      <th>구별</th>\n",
       "      <th>인구수</th>\n",
       "      <th>한국인</th>\n",
       "      <th>외국인</th>\n",
       "      <th>고령자</th>\n",
       "      <th>외국인비율</th>\n",
       "      <th>고령자비율</th>\n",
       "    </tr>\n",
       "  </thead>\n",
       "  <tbody>\n",
       "    <tr>\n",
       "      <th>1</th>\n",
       "      <td>종로구</td>\n",
       "      <td>162820.0</td>\n",
       "      <td>153589.0</td>\n",
       "      <td>9231.0</td>\n",
       "      <td>25425.0</td>\n",
       "      <td>5.669451</td>\n",
       "      <td>15.615404</td>\n",
       "    </tr>\n",
       "    <tr>\n",
       "      <th>2</th>\n",
       "      <td>중구</td>\n",
       "      <td>133240.0</td>\n",
       "      <td>124312.0</td>\n",
       "      <td>8928.0</td>\n",
       "      <td>20764.0</td>\n",
       "      <td>6.700690</td>\n",
       "      <td>15.583909</td>\n",
       "    </tr>\n",
       "    <tr>\n",
       "      <th>3</th>\n",
       "      <td>용산구</td>\n",
       "      <td>244203.0</td>\n",
       "      <td>229456.0</td>\n",
       "      <td>14747.0</td>\n",
       "      <td>36231.0</td>\n",
       "      <td>6.038828</td>\n",
       "      <td>14.836427</td>\n",
       "    </tr>\n",
       "    <tr>\n",
       "      <th>4</th>\n",
       "      <td>성동구</td>\n",
       "      <td>311244.0</td>\n",
       "      <td>303380.0</td>\n",
       "      <td>7864.0</td>\n",
       "      <td>39997.0</td>\n",
       "      <td>2.526635</td>\n",
       "      <td>12.850689</td>\n",
       "    </tr>\n",
       "    <tr>\n",
       "      <th>5</th>\n",
       "      <td>광진구</td>\n",
       "      <td>372164.0</td>\n",
       "      <td>357211.0</td>\n",
       "      <td>14953.0</td>\n",
       "      <td>42214.0</td>\n",
       "      <td>4.017852</td>\n",
       "      <td>11.342849</td>\n",
       "    </tr>\n",
       "  </tbody>\n",
       "</table>\n",
       "</div>"
      ],
      "text/plain": [
       "    구별       인구수       한국인      외국인      고령자     외국인비율      고령자비율\n",
       "1  종로구  162820.0  153589.0   9231.0  25425.0  5.669451  15.615404\n",
       "2   중구  133240.0  124312.0   8928.0  20764.0  6.700690  15.583909\n",
       "3  용산구  244203.0  229456.0  14747.0  36231.0  6.038828  14.836427\n",
       "4  성동구  311244.0  303380.0   7864.0  39997.0  2.526635  12.850689\n",
       "5  광진구  372164.0  357211.0  14953.0  42214.0  4.017852  11.342849"
      ]
     },
     "execution_count": 68,
     "metadata": {},
     "output_type": "execute_result"
    }
   ],
   "source": [
    "pop_Seoul['외국인비율'] = pop_Seoul['외국인'] / pop_Seoul['인구수'] * 100\n",
    "pop_Seoul['고령자비율'] = pop_Seoul['고령자'] / pop_Seoul['인구수'] * 100\n",
    "pop_Seoul.head()"
   ]
  },
  {
   "cell_type": "markdown",
   "id": "plastic-confirmation",
   "metadata": {},
   "source": [
    "인구수로 정렬했더니 송파구, 강서구, 강남구, 노원구, 관악구 순으로 인구가 많다."
   ]
  },
  {
   "cell_type": "code",
   "execution_count": 69,
   "id": "ordered-chair",
   "metadata": {},
   "outputs": [
    {
     "data": {
      "text/html": [
       "<div>\n",
       "<style scoped>\n",
       "    .dataframe tbody tr th:only-of-type {\n",
       "        vertical-align: middle;\n",
       "    }\n",
       "\n",
       "    .dataframe tbody tr th {\n",
       "        vertical-align: top;\n",
       "    }\n",
       "\n",
       "    .dataframe thead th {\n",
       "        text-align: right;\n",
       "    }\n",
       "</style>\n",
       "<table border=\"1\" class=\"dataframe\">\n",
       "  <thead>\n",
       "    <tr style=\"text-align: right;\">\n",
       "      <th></th>\n",
       "      <th>구별</th>\n",
       "      <th>인구수</th>\n",
       "      <th>한국인</th>\n",
       "      <th>외국인</th>\n",
       "      <th>고령자</th>\n",
       "      <th>외국인비율</th>\n",
       "      <th>고령자비율</th>\n",
       "    </tr>\n",
       "  </thead>\n",
       "  <tbody>\n",
       "    <tr>\n",
       "      <th>24</th>\n",
       "      <td>송파구</td>\n",
       "      <td>667483.0</td>\n",
       "      <td>660584.0</td>\n",
       "      <td>6899.0</td>\n",
       "      <td>72506.0</td>\n",
       "      <td>1.033584</td>\n",
       "      <td>10.862599</td>\n",
       "    </tr>\n",
       "    <tr>\n",
       "      <th>16</th>\n",
       "      <td>강서구</td>\n",
       "      <td>603772.0</td>\n",
       "      <td>597248.0</td>\n",
       "      <td>6524.0</td>\n",
       "      <td>72548.0</td>\n",
       "      <td>1.080540</td>\n",
       "      <td>12.015794</td>\n",
       "    </tr>\n",
       "    <tr>\n",
       "      <th>23</th>\n",
       "      <td>강남구</td>\n",
       "      <td>570500.0</td>\n",
       "      <td>565550.0</td>\n",
       "      <td>4950.0</td>\n",
       "      <td>63167.0</td>\n",
       "      <td>0.867660</td>\n",
       "      <td>11.072217</td>\n",
       "    </tr>\n",
       "    <tr>\n",
       "      <th>11</th>\n",
       "      <td>노원구</td>\n",
       "      <td>569384.0</td>\n",
       "      <td>565565.0</td>\n",
       "      <td>3819.0</td>\n",
       "      <td>71941.0</td>\n",
       "      <td>0.670725</td>\n",
       "      <td>12.634883</td>\n",
       "    </tr>\n",
       "    <tr>\n",
       "      <th>21</th>\n",
       "      <td>관악구</td>\n",
       "      <td>525515.0</td>\n",
       "      <td>507203.0</td>\n",
       "      <td>18312.0</td>\n",
       "      <td>68082.0</td>\n",
       "      <td>3.484582</td>\n",
       "      <td>12.955291</td>\n",
       "    </tr>\n",
       "  </tbody>\n",
       "</table>\n",
       "</div>"
      ],
      "text/plain": [
       "     구별       인구수       한국인      외국인      고령자     외국인비율      고령자비율\n",
       "24  송파구  667483.0  660584.0   6899.0  72506.0  1.033584  10.862599\n",
       "16  강서구  603772.0  597248.0   6524.0  72548.0  1.080540  12.015794\n",
       "23  강남구  570500.0  565550.0   4950.0  63167.0  0.867660  11.072217\n",
       "11  노원구  569384.0  565565.0   3819.0  71941.0  0.670725  12.634883\n",
       "21  관악구  525515.0  507203.0  18312.0  68082.0  3.484582  12.955291"
      ]
     },
     "execution_count": 69,
     "metadata": {},
     "output_type": "execute_result"
    }
   ],
   "source": [
    "pop_Seoul.sort_values(by='인구수', ascending=False).head(5)"
   ]
  },
  {
   "cell_type": "code",
   "execution_count": 70,
   "id": "digital-animation",
   "metadata": {},
   "outputs": [
    {
     "data": {
      "text/html": [
       "<div>\n",
       "<style scoped>\n",
       "    .dataframe tbody tr th:only-of-type {\n",
       "        vertical-align: middle;\n",
       "    }\n",
       "\n",
       "    .dataframe tbody tr th {\n",
       "        vertical-align: top;\n",
       "    }\n",
       "\n",
       "    .dataframe thead th {\n",
       "        text-align: right;\n",
       "    }\n",
       "</style>\n",
       "<table border=\"1\" class=\"dataframe\">\n",
       "  <thead>\n",
       "    <tr style=\"text-align: right;\">\n",
       "      <th></th>\n",
       "      <th>구별</th>\n",
       "      <th>인구수</th>\n",
       "      <th>한국인</th>\n",
       "      <th>외국인</th>\n",
       "      <th>고령자</th>\n",
       "      <th>외국인비율</th>\n",
       "      <th>고령자비율</th>\n",
       "    </tr>\n",
       "  </thead>\n",
       "  <tbody>\n",
       "    <tr>\n",
       "      <th>19</th>\n",
       "      <td>영등포구</td>\n",
       "      <td>402985.0</td>\n",
       "      <td>368072.0</td>\n",
       "      <td>34913.0</td>\n",
       "      <td>52413.0</td>\n",
       "      <td>8.663598</td>\n",
       "      <td>13.006191</td>\n",
       "    </tr>\n",
       "    <tr>\n",
       "      <th>17</th>\n",
       "      <td>구로구</td>\n",
       "      <td>447874.0</td>\n",
       "      <td>416487.0</td>\n",
       "      <td>31387.0</td>\n",
       "      <td>56833.0</td>\n",
       "      <td>7.007998</td>\n",
       "      <td>12.689506</td>\n",
       "    </tr>\n",
       "    <tr>\n",
       "      <th>18</th>\n",
       "      <td>금천구</td>\n",
       "      <td>255082.0</td>\n",
       "      <td>236353.0</td>\n",
       "      <td>18729.0</td>\n",
       "      <td>32970.0</td>\n",
       "      <td>7.342345</td>\n",
       "      <td>12.925255</td>\n",
       "    </tr>\n",
       "    <tr>\n",
       "      <th>21</th>\n",
       "      <td>관악구</td>\n",
       "      <td>525515.0</td>\n",
       "      <td>507203.0</td>\n",
       "      <td>18312.0</td>\n",
       "      <td>68082.0</td>\n",
       "      <td>3.484582</td>\n",
       "      <td>12.955291</td>\n",
       "    </tr>\n",
       "    <tr>\n",
       "      <th>6</th>\n",
       "      <td>동대문구</td>\n",
       "      <td>369496.0</td>\n",
       "      <td>354079.0</td>\n",
       "      <td>15417.0</td>\n",
       "      <td>54173.0</td>\n",
       "      <td>4.172440</td>\n",
       "      <td>14.661322</td>\n",
       "    </tr>\n",
       "  </tbody>\n",
       "</table>\n",
       "</div>"
      ],
      "text/plain": [
       "      구별       인구수       한국인      외국인      고령자     외국인비율      고령자비율\n",
       "19  영등포구  402985.0  368072.0  34913.0  52413.0  8.663598  13.006191\n",
       "17   구로구  447874.0  416487.0  31387.0  56833.0  7.007998  12.689506\n",
       "18   금천구  255082.0  236353.0  18729.0  32970.0  7.342345  12.925255\n",
       "21   관악구  525515.0  507203.0  18312.0  68082.0  3.484582  12.955291\n",
       "6   동대문구  369496.0  354079.0  15417.0  54173.0  4.172440  14.661322"
      ]
     },
     "execution_count": 70,
     "metadata": {},
     "output_type": "execute_result"
    }
   ],
   "source": [
    "pop_Seoul.sort_values(by='외국인', ascending=False).head(5)"
   ]
  },
  {
   "cell_type": "code",
   "execution_count": 71,
   "id": "third-serial",
   "metadata": {},
   "outputs": [
    {
     "data": {
      "text/html": [
       "<div>\n",
       "<style scoped>\n",
       "    .dataframe tbody tr th:only-of-type {\n",
       "        vertical-align: middle;\n",
       "    }\n",
       "\n",
       "    .dataframe tbody tr th {\n",
       "        vertical-align: top;\n",
       "    }\n",
       "\n",
       "    .dataframe thead th {\n",
       "        text-align: right;\n",
       "    }\n",
       "</style>\n",
       "<table border=\"1\" class=\"dataframe\">\n",
       "  <thead>\n",
       "    <tr style=\"text-align: right;\">\n",
       "      <th></th>\n",
       "      <th>구별</th>\n",
       "      <th>인구수</th>\n",
       "      <th>한국인</th>\n",
       "      <th>외국인</th>\n",
       "      <th>고령자</th>\n",
       "      <th>외국인비율</th>\n",
       "      <th>고령자비율</th>\n",
       "    </tr>\n",
       "  </thead>\n",
       "  <tbody>\n",
       "    <tr>\n",
       "      <th>19</th>\n",
       "      <td>영등포구</td>\n",
       "      <td>402985.0</td>\n",
       "      <td>368072.0</td>\n",
       "      <td>34913.0</td>\n",
       "      <td>52413.0</td>\n",
       "      <td>8.663598</td>\n",
       "      <td>13.006191</td>\n",
       "    </tr>\n",
       "    <tr>\n",
       "      <th>18</th>\n",
       "      <td>금천구</td>\n",
       "      <td>255082.0</td>\n",
       "      <td>236353.0</td>\n",
       "      <td>18729.0</td>\n",
       "      <td>32970.0</td>\n",
       "      <td>7.342345</td>\n",
       "      <td>12.925255</td>\n",
       "    </tr>\n",
       "    <tr>\n",
       "      <th>17</th>\n",
       "      <td>구로구</td>\n",
       "      <td>447874.0</td>\n",
       "      <td>416487.0</td>\n",
       "      <td>31387.0</td>\n",
       "      <td>56833.0</td>\n",
       "      <td>7.007998</td>\n",
       "      <td>12.689506</td>\n",
       "    </tr>\n",
       "    <tr>\n",
       "      <th>2</th>\n",
       "      <td>중구</td>\n",
       "      <td>133240.0</td>\n",
       "      <td>124312.0</td>\n",
       "      <td>8928.0</td>\n",
       "      <td>20764.0</td>\n",
       "      <td>6.700690</td>\n",
       "      <td>15.583909</td>\n",
       "    </tr>\n",
       "    <tr>\n",
       "      <th>3</th>\n",
       "      <td>용산구</td>\n",
       "      <td>244203.0</td>\n",
       "      <td>229456.0</td>\n",
       "      <td>14747.0</td>\n",
       "      <td>36231.0</td>\n",
       "      <td>6.038828</td>\n",
       "      <td>14.836427</td>\n",
       "    </tr>\n",
       "  </tbody>\n",
       "</table>\n",
       "</div>"
      ],
      "text/plain": [
       "      구별       인구수       한국인      외국인      고령자     외국인비율      고령자비율\n",
       "19  영등포구  402985.0  368072.0  34913.0  52413.0  8.663598  13.006191\n",
       "18   금천구  255082.0  236353.0  18729.0  32970.0  7.342345  12.925255\n",
       "17   구로구  447874.0  416487.0  31387.0  56833.0  7.007998  12.689506\n",
       "2     중구  133240.0  124312.0   8928.0  20764.0  6.700690  15.583909\n",
       "3    용산구  244203.0  229456.0  14747.0  36231.0  6.038828  14.836427"
      ]
     },
     "execution_count": 71,
     "metadata": {},
     "output_type": "execute_result"
    }
   ],
   "source": [
    "pop_Seoul.sort_values(by='외국인비율', ascending=False).head(5)"
   ]
  },
  {
   "cell_type": "markdown",
   "id": "alive-hindu",
   "metadata": {},
   "source": [
    "외국인 숫자가 많은구는 영등포구, 구로구, 금천구, 관악구, 동대문구 이지만 외국인 비율이 높은 구는 영등포, 금천구, 구로구, 중구, 용산구로 조금 바뀐다."
   ]
  },
  {
   "cell_type": "code",
   "execution_count": 72,
   "id": "pediatric-tonight",
   "metadata": {},
   "outputs": [
    {
     "data": {
      "text/html": [
       "<div>\n",
       "<style scoped>\n",
       "    .dataframe tbody tr th:only-of-type {\n",
       "        vertical-align: middle;\n",
       "    }\n",
       "\n",
       "    .dataframe tbody tr th {\n",
       "        vertical-align: top;\n",
       "    }\n",
       "\n",
       "    .dataframe thead th {\n",
       "        text-align: right;\n",
       "    }\n",
       "</style>\n",
       "<table border=\"1\" class=\"dataframe\">\n",
       "  <thead>\n",
       "    <tr style=\"text-align: right;\">\n",
       "      <th></th>\n",
       "      <th>구별</th>\n",
       "      <th>인구수</th>\n",
       "      <th>한국인</th>\n",
       "      <th>외국인</th>\n",
       "      <th>고령자</th>\n",
       "      <th>외국인비율</th>\n",
       "      <th>고령자비율</th>\n",
       "    </tr>\n",
       "  </thead>\n",
       "  <tbody>\n",
       "    <tr>\n",
       "      <th>16</th>\n",
       "      <td>강서구</td>\n",
       "      <td>603772.0</td>\n",
       "      <td>597248.0</td>\n",
       "      <td>6524.0</td>\n",
       "      <td>72548.0</td>\n",
       "      <td>1.080540</td>\n",
       "      <td>12.015794</td>\n",
       "    </tr>\n",
       "    <tr>\n",
       "      <th>24</th>\n",
       "      <td>송파구</td>\n",
       "      <td>667483.0</td>\n",
       "      <td>660584.0</td>\n",
       "      <td>6899.0</td>\n",
       "      <td>72506.0</td>\n",
       "      <td>1.033584</td>\n",
       "      <td>10.862599</td>\n",
       "    </tr>\n",
       "    <tr>\n",
       "      <th>12</th>\n",
       "      <td>은평구</td>\n",
       "      <td>494388.0</td>\n",
       "      <td>489943.0</td>\n",
       "      <td>4445.0</td>\n",
       "      <td>72334.0</td>\n",
       "      <td>0.899091</td>\n",
       "      <td>14.631019</td>\n",
       "    </tr>\n",
       "    <tr>\n",
       "      <th>11</th>\n",
       "      <td>노원구</td>\n",
       "      <td>569384.0</td>\n",
       "      <td>565565.0</td>\n",
       "      <td>3819.0</td>\n",
       "      <td>71941.0</td>\n",
       "      <td>0.670725</td>\n",
       "      <td>12.634883</td>\n",
       "    </tr>\n",
       "    <tr>\n",
       "      <th>21</th>\n",
       "      <td>관악구</td>\n",
       "      <td>525515.0</td>\n",
       "      <td>507203.0</td>\n",
       "      <td>18312.0</td>\n",
       "      <td>68082.0</td>\n",
       "      <td>3.484582</td>\n",
       "      <td>12.955291</td>\n",
       "    </tr>\n",
       "  </tbody>\n",
       "</table>\n",
       "</div>"
      ],
      "text/plain": [
       "     구별       인구수       한국인      외국인      고령자     외국인비율      고령자비율\n",
       "16  강서구  603772.0  597248.0   6524.0  72548.0  1.080540  12.015794\n",
       "24  송파구  667483.0  660584.0   6899.0  72506.0  1.033584  10.862599\n",
       "12  은평구  494388.0  489943.0   4445.0  72334.0  0.899091  14.631019\n",
       "11  노원구  569384.0  565565.0   3819.0  71941.0  0.670725  12.634883\n",
       "21  관악구  525515.0  507203.0  18312.0  68082.0  3.484582  12.955291"
      ]
     },
     "execution_count": 72,
     "metadata": {},
     "output_type": "execute_result"
    }
   ],
   "source": [
    "pop_Seoul.sort_values(by='고령자', ascending=False).head(5)"
   ]
  },
  {
   "cell_type": "code",
   "execution_count": 73,
   "id": "seventh-aside",
   "metadata": {},
   "outputs": [
    {
     "data": {
      "text/html": [
       "<div>\n",
       "<style scoped>\n",
       "    .dataframe tbody tr th:only-of-type {\n",
       "        vertical-align: middle;\n",
       "    }\n",
       "\n",
       "    .dataframe tbody tr th {\n",
       "        vertical-align: top;\n",
       "    }\n",
       "\n",
       "    .dataframe thead th {\n",
       "        text-align: right;\n",
       "    }\n",
       "</style>\n",
       "<table border=\"1\" class=\"dataframe\">\n",
       "  <thead>\n",
       "    <tr style=\"text-align: right;\">\n",
       "      <th></th>\n",
       "      <th>구별</th>\n",
       "      <th>인구수</th>\n",
       "      <th>한국인</th>\n",
       "      <th>외국인</th>\n",
       "      <th>고령자</th>\n",
       "      <th>외국인비율</th>\n",
       "      <th>고령자비율</th>\n",
       "    </tr>\n",
       "  </thead>\n",
       "  <tbody>\n",
       "    <tr>\n",
       "      <th>9</th>\n",
       "      <td>강북구</td>\n",
       "      <td>330192.0</td>\n",
       "      <td>326686.0</td>\n",
       "      <td>3506.0</td>\n",
       "      <td>54813.0</td>\n",
       "      <td>1.061806</td>\n",
       "      <td>16.600342</td>\n",
       "    </tr>\n",
       "    <tr>\n",
       "      <th>1</th>\n",
       "      <td>종로구</td>\n",
       "      <td>162820.0</td>\n",
       "      <td>153589.0</td>\n",
       "      <td>9231.0</td>\n",
       "      <td>25425.0</td>\n",
       "      <td>5.669451</td>\n",
       "      <td>15.615404</td>\n",
       "    </tr>\n",
       "    <tr>\n",
       "      <th>2</th>\n",
       "      <td>중구</td>\n",
       "      <td>133240.0</td>\n",
       "      <td>124312.0</td>\n",
       "      <td>8928.0</td>\n",
       "      <td>20764.0</td>\n",
       "      <td>6.700690</td>\n",
       "      <td>15.583909</td>\n",
       "    </tr>\n",
       "    <tr>\n",
       "      <th>3</th>\n",
       "      <td>용산구</td>\n",
       "      <td>244203.0</td>\n",
       "      <td>229456.0</td>\n",
       "      <td>14747.0</td>\n",
       "      <td>36231.0</td>\n",
       "      <td>6.038828</td>\n",
       "      <td>14.836427</td>\n",
       "    </tr>\n",
       "    <tr>\n",
       "      <th>13</th>\n",
       "      <td>서대문구</td>\n",
       "      <td>327163.0</td>\n",
       "      <td>314982.0</td>\n",
       "      <td>12181.0</td>\n",
       "      <td>48161.0</td>\n",
       "      <td>3.723221</td>\n",
       "      <td>14.720797</td>\n",
       "    </tr>\n",
       "  </tbody>\n",
       "</table>\n",
       "</div>"
      ],
      "text/plain": [
       "      구별       인구수       한국인      외국인      고령자     외국인비율      고령자비율\n",
       "9    강북구  330192.0  326686.0   3506.0  54813.0  1.061806  16.600342\n",
       "1    종로구  162820.0  153589.0   9231.0  25425.0  5.669451  15.615404\n",
       "2     중구  133240.0  124312.0   8928.0  20764.0  6.700690  15.583909\n",
       "3    용산구  244203.0  229456.0  14747.0  36231.0  6.038828  14.836427\n",
       "13  서대문구  327163.0  314982.0  12181.0  48161.0  3.723221  14.720797"
      ]
     },
     "execution_count": 73,
     "metadata": {},
     "output_type": "execute_result"
    }
   ],
   "source": [
    "pop_Seoul.sort_values(by='고령자비율', ascending=False).head(5)"
   ]
  },
  {
   "cell_type": "markdown",
   "id": "vietnamese-repeat",
   "metadata": {},
   "source": [
    "이제 고령자와 고령자 비율을 조사해 보자. 고령자가 많은 구는 강서구, 송파구, 은평구, 노원구 관악구 이지만, 고령자 비율이 높은 구는 강북구, 종로구, 중구, 용산구, 서대문구로 차이가 좀 난다. 이렇게 비록 한정된 내용이지만 데이터들은 확인을 했다. 지금까지 확인한 내용도 중요하지만 여전히 우리는 CCTV의 현황을 완전히 파악하진 않았다. 인구 대비 CCTV 현황 같은 내용을 확인하고 싶은데, 그러기 위해선 두 데이터를 병합해야 한다.\n",
    "\n",
    "\n",
    "출처 : 파이썬으로 데이터 주무르기"
   ]
  },
  {
   "cell_type": "markdown",
   "id": "blocked-scout",
   "metadata": {},
   "source": [
    "## 1-5 pandas 고급기능 -  두 DataFrame 병합하기\n",
    "\n",
    "\n",
    "연습용 데이터 3개를 만들어 보자.\n",
    "\n"
   ]
  },
  {
   "cell_type": "code",
   "execution_count": 74,
   "id": "reported-defensive",
   "metadata": {},
   "outputs": [],
   "source": [
    "df1 = pd.DataFrame({'A': ['A0', 'A1', 'A2', 'A3'], \n",
    "                    'B': ['B0', 'B1', 'B2', 'B3'],\n",
    "                    'C': ['C0', 'C1', 'C2', 'C3'],\n",
    "                    'D': ['D0', 'D1', 'D2', 'D3']},\n",
    "                   index=[0, 1, 2, 3])\n",
    "\n",
    "df2 = pd.DataFrame({'A': ['A4', 'A5', 'A6', 'A7'],\n",
    "                    'B': ['B4', 'B5', 'B6', 'B7'],\n",
    "                    'C': ['C4', 'C5', 'C6', 'C7'],\n",
    "                    'D': ['D4', 'D5', 'D6', 'D7']},\n",
    "                   index=[4, 5, 6, 7])\n",
    "\n",
    "df3 = pd.DataFrame({'A': ['A8', 'A9', 'A10', 'A11'],\n",
    "                    'B': ['B8', 'B9', 'B10', 'B11'],\n",
    "                    'C': ['C8', 'C9', 'C10', 'C11'],\n",
    "                    'D': ['D8', 'D9', 'D10', 'D11']},\n",
    "                   index=[8, 9, 10, 11])"
   ]
  },
  {
   "cell_type": "code",
   "execution_count": 75,
   "id": "distributed-cabinet",
   "metadata": {},
   "outputs": [
    {
     "data": {
      "text/html": [
       "<div>\n",
       "<style scoped>\n",
       "    .dataframe tbody tr th:only-of-type {\n",
       "        vertical-align: middle;\n",
       "    }\n",
       "\n",
       "    .dataframe tbody tr th {\n",
       "        vertical-align: top;\n",
       "    }\n",
       "\n",
       "    .dataframe thead th {\n",
       "        text-align: right;\n",
       "    }\n",
       "</style>\n",
       "<table border=\"1\" class=\"dataframe\">\n",
       "  <thead>\n",
       "    <tr style=\"text-align: right;\">\n",
       "      <th></th>\n",
       "      <th>A</th>\n",
       "      <th>B</th>\n",
       "      <th>C</th>\n",
       "      <th>D</th>\n",
       "    </tr>\n",
       "  </thead>\n",
       "  <tbody>\n",
       "    <tr>\n",
       "      <th>0</th>\n",
       "      <td>A0</td>\n",
       "      <td>B0</td>\n",
       "      <td>C0</td>\n",
       "      <td>D0</td>\n",
       "    </tr>\n",
       "    <tr>\n",
       "      <th>1</th>\n",
       "      <td>A1</td>\n",
       "      <td>B1</td>\n",
       "      <td>C1</td>\n",
       "      <td>D1</td>\n",
       "    </tr>\n",
       "    <tr>\n",
       "      <th>2</th>\n",
       "      <td>A2</td>\n",
       "      <td>B2</td>\n",
       "      <td>C2</td>\n",
       "      <td>D2</td>\n",
       "    </tr>\n",
       "    <tr>\n",
       "      <th>3</th>\n",
       "      <td>A3</td>\n",
       "      <td>B3</td>\n",
       "      <td>C3</td>\n",
       "      <td>D3</td>\n",
       "    </tr>\n",
       "  </tbody>\n",
       "</table>\n",
       "</div>"
      ],
      "text/plain": [
       "    A   B   C   D\n",
       "0  A0  B0  C0  D0\n",
       "1  A1  B1  C1  D1\n",
       "2  A2  B2  C2  D2\n",
       "3  A3  B3  C3  D3"
      ]
     },
     "execution_count": 75,
     "metadata": {},
     "output_type": "execute_result"
    }
   ],
   "source": [
    "df1"
   ]
  },
  {
   "cell_type": "code",
   "execution_count": 76,
   "id": "obvious-picnic",
   "metadata": {},
   "outputs": [
    {
     "data": {
      "text/html": [
       "<div>\n",
       "<style scoped>\n",
       "    .dataframe tbody tr th:only-of-type {\n",
       "        vertical-align: middle;\n",
       "    }\n",
       "\n",
       "    .dataframe tbody tr th {\n",
       "        vertical-align: top;\n",
       "    }\n",
       "\n",
       "    .dataframe thead th {\n",
       "        text-align: right;\n",
       "    }\n",
       "</style>\n",
       "<table border=\"1\" class=\"dataframe\">\n",
       "  <thead>\n",
       "    <tr style=\"text-align: right;\">\n",
       "      <th></th>\n",
       "      <th>A</th>\n",
       "      <th>B</th>\n",
       "      <th>C</th>\n",
       "      <th>D</th>\n",
       "    </tr>\n",
       "  </thead>\n",
       "  <tbody>\n",
       "    <tr>\n",
       "      <th>4</th>\n",
       "      <td>A4</td>\n",
       "      <td>B4</td>\n",
       "      <td>C4</td>\n",
       "      <td>D4</td>\n",
       "    </tr>\n",
       "    <tr>\n",
       "      <th>5</th>\n",
       "      <td>A5</td>\n",
       "      <td>B5</td>\n",
       "      <td>C5</td>\n",
       "      <td>D5</td>\n",
       "    </tr>\n",
       "    <tr>\n",
       "      <th>6</th>\n",
       "      <td>A6</td>\n",
       "      <td>B6</td>\n",
       "      <td>C6</td>\n",
       "      <td>D6</td>\n",
       "    </tr>\n",
       "    <tr>\n",
       "      <th>7</th>\n",
       "      <td>A7</td>\n",
       "      <td>B7</td>\n",
       "      <td>C7</td>\n",
       "      <td>D7</td>\n",
       "    </tr>\n",
       "  </tbody>\n",
       "</table>\n",
       "</div>"
      ],
      "text/plain": [
       "    A   B   C   D\n",
       "4  A4  B4  C4  D4\n",
       "5  A5  B5  C5  D5\n",
       "6  A6  B6  C6  D6\n",
       "7  A7  B7  C7  D7"
      ]
     },
     "execution_count": 76,
     "metadata": {},
     "output_type": "execute_result"
    }
   ],
   "source": [
    "df2"
   ]
  },
  {
   "cell_type": "code",
   "execution_count": 77,
   "id": "another-boutique",
   "metadata": {},
   "outputs": [
    {
     "data": {
      "text/html": [
       "<div>\n",
       "<style scoped>\n",
       "    .dataframe tbody tr th:only-of-type {\n",
       "        vertical-align: middle;\n",
       "    }\n",
       "\n",
       "    .dataframe tbody tr th {\n",
       "        vertical-align: top;\n",
       "    }\n",
       "\n",
       "    .dataframe thead th {\n",
       "        text-align: right;\n",
       "    }\n",
       "</style>\n",
       "<table border=\"1\" class=\"dataframe\">\n",
       "  <thead>\n",
       "    <tr style=\"text-align: right;\">\n",
       "      <th></th>\n",
       "      <th>A</th>\n",
       "      <th>B</th>\n",
       "      <th>C</th>\n",
       "      <th>D</th>\n",
       "    </tr>\n",
       "  </thead>\n",
       "  <tbody>\n",
       "    <tr>\n",
       "      <th>8</th>\n",
       "      <td>A8</td>\n",
       "      <td>B8</td>\n",
       "      <td>C8</td>\n",
       "      <td>D8</td>\n",
       "    </tr>\n",
       "    <tr>\n",
       "      <th>9</th>\n",
       "      <td>A9</td>\n",
       "      <td>B9</td>\n",
       "      <td>C9</td>\n",
       "      <td>D9</td>\n",
       "    </tr>\n",
       "    <tr>\n",
       "      <th>10</th>\n",
       "      <td>A10</td>\n",
       "      <td>B10</td>\n",
       "      <td>C10</td>\n",
       "      <td>D10</td>\n",
       "    </tr>\n",
       "    <tr>\n",
       "      <th>11</th>\n",
       "      <td>A11</td>\n",
       "      <td>B11</td>\n",
       "      <td>C11</td>\n",
       "      <td>D11</td>\n",
       "    </tr>\n",
       "  </tbody>\n",
       "</table>\n",
       "</div>"
      ],
      "text/plain": [
       "      A    B    C    D\n",
       "8    A8   B8   C8   D8\n",
       "9    A9   B9   C9   D9\n",
       "10  A10  B10  C10  D10\n",
       "11  A11  B11  C11  D11"
      ]
     },
     "execution_count": 77,
     "metadata": {},
     "output_type": "execute_result"
    }
   ],
   "source": [
    "df3"
   ]
  },
  {
   "cell_type": "markdown",
   "id": "perceived-surface",
   "metadata": {},
   "source": [
    "이렇게 만든 데이터를 열 방향으로 단순히 합치는 것은 concat 명령이다.\n"
   ]
  },
  {
   "cell_type": "code",
   "execution_count": 78,
   "id": "terminal-pitch",
   "metadata": {},
   "outputs": [
    {
     "data": {
      "text/html": [
       "<div>\n",
       "<style scoped>\n",
       "    .dataframe tbody tr th:only-of-type {\n",
       "        vertical-align: middle;\n",
       "    }\n",
       "\n",
       "    .dataframe tbody tr th {\n",
       "        vertical-align: top;\n",
       "    }\n",
       "\n",
       "    .dataframe thead th {\n",
       "        text-align: right;\n",
       "    }\n",
       "</style>\n",
       "<table border=\"1\" class=\"dataframe\">\n",
       "  <thead>\n",
       "    <tr style=\"text-align: right;\">\n",
       "      <th></th>\n",
       "      <th>A</th>\n",
       "      <th>B</th>\n",
       "      <th>C</th>\n",
       "      <th>D</th>\n",
       "    </tr>\n",
       "  </thead>\n",
       "  <tbody>\n",
       "    <tr>\n",
       "      <th>0</th>\n",
       "      <td>A0</td>\n",
       "      <td>B0</td>\n",
       "      <td>C0</td>\n",
       "      <td>D0</td>\n",
       "    </tr>\n",
       "    <tr>\n",
       "      <th>1</th>\n",
       "      <td>A1</td>\n",
       "      <td>B1</td>\n",
       "      <td>C1</td>\n",
       "      <td>D1</td>\n",
       "    </tr>\n",
       "    <tr>\n",
       "      <th>2</th>\n",
       "      <td>A2</td>\n",
       "      <td>B2</td>\n",
       "      <td>C2</td>\n",
       "      <td>D2</td>\n",
       "    </tr>\n",
       "    <tr>\n",
       "      <th>3</th>\n",
       "      <td>A3</td>\n",
       "      <td>B3</td>\n",
       "      <td>C3</td>\n",
       "      <td>D3</td>\n",
       "    </tr>\n",
       "    <tr>\n",
       "      <th>4</th>\n",
       "      <td>A4</td>\n",
       "      <td>B4</td>\n",
       "      <td>C4</td>\n",
       "      <td>D4</td>\n",
       "    </tr>\n",
       "    <tr>\n",
       "      <th>5</th>\n",
       "      <td>A5</td>\n",
       "      <td>B5</td>\n",
       "      <td>C5</td>\n",
       "      <td>D5</td>\n",
       "    </tr>\n",
       "    <tr>\n",
       "      <th>6</th>\n",
       "      <td>A6</td>\n",
       "      <td>B6</td>\n",
       "      <td>C6</td>\n",
       "      <td>D6</td>\n",
       "    </tr>\n",
       "    <tr>\n",
       "      <th>7</th>\n",
       "      <td>A7</td>\n",
       "      <td>B7</td>\n",
       "      <td>C7</td>\n",
       "      <td>D7</td>\n",
       "    </tr>\n",
       "    <tr>\n",
       "      <th>8</th>\n",
       "      <td>A8</td>\n",
       "      <td>B8</td>\n",
       "      <td>C8</td>\n",
       "      <td>D8</td>\n",
       "    </tr>\n",
       "    <tr>\n",
       "      <th>9</th>\n",
       "      <td>A9</td>\n",
       "      <td>B9</td>\n",
       "      <td>C9</td>\n",
       "      <td>D9</td>\n",
       "    </tr>\n",
       "    <tr>\n",
       "      <th>10</th>\n",
       "      <td>A10</td>\n",
       "      <td>B10</td>\n",
       "      <td>C10</td>\n",
       "      <td>D10</td>\n",
       "    </tr>\n",
       "    <tr>\n",
       "      <th>11</th>\n",
       "      <td>A11</td>\n",
       "      <td>B11</td>\n",
       "      <td>C11</td>\n",
       "      <td>D11</td>\n",
       "    </tr>\n",
       "  </tbody>\n",
       "</table>\n",
       "</div>"
      ],
      "text/plain": [
       "      A    B    C    D\n",
       "0    A0   B0   C0   D0\n",
       "1    A1   B1   C1   D1\n",
       "2    A2   B2   C2   D2\n",
       "3    A3   B3   C3   D3\n",
       "4    A4   B4   C4   D4\n",
       "5    A5   B5   C5   D5\n",
       "6    A6   B6   C6   D6\n",
       "7    A7   B7   C7   D7\n",
       "8    A8   B8   C8   D8\n",
       "9    A9   B9   C9   D9\n",
       "10  A10  B10  C10  D10\n",
       "11  A11  B11  C11  D11"
      ]
     },
     "execution_count": 78,
     "metadata": {},
     "output_type": "execute_result"
    }
   ],
   "source": [
    "result = pd.concat([df1,df2,df3])\n",
    "result"
   ]
  },
  {
   "cell_type": "markdown",
   "id": "competent-shopper",
   "metadata": {},
   "source": [
    "단순하게 아무 옵션 없이 그냥 사용하면 열 방향으로 병합한다."
   ]
  },
  {
   "cell_type": "code",
   "execution_count": 79,
   "id": "dynamic-placement",
   "metadata": {},
   "outputs": [
    {
     "data": {
      "text/html": [
       "<div>\n",
       "<style scoped>\n",
       "    .dataframe tbody tr th:only-of-type {\n",
       "        vertical-align: middle;\n",
       "    }\n",
       "\n",
       "    .dataframe tbody tr th {\n",
       "        vertical-align: top;\n",
       "    }\n",
       "\n",
       "    .dataframe thead th {\n",
       "        text-align: right;\n",
       "    }\n",
       "</style>\n",
       "<table border=\"1\" class=\"dataframe\">\n",
       "  <thead>\n",
       "    <tr style=\"text-align: right;\">\n",
       "      <th></th>\n",
       "      <th></th>\n",
       "      <th>A</th>\n",
       "      <th>B</th>\n",
       "      <th>C</th>\n",
       "      <th>D</th>\n",
       "    </tr>\n",
       "  </thead>\n",
       "  <tbody>\n",
       "    <tr>\n",
       "      <th rowspan=\"4\" valign=\"top\">x</th>\n",
       "      <th>0</th>\n",
       "      <td>A0</td>\n",
       "      <td>B0</td>\n",
       "      <td>C0</td>\n",
       "      <td>D0</td>\n",
       "    </tr>\n",
       "    <tr>\n",
       "      <th>1</th>\n",
       "      <td>A1</td>\n",
       "      <td>B1</td>\n",
       "      <td>C1</td>\n",
       "      <td>D1</td>\n",
       "    </tr>\n",
       "    <tr>\n",
       "      <th>2</th>\n",
       "      <td>A2</td>\n",
       "      <td>B2</td>\n",
       "      <td>C2</td>\n",
       "      <td>D2</td>\n",
       "    </tr>\n",
       "    <tr>\n",
       "      <th>3</th>\n",
       "      <td>A3</td>\n",
       "      <td>B3</td>\n",
       "      <td>C3</td>\n",
       "      <td>D3</td>\n",
       "    </tr>\n",
       "    <tr>\n",
       "      <th rowspan=\"4\" valign=\"top\">y</th>\n",
       "      <th>4</th>\n",
       "      <td>A4</td>\n",
       "      <td>B4</td>\n",
       "      <td>C4</td>\n",
       "      <td>D4</td>\n",
       "    </tr>\n",
       "    <tr>\n",
       "      <th>5</th>\n",
       "      <td>A5</td>\n",
       "      <td>B5</td>\n",
       "      <td>C5</td>\n",
       "      <td>D5</td>\n",
       "    </tr>\n",
       "    <tr>\n",
       "      <th>6</th>\n",
       "      <td>A6</td>\n",
       "      <td>B6</td>\n",
       "      <td>C6</td>\n",
       "      <td>D6</td>\n",
       "    </tr>\n",
       "    <tr>\n",
       "      <th>7</th>\n",
       "      <td>A7</td>\n",
       "      <td>B7</td>\n",
       "      <td>C7</td>\n",
       "      <td>D7</td>\n",
       "    </tr>\n",
       "    <tr>\n",
       "      <th rowspan=\"4\" valign=\"top\">z</th>\n",
       "      <th>8</th>\n",
       "      <td>A8</td>\n",
       "      <td>B8</td>\n",
       "      <td>C8</td>\n",
       "      <td>D8</td>\n",
       "    </tr>\n",
       "    <tr>\n",
       "      <th>9</th>\n",
       "      <td>A9</td>\n",
       "      <td>B9</td>\n",
       "      <td>C9</td>\n",
       "      <td>D9</td>\n",
       "    </tr>\n",
       "    <tr>\n",
       "      <th>10</th>\n",
       "      <td>A10</td>\n",
       "      <td>B10</td>\n",
       "      <td>C10</td>\n",
       "      <td>D10</td>\n",
       "    </tr>\n",
       "    <tr>\n",
       "      <th>11</th>\n",
       "      <td>A11</td>\n",
       "      <td>B11</td>\n",
       "      <td>C11</td>\n",
       "      <td>D11</td>\n",
       "    </tr>\n",
       "  </tbody>\n",
       "</table>\n",
       "</div>"
      ],
      "text/plain": [
       "        A    B    C    D\n",
       "x 0    A0   B0   C0   D0\n",
       "  1    A1   B1   C1   D1\n",
       "  2    A2   B2   C2   D2\n",
       "  3    A3   B3   C3   D3\n",
       "y 4    A4   B4   C4   D4\n",
       "  5    A5   B5   C5   D5\n",
       "  6    A6   B6   C6   D6\n",
       "  7    A7   B7   C7   D7\n",
       "z 8    A8   B8   C8   D8\n",
       "  9    A9   B9   C9   D9\n",
       "  10  A10  B10  C10  D10\n",
       "  11  A11  B11  C11  D11"
      ]
     },
     "execution_count": 79,
     "metadata": {},
     "output_type": "execute_result"
    }
   ],
   "source": [
    "result = pd.concat([df1,df2,df3], keys=['x','y','z'])\n",
    "result"
   ]
  },
  {
   "cell_type": "markdown",
   "id": "congressional-impression",
   "metadata": {},
   "source": [
    "특별히 concat 명령에 keys 옵션으로 구분할 수 있다. 이렇게 key 지정된 구분은 다중 index가 되어서 level을 형성한다. 이를 확인하면,"
   ]
  },
  {
   "cell_type": "code",
   "execution_count": 80,
   "id": "physical-thanksgiving",
   "metadata": {},
   "outputs": [
    {
     "data": {
      "text/plain": [
       "MultiIndex([('x',  0),\n",
       "            ('x',  1),\n",
       "            ('x',  2),\n",
       "            ('x',  3),\n",
       "            ('y',  4),\n",
       "            ('y',  5),\n",
       "            ('y',  6),\n",
       "            ('y',  7),\n",
       "            ('z',  8),\n",
       "            ('z',  9),\n",
       "            ('z', 10),\n",
       "            ('z', 11)],\n",
       "           )"
      ]
     },
     "execution_count": 80,
     "metadata": {},
     "output_type": "execute_result"
    }
   ],
   "source": [
    "result.index"
   ]
  },
  {
   "cell_type": "code",
   "execution_count": 81,
   "id": "informative-device",
   "metadata": {},
   "outputs": [
    {
     "data": {
      "text/plain": [
       "Index(['x', 'x', 'x', 'x', 'y', 'y', 'y', 'y', 'z', 'z', 'z', 'z'], dtype='object')"
      ]
     },
     "execution_count": 81,
     "metadata": {},
     "output_type": "execute_result"
    }
   ],
   "source": [
    "result.index.get_level_values(0)"
   ]
  },
  {
   "cell_type": "code",
   "execution_count": 82,
   "id": "further-flesh",
   "metadata": {},
   "outputs": [
    {
     "data": {
      "text/plain": [
       "Int64Index([0, 1, 2, 3, 4, 5, 6, 7, 8, 9, 10, 11], dtype='int64')"
      ]
     },
     "execution_count": 82,
     "metadata": {},
     "output_type": "execute_result"
    }
   ],
   "source": [
    "result.index.get_level_values(1)"
   ]
  },
  {
   "cell_type": "code",
   "execution_count": 83,
   "id": "korean-float",
   "metadata": {},
   "outputs": [],
   "source": [
    "df4 = pd.DataFrame({'B': ['B2', 'B3', 'B6', 'B7'], \n",
    "                    'D': ['D2', 'D3', 'D6', 'D7'],\n",
    "                    'F': ['F2', 'F3', 'F6', 'F7']},\n",
    "                   index=[2, 3, 6, 7])\n",
    "\n",
    "result = pd.concat([df1, df4], axis=1)"
   ]
  },
  {
   "cell_type": "markdown",
   "id": "expanded-pillow",
   "metadata": {},
   "source": [
    "이렇게 만든 df와 df1을 옵션은 axis=1을 주어서 concoat 시켜보자."
   ]
  },
  {
   "cell_type": "code",
   "execution_count": 84,
   "id": "alert-conspiracy",
   "metadata": {},
   "outputs": [
    {
     "data": {
      "text/html": [
       "<div>\n",
       "<style scoped>\n",
       "    .dataframe tbody tr th:only-of-type {\n",
       "        vertical-align: middle;\n",
       "    }\n",
       "\n",
       "    .dataframe tbody tr th {\n",
       "        vertical-align: top;\n",
       "    }\n",
       "\n",
       "    .dataframe thead th {\n",
       "        text-align: right;\n",
       "    }\n",
       "</style>\n",
       "<table border=\"1\" class=\"dataframe\">\n",
       "  <thead>\n",
       "    <tr style=\"text-align: right;\">\n",
       "      <th></th>\n",
       "      <th>A</th>\n",
       "      <th>B</th>\n",
       "      <th>C</th>\n",
       "      <th>D</th>\n",
       "    </tr>\n",
       "  </thead>\n",
       "  <tbody>\n",
       "    <tr>\n",
       "      <th>0</th>\n",
       "      <td>A0</td>\n",
       "      <td>B0</td>\n",
       "      <td>C0</td>\n",
       "      <td>D0</td>\n",
       "    </tr>\n",
       "    <tr>\n",
       "      <th>1</th>\n",
       "      <td>A1</td>\n",
       "      <td>B1</td>\n",
       "      <td>C1</td>\n",
       "      <td>D1</td>\n",
       "    </tr>\n",
       "    <tr>\n",
       "      <th>2</th>\n",
       "      <td>A2</td>\n",
       "      <td>B2</td>\n",
       "      <td>C2</td>\n",
       "      <td>D2</td>\n",
       "    </tr>\n",
       "    <tr>\n",
       "      <th>3</th>\n",
       "      <td>A3</td>\n",
       "      <td>B3</td>\n",
       "      <td>C3</td>\n",
       "      <td>D3</td>\n",
       "    </tr>\n",
       "  </tbody>\n",
       "</table>\n",
       "</div>"
      ],
      "text/plain": [
       "    A   B   C   D\n",
       "0  A0  B0  C0  D0\n",
       "1  A1  B1  C1  D1\n",
       "2  A2  B2  C2  D2\n",
       "3  A3  B3  C3  D3"
      ]
     },
     "execution_count": 84,
     "metadata": {},
     "output_type": "execute_result"
    }
   ],
   "source": [
    "df1"
   ]
  },
  {
   "cell_type": "code",
   "execution_count": 85,
   "id": "modified-society",
   "metadata": {},
   "outputs": [
    {
     "data": {
      "text/html": [
       "<div>\n",
       "<style scoped>\n",
       "    .dataframe tbody tr th:only-of-type {\n",
       "        vertical-align: middle;\n",
       "    }\n",
       "\n",
       "    .dataframe tbody tr th {\n",
       "        vertical-align: top;\n",
       "    }\n",
       "\n",
       "    .dataframe thead th {\n",
       "        text-align: right;\n",
       "    }\n",
       "</style>\n",
       "<table border=\"1\" class=\"dataframe\">\n",
       "  <thead>\n",
       "    <tr style=\"text-align: right;\">\n",
       "      <th></th>\n",
       "      <th>B</th>\n",
       "      <th>D</th>\n",
       "      <th>F</th>\n",
       "    </tr>\n",
       "  </thead>\n",
       "  <tbody>\n",
       "    <tr>\n",
       "      <th>2</th>\n",
       "      <td>B2</td>\n",
       "      <td>D2</td>\n",
       "      <td>F2</td>\n",
       "    </tr>\n",
       "    <tr>\n",
       "      <th>3</th>\n",
       "      <td>B3</td>\n",
       "      <td>D3</td>\n",
       "      <td>F3</td>\n",
       "    </tr>\n",
       "    <tr>\n",
       "      <th>6</th>\n",
       "      <td>B6</td>\n",
       "      <td>D6</td>\n",
       "      <td>F6</td>\n",
       "    </tr>\n",
       "    <tr>\n",
       "      <th>7</th>\n",
       "      <td>B7</td>\n",
       "      <td>D7</td>\n",
       "      <td>F7</td>\n",
       "    </tr>\n",
       "  </tbody>\n",
       "</table>\n",
       "</div>"
      ],
      "text/plain": [
       "    B   D   F\n",
       "2  B2  D2  F2\n",
       "3  B3  D3  F3\n",
       "6  B6  D6  F6\n",
       "7  B7  D7  F7"
      ]
     },
     "execution_count": 85,
     "metadata": {},
     "output_type": "execute_result"
    }
   ],
   "source": [
    "df4"
   ]
  },
  {
   "cell_type": "code",
   "execution_count": 86,
   "id": "continuous-semiconductor",
   "metadata": {},
   "outputs": [
    {
     "data": {
      "text/html": [
       "<div>\n",
       "<style scoped>\n",
       "    .dataframe tbody tr th:only-of-type {\n",
       "        vertical-align: middle;\n",
       "    }\n",
       "\n",
       "    .dataframe tbody tr th {\n",
       "        vertical-align: top;\n",
       "    }\n",
       "\n",
       "    .dataframe thead th {\n",
       "        text-align: right;\n",
       "    }\n",
       "</style>\n",
       "<table border=\"1\" class=\"dataframe\">\n",
       "  <thead>\n",
       "    <tr style=\"text-align: right;\">\n",
       "      <th></th>\n",
       "      <th>A</th>\n",
       "      <th>B</th>\n",
       "      <th>C</th>\n",
       "      <th>D</th>\n",
       "      <th>B</th>\n",
       "      <th>D</th>\n",
       "      <th>F</th>\n",
       "    </tr>\n",
       "  </thead>\n",
       "  <tbody>\n",
       "    <tr>\n",
       "      <th>0</th>\n",
       "      <td>A0</td>\n",
       "      <td>B0</td>\n",
       "      <td>C0</td>\n",
       "      <td>D0</td>\n",
       "      <td>NaN</td>\n",
       "      <td>NaN</td>\n",
       "      <td>NaN</td>\n",
       "    </tr>\n",
       "    <tr>\n",
       "      <th>1</th>\n",
       "      <td>A1</td>\n",
       "      <td>B1</td>\n",
       "      <td>C1</td>\n",
       "      <td>D1</td>\n",
       "      <td>NaN</td>\n",
       "      <td>NaN</td>\n",
       "      <td>NaN</td>\n",
       "    </tr>\n",
       "    <tr>\n",
       "      <th>2</th>\n",
       "      <td>A2</td>\n",
       "      <td>B2</td>\n",
       "      <td>C2</td>\n",
       "      <td>D2</td>\n",
       "      <td>B2</td>\n",
       "      <td>D2</td>\n",
       "      <td>F2</td>\n",
       "    </tr>\n",
       "    <tr>\n",
       "      <th>3</th>\n",
       "      <td>A3</td>\n",
       "      <td>B3</td>\n",
       "      <td>C3</td>\n",
       "      <td>D3</td>\n",
       "      <td>B3</td>\n",
       "      <td>D3</td>\n",
       "      <td>F3</td>\n",
       "    </tr>\n",
       "    <tr>\n",
       "      <th>6</th>\n",
       "      <td>NaN</td>\n",
       "      <td>NaN</td>\n",
       "      <td>NaN</td>\n",
       "      <td>NaN</td>\n",
       "      <td>B6</td>\n",
       "      <td>D6</td>\n",
       "      <td>F6</td>\n",
       "    </tr>\n",
       "    <tr>\n",
       "      <th>7</th>\n",
       "      <td>NaN</td>\n",
       "      <td>NaN</td>\n",
       "      <td>NaN</td>\n",
       "      <td>NaN</td>\n",
       "      <td>B7</td>\n",
       "      <td>D7</td>\n",
       "      <td>F7</td>\n",
       "    </tr>\n",
       "  </tbody>\n",
       "</table>\n",
       "</div>"
      ],
      "text/plain": [
       "     A    B    C    D    B    D    F\n",
       "0   A0   B0   C0   D0  NaN  NaN  NaN\n",
       "1   A1   B1   C1   D1  NaN  NaN  NaN\n",
       "2   A2   B2   C2   D2   B2   D2   F2\n",
       "3   A3   B3   C3   D3   B3   D3   F3\n",
       "6  NaN  NaN  NaN  NaN   B6   D6   F6\n",
       "7  NaN  NaN  NaN  NaN   B7   D7   F7"
      ]
     },
     "execution_count": 86,
     "metadata": {},
     "output_type": "execute_result"
    }
   ],
   "source": [
    "result"
   ]
  },
  {
   "cell_type": "markdown",
   "id": "leading-infection",
   "metadata": {},
   "source": [
    "위와 같은 결과가 나온다. df1의 index가 0,1,2,3 이고 df4의 index가 2,3,6,7 인데 concat 명령은 index를 기준으로 데이터를 합치기 때문이다. 그래서 값을 가질 수 없는 곳에는 NaN이 저장된다. 이때 공통된 index로 합치고 공통되지 않은 index의 데이터는 버리도록 하는 옵션이 join='inner'옵션이다."
   ]
  },
  {
   "cell_type": "code",
   "execution_count": 87,
   "id": "convenient-volunteer",
   "metadata": {},
   "outputs": [
    {
     "data": {
      "text/html": [
       "<div>\n",
       "<style scoped>\n",
       "    .dataframe tbody tr th:only-of-type {\n",
       "        vertical-align: middle;\n",
       "    }\n",
       "\n",
       "    .dataframe tbody tr th {\n",
       "        vertical-align: top;\n",
       "    }\n",
       "\n",
       "    .dataframe thead th {\n",
       "        text-align: right;\n",
       "    }\n",
       "</style>\n",
       "<table border=\"1\" class=\"dataframe\">\n",
       "  <thead>\n",
       "    <tr style=\"text-align: right;\">\n",
       "      <th></th>\n",
       "      <th>A</th>\n",
       "      <th>B</th>\n",
       "      <th>C</th>\n",
       "      <th>D</th>\n",
       "      <th>B</th>\n",
       "      <th>D</th>\n",
       "      <th>F</th>\n",
       "    </tr>\n",
       "  </thead>\n",
       "  <tbody>\n",
       "    <tr>\n",
       "      <th>2</th>\n",
       "      <td>A2</td>\n",
       "      <td>B2</td>\n",
       "      <td>C2</td>\n",
       "      <td>D2</td>\n",
       "      <td>B2</td>\n",
       "      <td>D2</td>\n",
       "      <td>F2</td>\n",
       "    </tr>\n",
       "    <tr>\n",
       "      <th>3</th>\n",
       "      <td>A3</td>\n",
       "      <td>B3</td>\n",
       "      <td>C3</td>\n",
       "      <td>D3</td>\n",
       "      <td>B3</td>\n",
       "      <td>D3</td>\n",
       "      <td>F3</td>\n",
       "    </tr>\n",
       "  </tbody>\n",
       "</table>\n",
       "</div>"
      ],
      "text/plain": [
       "    A   B   C   D   B   D   F\n",
       "2  A2  B2  C2  D2  B2  D2  F2\n",
       "3  A3  B3  C3  D3  B3  D3  F3"
      ]
     },
     "execution_count": 87,
     "metadata": {},
     "output_type": "execute_result"
    }
   ],
   "source": [
    "result = pd.concat([df1,df4], axis=1, join='inner')\n",
    "result"
   ]
  },
  {
   "cell_type": "markdown",
   "id": "passing-mathematics",
   "metadata": {},
   "source": [
    "concat 명령을 사용하는데 열 방향으로 합치면서 ignore_index=True라고 옵션을 잡으면 두 데이터의 index를 무시하고 합친 후 다시 index를 부여한다."
   ]
  },
  {
   "cell_type": "code",
   "execution_count": 88,
   "id": "preceding-ideal",
   "metadata": {},
   "outputs": [
    {
     "data": {
      "text/html": [
       "<div>\n",
       "<style scoped>\n",
       "    .dataframe tbody tr th:only-of-type {\n",
       "        vertical-align: middle;\n",
       "    }\n",
       "\n",
       "    .dataframe tbody tr th {\n",
       "        vertical-align: top;\n",
       "    }\n",
       "\n",
       "    .dataframe thead th {\n",
       "        text-align: right;\n",
       "    }\n",
       "</style>\n",
       "<table border=\"1\" class=\"dataframe\">\n",
       "  <thead>\n",
       "    <tr style=\"text-align: right;\">\n",
       "      <th></th>\n",
       "      <th>0</th>\n",
       "      <th>1</th>\n",
       "      <th>2</th>\n",
       "      <th>3</th>\n",
       "      <th>4</th>\n",
       "      <th>5</th>\n",
       "      <th>6</th>\n",
       "    </tr>\n",
       "  </thead>\n",
       "  <tbody>\n",
       "    <tr>\n",
       "      <th>0</th>\n",
       "      <td>A0</td>\n",
       "      <td>B0</td>\n",
       "      <td>C0</td>\n",
       "      <td>D0</td>\n",
       "      <td>NaN</td>\n",
       "      <td>NaN</td>\n",
       "      <td>NaN</td>\n",
       "    </tr>\n",
       "    <tr>\n",
       "      <th>1</th>\n",
       "      <td>A1</td>\n",
       "      <td>B1</td>\n",
       "      <td>C1</td>\n",
       "      <td>D1</td>\n",
       "      <td>NaN</td>\n",
       "      <td>NaN</td>\n",
       "      <td>NaN</td>\n",
       "    </tr>\n",
       "    <tr>\n",
       "      <th>2</th>\n",
       "      <td>A2</td>\n",
       "      <td>B2</td>\n",
       "      <td>C2</td>\n",
       "      <td>D2</td>\n",
       "      <td>B2</td>\n",
       "      <td>D2</td>\n",
       "      <td>F2</td>\n",
       "    </tr>\n",
       "    <tr>\n",
       "      <th>3</th>\n",
       "      <td>A3</td>\n",
       "      <td>B3</td>\n",
       "      <td>C3</td>\n",
       "      <td>D3</td>\n",
       "      <td>B3</td>\n",
       "      <td>D3</td>\n",
       "      <td>F3</td>\n",
       "    </tr>\n",
       "    <tr>\n",
       "      <th>6</th>\n",
       "      <td>NaN</td>\n",
       "      <td>NaN</td>\n",
       "      <td>NaN</td>\n",
       "      <td>NaN</td>\n",
       "      <td>B6</td>\n",
       "      <td>D6</td>\n",
       "      <td>F6</td>\n",
       "    </tr>\n",
       "    <tr>\n",
       "      <th>7</th>\n",
       "      <td>NaN</td>\n",
       "      <td>NaN</td>\n",
       "      <td>NaN</td>\n",
       "      <td>NaN</td>\n",
       "      <td>B7</td>\n",
       "      <td>D7</td>\n",
       "      <td>F7</td>\n",
       "    </tr>\n",
       "  </tbody>\n",
       "</table>\n",
       "</div>"
      ],
      "text/plain": [
       "     0    1    2    3    4    5    6\n",
       "0   A0   B0   C0   D0  NaN  NaN  NaN\n",
       "1   A1   B1   C1   D1  NaN  NaN  NaN\n",
       "2   A2   B2   C2   D2   B2   D2   F2\n",
       "3   A3   B3   C3   D3   B3   D3   F3\n",
       "6  NaN  NaN  NaN  NaN   B6   D6   F6\n",
       "7  NaN  NaN  NaN  NaN   B7   D7   F7"
      ]
     },
     "execution_count": 88,
     "metadata": {},
     "output_type": "execute_result"
    }
   ],
   "source": [
    "result = pd.concat([df1, df4], axis=1, ignore_index=True)\n",
    "result"
   ]
  },
  {
   "cell_type": "markdown",
   "id": "specific-responsibility",
   "metadata": {},
   "source": [
    "이제 다른 명령을 하나 더 학습해 보자. 일단 데이터를 두개 만든다."
   ]
  },
  {
   "cell_type": "code",
   "execution_count": 89,
   "id": "exterior-reverse",
   "metadata": {},
   "outputs": [],
   "source": [
    "left = pd.DataFrame({'key': ['K0', 'K4', 'K2', 'K3'],\n",
    "                     'A': ['A0', 'A1', 'A2', 'A3'],\n",
    "                     'B': ['B0', 'B1', 'B2', 'B3']})\n",
    "\n",
    "right = pd.DataFrame({'key': ['K0', 'K1', 'K2', 'K3'],\n",
    "                      'C': ['C0', 'C1', 'C2', 'C3'],\n",
    "                      'D': ['D0', 'D1', 'D2', 'D3']})"
   ]
  },
  {
   "cell_type": "code",
   "execution_count": 90,
   "id": "emerging-blogger",
   "metadata": {},
   "outputs": [
    {
     "data": {
      "text/html": [
       "<div>\n",
       "<style scoped>\n",
       "    .dataframe tbody tr th:only-of-type {\n",
       "        vertical-align: middle;\n",
       "    }\n",
       "\n",
       "    .dataframe tbody tr th {\n",
       "        vertical-align: top;\n",
       "    }\n",
       "\n",
       "    .dataframe thead th {\n",
       "        text-align: right;\n",
       "    }\n",
       "</style>\n",
       "<table border=\"1\" class=\"dataframe\">\n",
       "  <thead>\n",
       "    <tr style=\"text-align: right;\">\n",
       "      <th></th>\n",
       "      <th>key</th>\n",
       "      <th>A</th>\n",
       "      <th>B</th>\n",
       "    </tr>\n",
       "  </thead>\n",
       "  <tbody>\n",
       "    <tr>\n",
       "      <th>0</th>\n",
       "      <td>K0</td>\n",
       "      <td>A0</td>\n",
       "      <td>B0</td>\n",
       "    </tr>\n",
       "    <tr>\n",
       "      <th>1</th>\n",
       "      <td>K4</td>\n",
       "      <td>A1</td>\n",
       "      <td>B1</td>\n",
       "    </tr>\n",
       "    <tr>\n",
       "      <th>2</th>\n",
       "      <td>K2</td>\n",
       "      <td>A2</td>\n",
       "      <td>B2</td>\n",
       "    </tr>\n",
       "    <tr>\n",
       "      <th>3</th>\n",
       "      <td>K3</td>\n",
       "      <td>A3</td>\n",
       "      <td>B3</td>\n",
       "    </tr>\n",
       "  </tbody>\n",
       "</table>\n",
       "</div>"
      ],
      "text/plain": [
       "  key   A   B\n",
       "0  K0  A0  B0\n",
       "1  K4  A1  B1\n",
       "2  K2  A2  B2\n",
       "3  K3  A3  B3"
      ]
     },
     "execution_count": 90,
     "metadata": {},
     "output_type": "execute_result"
    }
   ],
   "source": [
    "left"
   ]
  },
  {
   "cell_type": "code",
   "execution_count": 91,
   "id": "federal-cargo",
   "metadata": {},
   "outputs": [
    {
     "data": {
      "text/html": [
       "<div>\n",
       "<style scoped>\n",
       "    .dataframe tbody tr th:only-of-type {\n",
       "        vertical-align: middle;\n",
       "    }\n",
       "\n",
       "    .dataframe tbody tr th {\n",
       "        vertical-align: top;\n",
       "    }\n",
       "\n",
       "    .dataframe thead th {\n",
       "        text-align: right;\n",
       "    }\n",
       "</style>\n",
       "<table border=\"1\" class=\"dataframe\">\n",
       "  <thead>\n",
       "    <tr style=\"text-align: right;\">\n",
       "      <th></th>\n",
       "      <th>key</th>\n",
       "      <th>C</th>\n",
       "      <th>D</th>\n",
       "    </tr>\n",
       "  </thead>\n",
       "  <tbody>\n",
       "    <tr>\n",
       "      <th>0</th>\n",
       "      <td>K0</td>\n",
       "      <td>C0</td>\n",
       "      <td>D0</td>\n",
       "    </tr>\n",
       "    <tr>\n",
       "      <th>1</th>\n",
       "      <td>K1</td>\n",
       "      <td>C1</td>\n",
       "      <td>D1</td>\n",
       "    </tr>\n",
       "    <tr>\n",
       "      <th>2</th>\n",
       "      <td>K2</td>\n",
       "      <td>C2</td>\n",
       "      <td>D2</td>\n",
       "    </tr>\n",
       "    <tr>\n",
       "      <th>3</th>\n",
       "      <td>K3</td>\n",
       "      <td>C3</td>\n",
       "      <td>D3</td>\n",
       "    </tr>\n",
       "  </tbody>\n",
       "</table>\n",
       "</div>"
      ],
      "text/plain": [
       "  key   C   D\n",
       "0  K0  C0  D0\n",
       "1  K1  C1  D1\n",
       "2  K2  C2  D2\n",
       "3  K3  C3  D3"
      ]
     },
     "execution_count": 91,
     "metadata": {},
     "output_type": "execute_result"
    }
   ],
   "source": [
    "right"
   ]
  },
  {
   "cell_type": "markdown",
   "id": "disabled-expert",
   "metadata": {},
   "source": [
    "이렇게 만든 두 데이터의 공통으로 있는 컬럼인 key를 기준으로 merge 명령에서 merge 기준을 설정하는 on 옵션으로 합치면 공통된 key에 대해서만 합치게 된다."
   ]
  },
  {
   "cell_type": "code",
   "execution_count": 92,
   "id": "wired-notion",
   "metadata": {},
   "outputs": [
    {
     "data": {
      "text/html": [
       "<div>\n",
       "<style scoped>\n",
       "    .dataframe tbody tr th:only-of-type {\n",
       "        vertical-align: middle;\n",
       "    }\n",
       "\n",
       "    .dataframe tbody tr th {\n",
       "        vertical-align: top;\n",
       "    }\n",
       "\n",
       "    .dataframe thead th {\n",
       "        text-align: right;\n",
       "    }\n",
       "</style>\n",
       "<table border=\"1\" class=\"dataframe\">\n",
       "  <thead>\n",
       "    <tr style=\"text-align: right;\">\n",
       "      <th></th>\n",
       "      <th>key</th>\n",
       "      <th>A</th>\n",
       "      <th>B</th>\n",
       "      <th>C</th>\n",
       "      <th>D</th>\n",
       "    </tr>\n",
       "  </thead>\n",
       "  <tbody>\n",
       "    <tr>\n",
       "      <th>0</th>\n",
       "      <td>K0</td>\n",
       "      <td>A0</td>\n",
       "      <td>B0</td>\n",
       "      <td>C0</td>\n",
       "      <td>D0</td>\n",
       "    </tr>\n",
       "    <tr>\n",
       "      <th>1</th>\n",
       "      <td>K2</td>\n",
       "      <td>A2</td>\n",
       "      <td>B2</td>\n",
       "      <td>C2</td>\n",
       "      <td>D2</td>\n",
       "    </tr>\n",
       "    <tr>\n",
       "      <th>2</th>\n",
       "      <td>K3</td>\n",
       "      <td>A3</td>\n",
       "      <td>B3</td>\n",
       "      <td>C3</td>\n",
       "      <td>D3</td>\n",
       "    </tr>\n",
       "  </tbody>\n",
       "</table>\n",
       "</div>"
      ],
      "text/plain": [
       "  key   A   B   C   D\n",
       "0  K0  A0  B0  C0  D0\n",
       "1  K2  A2  B2  C2  D2\n",
       "2  K3  A3  B3  C3  D3"
      ]
     },
     "execution_count": 92,
     "metadata": {},
     "output_type": "execute_result"
    }
   ],
   "source": [
    "pd.merge(left,right,on='key')"
   ]
  },
  {
   "cell_type": "markdown",
   "id": "civic-transportation",
   "metadata": {},
   "source": [
    "합치는 두 데이터를 하나씩 기준으로 합칠 수도 있다. 이때 how 옵션으로 한쪽 데이터를 설정하면 된다."
   ]
  },
  {
   "cell_type": "code",
   "execution_count": 93,
   "id": "indian-defensive",
   "metadata": {},
   "outputs": [
    {
     "data": {
      "text/html": [
       "<div>\n",
       "<style scoped>\n",
       "    .dataframe tbody tr th:only-of-type {\n",
       "        vertical-align: middle;\n",
       "    }\n",
       "\n",
       "    .dataframe tbody tr th {\n",
       "        vertical-align: top;\n",
       "    }\n",
       "\n",
       "    .dataframe thead th {\n",
       "        text-align: right;\n",
       "    }\n",
       "</style>\n",
       "<table border=\"1\" class=\"dataframe\">\n",
       "  <thead>\n",
       "    <tr style=\"text-align: right;\">\n",
       "      <th></th>\n",
       "      <th>key</th>\n",
       "      <th>A</th>\n",
       "      <th>B</th>\n",
       "      <th>C</th>\n",
       "      <th>D</th>\n",
       "    </tr>\n",
       "  </thead>\n",
       "  <tbody>\n",
       "    <tr>\n",
       "      <th>0</th>\n",
       "      <td>K0</td>\n",
       "      <td>A0</td>\n",
       "      <td>B0</td>\n",
       "      <td>C0</td>\n",
       "      <td>D0</td>\n",
       "    </tr>\n",
       "    <tr>\n",
       "      <th>1</th>\n",
       "      <td>K4</td>\n",
       "      <td>A1</td>\n",
       "      <td>B1</td>\n",
       "      <td>NaN</td>\n",
       "      <td>NaN</td>\n",
       "    </tr>\n",
       "    <tr>\n",
       "      <th>2</th>\n",
       "      <td>K2</td>\n",
       "      <td>A2</td>\n",
       "      <td>B2</td>\n",
       "      <td>C2</td>\n",
       "      <td>D2</td>\n",
       "    </tr>\n",
       "    <tr>\n",
       "      <th>3</th>\n",
       "      <td>K3</td>\n",
       "      <td>A3</td>\n",
       "      <td>B3</td>\n",
       "      <td>C3</td>\n",
       "      <td>D3</td>\n",
       "    </tr>\n",
       "  </tbody>\n",
       "</table>\n",
       "</div>"
      ],
      "text/plain": [
       "  key   A   B    C    D\n",
       "0  K0  A0  B0   C0   D0\n",
       "1  K4  A1  B1  NaN  NaN\n",
       "2  K2  A2  B2   C2   D2\n",
       "3  K3  A3  B3   C3   D3"
      ]
     },
     "execution_count": 93,
     "metadata": {},
     "output_type": "execute_result"
    }
   ],
   "source": [
    "pd.merge(left,right, how='left',on='key')"
   ]
  },
  {
   "cell_type": "code",
   "execution_count": 94,
   "id": "champion-courtesy",
   "metadata": {},
   "outputs": [
    {
     "data": {
      "text/html": [
       "<div>\n",
       "<style scoped>\n",
       "    .dataframe tbody tr th:only-of-type {\n",
       "        vertical-align: middle;\n",
       "    }\n",
       "\n",
       "    .dataframe tbody tr th {\n",
       "        vertical-align: top;\n",
       "    }\n",
       "\n",
       "    .dataframe thead th {\n",
       "        text-align: right;\n",
       "    }\n",
       "</style>\n",
       "<table border=\"1\" class=\"dataframe\">\n",
       "  <thead>\n",
       "    <tr style=\"text-align: right;\">\n",
       "      <th></th>\n",
       "      <th>key</th>\n",
       "      <th>A</th>\n",
       "      <th>B</th>\n",
       "      <th>C</th>\n",
       "      <th>D</th>\n",
       "    </tr>\n",
       "  </thead>\n",
       "  <tbody>\n",
       "    <tr>\n",
       "      <th>0</th>\n",
       "      <td>K0</td>\n",
       "      <td>A0</td>\n",
       "      <td>B0</td>\n",
       "      <td>C0</td>\n",
       "      <td>D0</td>\n",
       "    </tr>\n",
       "    <tr>\n",
       "      <th>1</th>\n",
       "      <td>K1</td>\n",
       "      <td>NaN</td>\n",
       "      <td>NaN</td>\n",
       "      <td>C1</td>\n",
       "      <td>D1</td>\n",
       "    </tr>\n",
       "    <tr>\n",
       "      <th>2</th>\n",
       "      <td>K2</td>\n",
       "      <td>A2</td>\n",
       "      <td>B2</td>\n",
       "      <td>C2</td>\n",
       "      <td>D2</td>\n",
       "    </tr>\n",
       "    <tr>\n",
       "      <th>3</th>\n",
       "      <td>K3</td>\n",
       "      <td>A3</td>\n",
       "      <td>B3</td>\n",
       "      <td>C3</td>\n",
       "      <td>D3</td>\n",
       "    </tr>\n",
       "  </tbody>\n",
       "</table>\n",
       "</div>"
      ],
      "text/plain": [
       "  key    A    B   C   D\n",
       "0  K0   A0   B0  C0  D0\n",
       "1  K1  NaN  NaN  C1  D1\n",
       "2  K2   A2   B2  C2  D2\n",
       "3  K3   A3   B3  C3  D3"
      ]
     },
     "execution_count": 94,
     "metadata": {},
     "output_type": "execute_result"
    }
   ],
   "source": [
    "pd.merge(left,right,how='right',on='key')"
   ]
  },
  {
   "cell_type": "markdown",
   "id": "linear-syracuse",
   "metadata": {},
   "source": [
    "또 merge한 데이터 결과를 모두 가지는 outer 옵션이 있다. 이 옵션을 사용하면 마치 합집합처럼 merge가 되며 공통된 요소가 아닌 곳은 NaN 처리가 된다."
   ]
  },
  {
   "cell_type": "code",
   "execution_count": 95,
   "id": "olive-authorization",
   "metadata": {},
   "outputs": [
    {
     "data": {
      "text/html": [
       "<div>\n",
       "<style scoped>\n",
       "    .dataframe tbody tr th:only-of-type {\n",
       "        vertical-align: middle;\n",
       "    }\n",
       "\n",
       "    .dataframe tbody tr th {\n",
       "        vertical-align: top;\n",
       "    }\n",
       "\n",
       "    .dataframe thead th {\n",
       "        text-align: right;\n",
       "    }\n",
       "</style>\n",
       "<table border=\"1\" class=\"dataframe\">\n",
       "  <thead>\n",
       "    <tr style=\"text-align: right;\">\n",
       "      <th></th>\n",
       "      <th>key</th>\n",
       "      <th>A</th>\n",
       "      <th>B</th>\n",
       "      <th>C</th>\n",
       "      <th>D</th>\n",
       "    </tr>\n",
       "  </thead>\n",
       "  <tbody>\n",
       "    <tr>\n",
       "      <th>0</th>\n",
       "      <td>K0</td>\n",
       "      <td>A0</td>\n",
       "      <td>B0</td>\n",
       "      <td>C0</td>\n",
       "      <td>D0</td>\n",
       "    </tr>\n",
       "    <tr>\n",
       "      <th>1</th>\n",
       "      <td>K4</td>\n",
       "      <td>A1</td>\n",
       "      <td>B1</td>\n",
       "      <td>NaN</td>\n",
       "      <td>NaN</td>\n",
       "    </tr>\n",
       "    <tr>\n",
       "      <th>2</th>\n",
       "      <td>K2</td>\n",
       "      <td>A2</td>\n",
       "      <td>B2</td>\n",
       "      <td>C2</td>\n",
       "      <td>D2</td>\n",
       "    </tr>\n",
       "    <tr>\n",
       "      <th>3</th>\n",
       "      <td>K3</td>\n",
       "      <td>A3</td>\n",
       "      <td>B3</td>\n",
       "      <td>C3</td>\n",
       "      <td>D3</td>\n",
       "    </tr>\n",
       "    <tr>\n",
       "      <th>4</th>\n",
       "      <td>K1</td>\n",
       "      <td>NaN</td>\n",
       "      <td>NaN</td>\n",
       "      <td>C1</td>\n",
       "      <td>D1</td>\n",
       "    </tr>\n",
       "  </tbody>\n",
       "</table>\n",
       "</div>"
      ],
      "text/plain": [
       "  key    A    B    C    D\n",
       "0  K0   A0   B0   C0   D0\n",
       "1  K4   A1   B1  NaN  NaN\n",
       "2  K2   A2   B2   C2   D2\n",
       "3  K3   A3   B3   C3   D3\n",
       "4  K1  NaN  NaN   C1   D1"
      ]
     },
     "execution_count": 95,
     "metadata": {},
     "output_type": "execute_result"
    }
   ],
   "source": [
    "pd.merge(left,right, how='outer',on='key')"
   ]
  },
  {
   "cell_type": "markdown",
   "id": "small-perspective",
   "metadata": {},
   "source": [
    "그리고 outer의 반대로 inner 옵션이 있다. 이 옵션은 교집합처럼 공통된 요소만 가진다."
   ]
  },
  {
   "cell_type": "code",
   "execution_count": 96,
   "id": "psychological-jacksonville",
   "metadata": {},
   "outputs": [
    {
     "data": {
      "text/html": [
       "<div>\n",
       "<style scoped>\n",
       "    .dataframe tbody tr th:only-of-type {\n",
       "        vertical-align: middle;\n",
       "    }\n",
       "\n",
       "    .dataframe tbody tr th {\n",
       "        vertical-align: top;\n",
       "    }\n",
       "\n",
       "    .dataframe thead th {\n",
       "        text-align: right;\n",
       "    }\n",
       "</style>\n",
       "<table border=\"1\" class=\"dataframe\">\n",
       "  <thead>\n",
       "    <tr style=\"text-align: right;\">\n",
       "      <th></th>\n",
       "      <th>key</th>\n",
       "      <th>A</th>\n",
       "      <th>B</th>\n",
       "      <th>C</th>\n",
       "      <th>D</th>\n",
       "    </tr>\n",
       "  </thead>\n",
       "  <tbody>\n",
       "    <tr>\n",
       "      <th>0</th>\n",
       "      <td>K0</td>\n",
       "      <td>A0</td>\n",
       "      <td>B0</td>\n",
       "      <td>C0</td>\n",
       "      <td>D0</td>\n",
       "    </tr>\n",
       "    <tr>\n",
       "      <th>1</th>\n",
       "      <td>K2</td>\n",
       "      <td>A2</td>\n",
       "      <td>B2</td>\n",
       "      <td>C2</td>\n",
       "      <td>D2</td>\n",
       "    </tr>\n",
       "    <tr>\n",
       "      <th>2</th>\n",
       "      <td>K3</td>\n",
       "      <td>A3</td>\n",
       "      <td>B3</td>\n",
       "      <td>C3</td>\n",
       "      <td>D3</td>\n",
       "    </tr>\n",
       "  </tbody>\n",
       "</table>\n",
       "</div>"
      ],
      "text/plain": [
       "  key   A   B   C   D\n",
       "0  K0  A0  B0  C0  D0\n",
       "1  K2  A2  B2  C2  D2\n",
       "2  K3  A3  B3  C3  D3"
      ]
     },
     "execution_count": 96,
     "metadata": {},
     "output_type": "execute_result"
    }
   ],
   "source": [
    "pd.merge(left,right,how='inner',on='key')"
   ]
  },
  {
   "cell_type": "markdown",
   "id": "forbidden-england",
   "metadata": {},
   "source": [
    "## 1-6 CCTV 데이터와 인구 현황 데이터를 합치고 분석하기\n",
    "\n",
    "\n",
    "앞서 배운 merge 명령으로 합쳐보자. 두 데이터의 공통된 컬럼인 '구별'로 merge 하면 된다."
   ]
  },
  {
   "cell_type": "code",
   "execution_count": 97,
   "id": "hairy-landing",
   "metadata": {},
   "outputs": [
    {
     "data": {
      "text/html": [
       "<div>\n",
       "<style scoped>\n",
       "    .dataframe tbody tr th:only-of-type {\n",
       "        vertical-align: middle;\n",
       "    }\n",
       "\n",
       "    .dataframe tbody tr th {\n",
       "        vertical-align: top;\n",
       "    }\n",
       "\n",
       "    .dataframe thead th {\n",
       "        text-align: right;\n",
       "    }\n",
       "</style>\n",
       "<table border=\"1\" class=\"dataframe\">\n",
       "  <thead>\n",
       "    <tr style=\"text-align: right;\">\n",
       "      <th></th>\n",
       "      <th>구별</th>\n",
       "      <th>소계</th>\n",
       "      <th>2013년도 이전</th>\n",
       "      <th>2014년</th>\n",
       "      <th>2015년</th>\n",
       "      <th>2016년</th>\n",
       "      <th>최근증가율</th>\n",
       "      <th>인구수</th>\n",
       "      <th>한국인</th>\n",
       "      <th>외국인</th>\n",
       "      <th>고령자</th>\n",
       "      <th>외국인비율</th>\n",
       "      <th>고령자비율</th>\n",
       "    </tr>\n",
       "  </thead>\n",
       "  <tbody>\n",
       "    <tr>\n",
       "      <th>0</th>\n",
       "      <td>강남구</td>\n",
       "      <td>2780</td>\n",
       "      <td>1292</td>\n",
       "      <td>430</td>\n",
       "      <td>584</td>\n",
       "      <td>932</td>\n",
       "      <td>150.619195</td>\n",
       "      <td>570500.0</td>\n",
       "      <td>565550.0</td>\n",
       "      <td>4950.0</td>\n",
       "      <td>63167.0</td>\n",
       "      <td>0.867660</td>\n",
       "      <td>11.072217</td>\n",
       "    </tr>\n",
       "    <tr>\n",
       "      <th>1</th>\n",
       "      <td>강동구</td>\n",
       "      <td>773</td>\n",
       "      <td>379</td>\n",
       "      <td>99</td>\n",
       "      <td>155</td>\n",
       "      <td>377</td>\n",
       "      <td>166.490765</td>\n",
       "      <td>453233.0</td>\n",
       "      <td>449019.0</td>\n",
       "      <td>4214.0</td>\n",
       "      <td>54622.0</td>\n",
       "      <td>0.929765</td>\n",
       "      <td>12.051638</td>\n",
       "    </tr>\n",
       "    <tr>\n",
       "      <th>2</th>\n",
       "      <td>강북구</td>\n",
       "      <td>748</td>\n",
       "      <td>369</td>\n",
       "      <td>120</td>\n",
       "      <td>138</td>\n",
       "      <td>204</td>\n",
       "      <td>125.203252</td>\n",
       "      <td>330192.0</td>\n",
       "      <td>326686.0</td>\n",
       "      <td>3506.0</td>\n",
       "      <td>54813.0</td>\n",
       "      <td>1.061806</td>\n",
       "      <td>16.600342</td>\n",
       "    </tr>\n",
       "    <tr>\n",
       "      <th>3</th>\n",
       "      <td>강서구</td>\n",
       "      <td>884</td>\n",
       "      <td>388</td>\n",
       "      <td>258</td>\n",
       "      <td>184</td>\n",
       "      <td>81</td>\n",
       "      <td>134.793814</td>\n",
       "      <td>603772.0</td>\n",
       "      <td>597248.0</td>\n",
       "      <td>6524.0</td>\n",
       "      <td>72548.0</td>\n",
       "      <td>1.080540</td>\n",
       "      <td>12.015794</td>\n",
       "    </tr>\n",
       "    <tr>\n",
       "      <th>4</th>\n",
       "      <td>관악구</td>\n",
       "      <td>1496</td>\n",
       "      <td>846</td>\n",
       "      <td>260</td>\n",
       "      <td>390</td>\n",
       "      <td>613</td>\n",
       "      <td>149.290780</td>\n",
       "      <td>525515.0</td>\n",
       "      <td>507203.0</td>\n",
       "      <td>18312.0</td>\n",
       "      <td>68082.0</td>\n",
       "      <td>3.484582</td>\n",
       "      <td>12.955291</td>\n",
       "    </tr>\n",
       "  </tbody>\n",
       "</table>\n",
       "</div>"
      ],
      "text/plain": [
       "    구별    소계  2013년도 이전  2014년  2015년  2016년       최근증가율       인구수       한국인  \\\n",
       "0  강남구  2780       1292    430    584    932  150.619195  570500.0  565550.0   \n",
       "1  강동구   773        379     99    155    377  166.490765  453233.0  449019.0   \n",
       "2  강북구   748        369    120    138    204  125.203252  330192.0  326686.0   \n",
       "3  강서구   884        388    258    184     81  134.793814  603772.0  597248.0   \n",
       "4  관악구  1496        846    260    390    613  149.290780  525515.0  507203.0   \n",
       "\n",
       "       외국인      고령자     외국인비율      고령자비율  \n",
       "0   4950.0  63167.0  0.867660  11.072217  \n",
       "1   4214.0  54622.0  0.929765  12.051638  \n",
       "2   3506.0  54813.0  1.061806  16.600342  \n",
       "3   6524.0  72548.0  1.080540  12.015794  \n",
       "4  18312.0  68082.0  3.484582  12.955291  "
      ]
     },
     "execution_count": 97,
     "metadata": {},
     "output_type": "execute_result"
    }
   ],
   "source": [
    "data_result = pd.merge(CCTV_Seoul, pop_Seoul, on='구별')\n",
    "data_result.head()"
   ]
  },
  {
   "cell_type": "markdown",
   "id": "complex-horror",
   "metadata": {},
   "source": [
    "그리고 이제부터 의미없는 컬럼은 지우도록 하자. 행 방향으로 삭제하는 것은 drop이고, 열을 삭제하는 명령은 del이다."
   ]
  },
  {
   "cell_type": "code",
   "execution_count": 98,
   "id": "descending-victorian",
   "metadata": {},
   "outputs": [
    {
     "data": {
      "text/html": [
       "<div>\n",
       "<style scoped>\n",
       "    .dataframe tbody tr th:only-of-type {\n",
       "        vertical-align: middle;\n",
       "    }\n",
       "\n",
       "    .dataframe tbody tr th {\n",
       "        vertical-align: top;\n",
       "    }\n",
       "\n",
       "    .dataframe thead th {\n",
       "        text-align: right;\n",
       "    }\n",
       "</style>\n",
       "<table border=\"1\" class=\"dataframe\">\n",
       "  <thead>\n",
       "    <tr style=\"text-align: right;\">\n",
       "      <th></th>\n",
       "      <th>구별</th>\n",
       "      <th>소계</th>\n",
       "      <th>최근증가율</th>\n",
       "      <th>인구수</th>\n",
       "      <th>한국인</th>\n",
       "      <th>외국인</th>\n",
       "      <th>고령자</th>\n",
       "      <th>외국인비율</th>\n",
       "      <th>고령자비율</th>\n",
       "    </tr>\n",
       "  </thead>\n",
       "  <tbody>\n",
       "    <tr>\n",
       "      <th>0</th>\n",
       "      <td>강남구</td>\n",
       "      <td>2780</td>\n",
       "      <td>150.619195</td>\n",
       "      <td>570500.0</td>\n",
       "      <td>565550.0</td>\n",
       "      <td>4950.0</td>\n",
       "      <td>63167.0</td>\n",
       "      <td>0.867660</td>\n",
       "      <td>11.072217</td>\n",
       "    </tr>\n",
       "    <tr>\n",
       "      <th>1</th>\n",
       "      <td>강동구</td>\n",
       "      <td>773</td>\n",
       "      <td>166.490765</td>\n",
       "      <td>453233.0</td>\n",
       "      <td>449019.0</td>\n",
       "      <td>4214.0</td>\n",
       "      <td>54622.0</td>\n",
       "      <td>0.929765</td>\n",
       "      <td>12.051638</td>\n",
       "    </tr>\n",
       "    <tr>\n",
       "      <th>2</th>\n",
       "      <td>강북구</td>\n",
       "      <td>748</td>\n",
       "      <td>125.203252</td>\n",
       "      <td>330192.0</td>\n",
       "      <td>326686.0</td>\n",
       "      <td>3506.0</td>\n",
       "      <td>54813.0</td>\n",
       "      <td>1.061806</td>\n",
       "      <td>16.600342</td>\n",
       "    </tr>\n",
       "    <tr>\n",
       "      <th>3</th>\n",
       "      <td>강서구</td>\n",
       "      <td>884</td>\n",
       "      <td>134.793814</td>\n",
       "      <td>603772.0</td>\n",
       "      <td>597248.0</td>\n",
       "      <td>6524.0</td>\n",
       "      <td>72548.0</td>\n",
       "      <td>1.080540</td>\n",
       "      <td>12.015794</td>\n",
       "    </tr>\n",
       "    <tr>\n",
       "      <th>4</th>\n",
       "      <td>관악구</td>\n",
       "      <td>1496</td>\n",
       "      <td>149.290780</td>\n",
       "      <td>525515.0</td>\n",
       "      <td>507203.0</td>\n",
       "      <td>18312.0</td>\n",
       "      <td>68082.0</td>\n",
       "      <td>3.484582</td>\n",
       "      <td>12.955291</td>\n",
       "    </tr>\n",
       "  </tbody>\n",
       "</table>\n",
       "</div>"
      ],
      "text/plain": [
       "    구별    소계       최근증가율       인구수       한국인      외국인      고령자     외국인비율  \\\n",
       "0  강남구  2780  150.619195  570500.0  565550.0   4950.0  63167.0  0.867660   \n",
       "1  강동구   773  166.490765  453233.0  449019.0   4214.0  54622.0  0.929765   \n",
       "2  강북구   748  125.203252  330192.0  326686.0   3506.0  54813.0  1.061806   \n",
       "3  강서구   884  134.793814  603772.0  597248.0   6524.0  72548.0  1.080540   \n",
       "4  관악구  1496  149.290780  525515.0  507203.0  18312.0  68082.0  3.484582   \n",
       "\n",
       "       고령자비율  \n",
       "0  11.072217  \n",
       "1  12.051638  \n",
       "2  16.600342  \n",
       "3  12.015794  \n",
       "4  12.955291  "
      ]
     },
     "execution_count": 98,
     "metadata": {},
     "output_type": "execute_result"
    }
   ],
   "source": [
    "del data_result['2013년도 이전']\n",
    "del data_result['2014년']\n",
    "del data_result['2015년']\n",
    "del data_result['2016년']\n",
    "data_result.head()"
   ]
  },
  {
   "cell_type": "markdown",
   "id": "skilled-usage",
   "metadata": {},
   "source": [
    "나중에 그래프 그릴것을 생각하면 index는 구 이름이 되면 여러모로 유리하다. 그렇게 설정하는 명령이 set_index 이다."
   ]
  },
  {
   "cell_type": "code",
   "execution_count": 99,
   "id": "freelance-grove",
   "metadata": {},
   "outputs": [
    {
     "data": {
      "text/html": [
       "<div>\n",
       "<style scoped>\n",
       "    .dataframe tbody tr th:only-of-type {\n",
       "        vertical-align: middle;\n",
       "    }\n",
       "\n",
       "    .dataframe tbody tr th {\n",
       "        vertical-align: top;\n",
       "    }\n",
       "\n",
       "    .dataframe thead th {\n",
       "        text-align: right;\n",
       "    }\n",
       "</style>\n",
       "<table border=\"1\" class=\"dataframe\">\n",
       "  <thead>\n",
       "    <tr style=\"text-align: right;\">\n",
       "      <th></th>\n",
       "      <th>소계</th>\n",
       "      <th>최근증가율</th>\n",
       "      <th>인구수</th>\n",
       "      <th>한국인</th>\n",
       "      <th>외국인</th>\n",
       "      <th>고령자</th>\n",
       "      <th>외국인비율</th>\n",
       "      <th>고령자비율</th>\n",
       "    </tr>\n",
       "    <tr>\n",
       "      <th>구별</th>\n",
       "      <th></th>\n",
       "      <th></th>\n",
       "      <th></th>\n",
       "      <th></th>\n",
       "      <th></th>\n",
       "      <th></th>\n",
       "      <th></th>\n",
       "      <th></th>\n",
       "    </tr>\n",
       "  </thead>\n",
       "  <tbody>\n",
       "    <tr>\n",
       "      <th>강남구</th>\n",
       "      <td>2780</td>\n",
       "      <td>150.619195</td>\n",
       "      <td>570500.0</td>\n",
       "      <td>565550.0</td>\n",
       "      <td>4950.0</td>\n",
       "      <td>63167.0</td>\n",
       "      <td>0.867660</td>\n",
       "      <td>11.072217</td>\n",
       "    </tr>\n",
       "    <tr>\n",
       "      <th>강동구</th>\n",
       "      <td>773</td>\n",
       "      <td>166.490765</td>\n",
       "      <td>453233.0</td>\n",
       "      <td>449019.0</td>\n",
       "      <td>4214.0</td>\n",
       "      <td>54622.0</td>\n",
       "      <td>0.929765</td>\n",
       "      <td>12.051638</td>\n",
       "    </tr>\n",
       "    <tr>\n",
       "      <th>강북구</th>\n",
       "      <td>748</td>\n",
       "      <td>125.203252</td>\n",
       "      <td>330192.0</td>\n",
       "      <td>326686.0</td>\n",
       "      <td>3506.0</td>\n",
       "      <td>54813.0</td>\n",
       "      <td>1.061806</td>\n",
       "      <td>16.600342</td>\n",
       "    </tr>\n",
       "    <tr>\n",
       "      <th>강서구</th>\n",
       "      <td>884</td>\n",
       "      <td>134.793814</td>\n",
       "      <td>603772.0</td>\n",
       "      <td>597248.0</td>\n",
       "      <td>6524.0</td>\n",
       "      <td>72548.0</td>\n",
       "      <td>1.080540</td>\n",
       "      <td>12.015794</td>\n",
       "    </tr>\n",
       "    <tr>\n",
       "      <th>관악구</th>\n",
       "      <td>1496</td>\n",
       "      <td>149.290780</td>\n",
       "      <td>525515.0</td>\n",
       "      <td>507203.0</td>\n",
       "      <td>18312.0</td>\n",
       "      <td>68082.0</td>\n",
       "      <td>3.484582</td>\n",
       "      <td>12.955291</td>\n",
       "    </tr>\n",
       "  </tbody>\n",
       "</table>\n",
       "</div>"
      ],
      "text/plain": [
       "       소계       최근증가율       인구수       한국인      외국인      고령자     외국인비율  \\\n",
       "구별                                                                      \n",
       "강남구  2780  150.619195  570500.0  565550.0   4950.0  63167.0  0.867660   \n",
       "강동구   773  166.490765  453233.0  449019.0   4214.0  54622.0  0.929765   \n",
       "강북구   748  125.203252  330192.0  326686.0   3506.0  54813.0  1.061806   \n",
       "강서구   884  134.793814  603772.0  597248.0   6524.0  72548.0  1.080540   \n",
       "관악구  1496  149.290780  525515.0  507203.0  18312.0  68082.0  3.484582   \n",
       "\n",
       "         고령자비율  \n",
       "구별              \n",
       "강남구  11.072217  \n",
       "강동구  12.051638  \n",
       "강북구  16.600342  \n",
       "강서구  12.015794  \n",
       "관악구  12.955291  "
      ]
     },
     "execution_count": 99,
     "metadata": {},
     "output_type": "execute_result"
    }
   ],
   "source": [
    "data_result.set_index('구별', inplace=True)\n",
    "data_result.head()"
   ]
  },
  {
   "cell_type": "markdown",
   "id": "mechanical-snapshot",
   "metadata": {},
   "source": [
    "다음으로 고령자비율, 외국인비율, 인구수 중에서 무슨 데이터와 CCTV를 비교할지 정해보자. 그렇게 하는 가장 단순한 작업이 상관계수를 조사하는 것이다. 상관계수의 절대값이 클수록 두 데이터는 관계가 있다고 볼 수 있다. 상관계수는 절대값이 0.1 이하면 거의 무시, 0.3이하면 약한 상관관계, 0.7 이하면 뚜렷한 상관관계라고 한다. 먼저 상관계수를 어떻게 계산하는지 알아보자. 그 대단한 명령이 numpy 에 있는 corrcoef 명령이다. 이 명령의 결과는 행렬로 나타난다. 주 대각선을 기준으로 대칭인 행렬이고 대각선 빼고는 다른 값을 읽으면 된다."
   ]
  },
  {
   "cell_type": "code",
   "execution_count": 100,
   "id": "cutting-amazon",
   "metadata": {},
   "outputs": [
    {
     "data": {
      "text/plain": [
       "array([[ 1.        , -0.28078554],\n",
       "       [-0.28078554,  1.        ]])"
      ]
     },
     "execution_count": 100,
     "metadata": {},
     "output_type": "execute_result"
    }
   ],
   "source": [
    "np.corrcoef(data_result['고령자비율'],data_result['소계'])"
   ]
  },
  {
   "cell_type": "code",
   "execution_count": 101,
   "id": "detected-manhattan",
   "metadata": {},
   "outputs": [
    {
     "data": {
      "text/plain": [
       "array([[ 1.        , -0.13607433],\n",
       "       [-0.13607433,  1.        ]])"
      ]
     },
     "execution_count": 101,
     "metadata": {},
     "output_type": "execute_result"
    }
   ],
   "source": [
    "np.corrcoef(data_result['외국인비율'],data_result['소계'])"
   ]
  },
  {
   "cell_type": "code",
   "execution_count": 102,
   "id": "offshore-polyester",
   "metadata": {},
   "outputs": [
    {
     "data": {
      "text/plain": [
       "array([[1.        , 0.30634228],\n",
       "       [0.30634228, 1.        ]])"
      ]
     },
     "execution_count": 102,
     "metadata": {},
     "output_type": "execute_result"
    }
   ],
   "source": [
    "np.corrcoef(data_result['인구수'],data_result['소계'])"
   ]
  },
  {
   "cell_type": "markdown",
   "id": "unauthorized-arkansas",
   "metadata": {},
   "source": [
    "위 결과를 보니 고령자 비율은 약한 음의 상관관계이고, 외국인비율과는 큰 의미가 없다. 그런데 인구수와는 상관계수가 0.3이어서 약한 상관관계가 있다고 볼 수 있다. CCTV와 인구수의 관계를 좀 더 들여다 보자."
   ]
  },
  {
   "cell_type": "code",
   "execution_count": 103,
   "id": "hourly-cover",
   "metadata": {},
   "outputs": [
    {
     "data": {
      "text/html": [
       "<div>\n",
       "<style scoped>\n",
       "    .dataframe tbody tr th:only-of-type {\n",
       "        vertical-align: middle;\n",
       "    }\n",
       "\n",
       "    .dataframe tbody tr th {\n",
       "        vertical-align: top;\n",
       "    }\n",
       "\n",
       "    .dataframe thead th {\n",
       "        text-align: right;\n",
       "    }\n",
       "</style>\n",
       "<table border=\"1\" class=\"dataframe\">\n",
       "  <thead>\n",
       "    <tr style=\"text-align: right;\">\n",
       "      <th></th>\n",
       "      <th>소계</th>\n",
       "      <th>최근증가율</th>\n",
       "      <th>인구수</th>\n",
       "      <th>한국인</th>\n",
       "      <th>외국인</th>\n",
       "      <th>고령자</th>\n",
       "      <th>외국인비율</th>\n",
       "      <th>고령자비율</th>\n",
       "    </tr>\n",
       "    <tr>\n",
       "      <th>구별</th>\n",
       "      <th></th>\n",
       "      <th></th>\n",
       "      <th></th>\n",
       "      <th></th>\n",
       "      <th></th>\n",
       "      <th></th>\n",
       "      <th></th>\n",
       "      <th></th>\n",
       "    </tr>\n",
       "  </thead>\n",
       "  <tbody>\n",
       "    <tr>\n",
       "      <th>강남구</th>\n",
       "      <td>2780</td>\n",
       "      <td>150.619195</td>\n",
       "      <td>570500.0</td>\n",
       "      <td>565550.0</td>\n",
       "      <td>4950.0</td>\n",
       "      <td>63167.0</td>\n",
       "      <td>0.867660</td>\n",
       "      <td>11.072217</td>\n",
       "    </tr>\n",
       "    <tr>\n",
       "      <th>양천구</th>\n",
       "      <td>2034</td>\n",
       "      <td>34.671731</td>\n",
       "      <td>479978.0</td>\n",
       "      <td>475949.0</td>\n",
       "      <td>4029.0</td>\n",
       "      <td>52975.0</td>\n",
       "      <td>0.839413</td>\n",
       "      <td>11.036964</td>\n",
       "    </tr>\n",
       "    <tr>\n",
       "      <th>서초구</th>\n",
       "      <td>1930</td>\n",
       "      <td>63.371266</td>\n",
       "      <td>450310.0</td>\n",
       "      <td>445994.0</td>\n",
       "      <td>4316.0</td>\n",
       "      <td>51733.0</td>\n",
       "      <td>0.958451</td>\n",
       "      <td>11.488308</td>\n",
       "    </tr>\n",
       "    <tr>\n",
       "      <th>은평구</th>\n",
       "      <td>1873</td>\n",
       "      <td>85.237258</td>\n",
       "      <td>494388.0</td>\n",
       "      <td>489943.0</td>\n",
       "      <td>4445.0</td>\n",
       "      <td>72334.0</td>\n",
       "      <td>0.899091</td>\n",
       "      <td>14.631019</td>\n",
       "    </tr>\n",
       "    <tr>\n",
       "      <th>용산구</th>\n",
       "      <td>1624</td>\n",
       "      <td>53.216374</td>\n",
       "      <td>244203.0</td>\n",
       "      <td>229456.0</td>\n",
       "      <td>14747.0</td>\n",
       "      <td>36231.0</td>\n",
       "      <td>6.038828</td>\n",
       "      <td>14.836427</td>\n",
       "    </tr>\n",
       "  </tbody>\n",
       "</table>\n",
       "</div>"
      ],
      "text/plain": [
       "       소계       최근증가율       인구수       한국인      외국인      고령자     외국인비율  \\\n",
       "구별                                                                      \n",
       "강남구  2780  150.619195  570500.0  565550.0   4950.0  63167.0  0.867660   \n",
       "양천구  2034   34.671731  479978.0  475949.0   4029.0  52975.0  0.839413   \n",
       "서초구  1930   63.371266  450310.0  445994.0   4316.0  51733.0  0.958451   \n",
       "은평구  1873   85.237258  494388.0  489943.0   4445.0  72334.0  0.899091   \n",
       "용산구  1624   53.216374  244203.0  229456.0  14747.0  36231.0  6.038828   \n",
       "\n",
       "         고령자비율  \n",
       "구별              \n",
       "강남구  11.072217  \n",
       "양천구  11.036964  \n",
       "서초구  11.488308  \n",
       "은평구  14.631019  \n",
       "용산구  14.836427  "
      ]
     },
     "execution_count": 103,
     "metadata": {},
     "output_type": "execute_result"
    }
   ],
   "source": [
    "data_result.sort_values(by='소계', ascending=False).head(5)"
   ]
  },
  {
   "cell_type": "markdown",
   "id": "compatible-marijuana",
   "metadata": {},
   "source": [
    "위 처럼 CCTV가 많이 설치된 구와,"
   ]
  },
  {
   "cell_type": "code",
   "execution_count": 104,
   "id": "smart-latitude",
   "metadata": {},
   "outputs": [
    {
     "data": {
      "text/html": [
       "<div>\n",
       "<style scoped>\n",
       "    .dataframe tbody tr th:only-of-type {\n",
       "        vertical-align: middle;\n",
       "    }\n",
       "\n",
       "    .dataframe tbody tr th {\n",
       "        vertical-align: top;\n",
       "    }\n",
       "\n",
       "    .dataframe thead th {\n",
       "        text-align: right;\n",
       "    }\n",
       "</style>\n",
       "<table border=\"1\" class=\"dataframe\">\n",
       "  <thead>\n",
       "    <tr style=\"text-align: right;\">\n",
       "      <th></th>\n",
       "      <th>소계</th>\n",
       "      <th>최근증가율</th>\n",
       "      <th>인구수</th>\n",
       "      <th>한국인</th>\n",
       "      <th>외국인</th>\n",
       "      <th>고령자</th>\n",
       "      <th>외국인비율</th>\n",
       "      <th>고령자비율</th>\n",
       "    </tr>\n",
       "    <tr>\n",
       "      <th>구별</th>\n",
       "      <th></th>\n",
       "      <th></th>\n",
       "      <th></th>\n",
       "      <th></th>\n",
       "      <th></th>\n",
       "      <th></th>\n",
       "      <th></th>\n",
       "      <th></th>\n",
       "    </tr>\n",
       "  </thead>\n",
       "  <tbody>\n",
       "    <tr>\n",
       "      <th>송파구</th>\n",
       "      <td>618</td>\n",
       "      <td>104.347826</td>\n",
       "      <td>667483.0</td>\n",
       "      <td>660584.0</td>\n",
       "      <td>6899.0</td>\n",
       "      <td>72506.0</td>\n",
       "      <td>1.033584</td>\n",
       "      <td>10.862599</td>\n",
       "    </tr>\n",
       "    <tr>\n",
       "      <th>강서구</th>\n",
       "      <td>884</td>\n",
       "      <td>134.793814</td>\n",
       "      <td>603772.0</td>\n",
       "      <td>597248.0</td>\n",
       "      <td>6524.0</td>\n",
       "      <td>72548.0</td>\n",
       "      <td>1.080540</td>\n",
       "      <td>12.015794</td>\n",
       "    </tr>\n",
       "    <tr>\n",
       "      <th>강남구</th>\n",
       "      <td>2780</td>\n",
       "      <td>150.619195</td>\n",
       "      <td>570500.0</td>\n",
       "      <td>565550.0</td>\n",
       "      <td>4950.0</td>\n",
       "      <td>63167.0</td>\n",
       "      <td>0.867660</td>\n",
       "      <td>11.072217</td>\n",
       "    </tr>\n",
       "    <tr>\n",
       "      <th>노원구</th>\n",
       "      <td>1265</td>\n",
       "      <td>188.929889</td>\n",
       "      <td>569384.0</td>\n",
       "      <td>565565.0</td>\n",
       "      <td>3819.0</td>\n",
       "      <td>71941.0</td>\n",
       "      <td>0.670725</td>\n",
       "      <td>12.634883</td>\n",
       "    </tr>\n",
       "    <tr>\n",
       "      <th>관악구</th>\n",
       "      <td>1496</td>\n",
       "      <td>149.290780</td>\n",
       "      <td>525515.0</td>\n",
       "      <td>507203.0</td>\n",
       "      <td>18312.0</td>\n",
       "      <td>68082.0</td>\n",
       "      <td>3.484582</td>\n",
       "      <td>12.955291</td>\n",
       "    </tr>\n",
       "  </tbody>\n",
       "</table>\n",
       "</div>"
      ],
      "text/plain": [
       "       소계       최근증가율       인구수       한국인      외국인      고령자     외국인비율  \\\n",
       "구별                                                                      \n",
       "송파구   618  104.347826  667483.0  660584.0   6899.0  72506.0  1.033584   \n",
       "강서구   884  134.793814  603772.0  597248.0   6524.0  72548.0  1.080540   \n",
       "강남구  2780  150.619195  570500.0  565550.0   4950.0  63167.0  0.867660   \n",
       "노원구  1265  188.929889  569384.0  565565.0   3819.0  71941.0  0.670725   \n",
       "관악구  1496  149.290780  525515.0  507203.0  18312.0  68082.0  3.484582   \n",
       "\n",
       "         고령자비율  \n",
       "구별              \n",
       "송파구  10.862599  \n",
       "강서구  12.015794  \n",
       "강남구  11.072217  \n",
       "노원구  12.634883  \n",
       "관악구  12.955291  "
      ]
     },
     "execution_count": 104,
     "metadata": {},
     "output_type": "execute_result"
    }
   ],
   "source": [
    "data_result.sort_values(by='인구수', ascending=False).head(5)"
   ]
  },
  {
   "cell_type": "markdown",
   "id": "tribal-colors",
   "metadata": {},
   "source": [
    "인구수가 많은 구를 시각적으로 비교하면 좋을 것 같다. "
   ]
  },
  {
   "cell_type": "markdown",
   "id": "empty-cross",
   "metadata": {},
   "source": [
    "## 1-7 파이썬의 대표 시각화 도구 - Matplotlib"
   ]
  },
  {
   "cell_type": "code",
   "execution_count": 105,
   "id": "looking-channel",
   "metadata": {},
   "outputs": [],
   "source": [
    "import matplotlib.pyplot as plt\n",
    "%matplotlib inline"
   ]
  },
  {
   "cell_type": "markdown",
   "id": "stuck-contents",
   "metadata": {},
   "source": [
    "matplotlib는 많은 내용이 있는데 그중에 그래프를 그리는 모듈은 matplotlib.pyplot 이다. 흔히 plt로 줄여서 사용한다. 그리고 %matplotlib inline 이라는 명령은 그래프의 결과를 출력 세션에 나타나게 하는 설정이다."
   ]
  },
  {
   "cell_type": "code",
   "execution_count": 106,
   "id": "digital-roots",
   "metadata": {},
   "outputs": [
    {
     "data": {
      "image/png": "[encoded data removed]",
      "text/plain": [
       "<Figure size 432x288 with 1 Axes>"
      ]
     },
     "metadata": {
      "needs_background": "light"
     },
     "output_type": "display_data"
    }
   ],
   "source": [
    "plt.figure\n",
    "plt.plot([1,2,3,4,5,6,7,8,9,8,7,6,5,4,3,2,1,0])\n",
    "plt.show()"
   ]
  },
  {
   "cell_type": "markdown",
   "id": "optical-ontario",
   "metadata": {},
   "source": [
    "간단한 그래프를 그려 보았다. 다음은 numpy를 이용해서 sin을 만들고 이것을 그려보자."
   ]
  },
  {
   "cell_type": "code",
   "execution_count": 107,
   "id": "enhanced-damages",
   "metadata": {},
   "outputs": [],
   "source": [
    "import numpy as np\n",
    "t = np.arange(0,12,0.01)\n",
    "y = np.sin(t)"
   ]
  },
  {
   "cell_type": "markdown",
   "id": "reported-palestine",
   "metadata": {},
   "source": [
    "np.arrange 명령은 0부터 12까지 0.01의 간격으로 데이터를 만들고 그 리스트를 np.sin에 입력하면 sin 값이 나타난다. 이 부분을 유심히보자. 우리는 지금 t라는 시간 혹은 그래프상에서 x축을 의미하난 데이터를 0부터 12까지 만들고 그냥 사인함수(np.sin)에 입력해서 그 출력을 y로 저장하였다. t는 값을 하나만 가진 변수가 아니다. 약 1200개 정도의 값을 가진 일종의 배열이다. 그것을 반복문 없이 그냥 한 줄로 처리하는 것이다."
   ]
  },
  {
   "cell_type": "code",
   "execution_count": 108,
   "id": "affecting-trouble",
   "metadata": {},
   "outputs": [
    {
     "data": {
      "image/png": "[encoded data removed]",
      "text/plain": [
       "<Figure size 720x432 with 1 Axes>"
      ]
     },
     "metadata": {
      "needs_background": "light"
     },
     "output_type": "display_data"
    }
   ],
   "source": [
    "plt.figure(figsize=(10,6))\n",
    "plt.plot(t,y)\n",
    "plt.show()"
   ]
  },
  {
   "cell_type": "code",
   "execution_count": 109,
   "id": "secure-forest",
   "metadata": {},
   "outputs": [
    {
     "data": {
      "image/png": "[encoded data removed]",
      "text/plain": [
       "<Figure size 720x432 with 1 Axes>"
      ]
     },
     "metadata": {
      "needs_background": "light"
     },
     "output_type": "display_data"
    }
   ],
   "source": [
    "plt.figure(figsize=(10,6))\n",
    "plt.plot(t,y)\n",
    "plt.grid()\n",
    "plt.xlabel('time')\n",
    "plt.ylabel('Amplitude')\n",
    "plt.title('Example of sinewave')\n",
    "plt.show()"
   ]
  },
  {
   "cell_type": "markdown",
   "id": "corporate-scanning",
   "metadata": {},
   "source": [
    "xlable로 x축 라벨을, ylabel로 y축 라벨을, title 명령으로 제목을 정하고, 격자무니는 grid() 명령으로 만들 수 있다."
   ]
  },
  {
   "cell_type": "code",
   "execution_count": 110,
   "id": "terminal-tooth",
   "metadata": {},
   "outputs": [
    {
     "data": {
      "image/png": "[encoded data removed]",
      "text/plain": [
       "<Figure size 720x432 with 1 Axes>"
      ]
     },
     "metadata": {
      "needs_background": "light"
     },
     "output_type": "display_data"
    }
   ],
   "source": [
    "plt.figure(figsize=(10,6))\n",
    "plt.plot(t,np.sin(t))\n",
    "plt.plot(t,np.cos(t))\n",
    "plt.grid()\n",
    "plt.xlabel('time')\n",
    "plt.ylabel('Amplitude')\n",
    "plt.title('Example of sinewave')\n",
    "plt.show()"
   ]
  },
  {
   "cell_type": "markdown",
   "id": "celtic-suggestion",
   "metadata": {},
   "source": [
    "또 plot 명령을 두개 넣어서 한 화면에 그래프를 두 개 만들 수 있다. 여기에 범례(legend)를 추가하고 싶으면 plot을 그릴 때 label 옵션으로 텍스트를 잡아주고, plt.legend()라는 명령을 주면 된다."
   ]
  },
  {
   "cell_type": "code",
   "execution_count": 111,
   "id": "similar-swedish",
   "metadata": {},
   "outputs": [
    {
     "data": {
      "image/png": "[encoded data removed]",
      "text/plain": [
       "<Figure size 720x432 with 1 Axes>"
      ]
     },
     "metadata": {
      "needs_background": "light"
     },
     "output_type": "display_data"
    }
   ],
   "source": [
    "plt.figure(figsize=(10,6))\n",
    "plt.plot(t,np.sin(t),label='sin')\n",
    "plt.plot(t,np.cos(t),label='cos')\n",
    "plt.grid()\n",
    "plt.legend()\n",
    "plt.xlabel('time')\n",
    "plt.ylabel('Amplitude')\n",
    "plt.title('Example of sinewave')\n",
    "plt.show()"
   ]
  },
  {
   "cell_type": "markdown",
   "id": "dressed-angel",
   "metadata": {},
   "source": [
    "또한 lw 옵션으로 선의 굵기를 지정할 수 있으며, color 옵션으로 색상을 지정할 수 있다."
   ]
  },
  {
   "cell_type": "code",
   "execution_count": 112,
   "id": "impressive-kingdom",
   "metadata": {},
   "outputs": [
    {
     "data": {
      "image/png": "[encoded data removed]",
      "text/plain": [
       "<Figure size 720x432 with 1 Axes>"
      ]
     },
     "metadata": {
      "needs_background": "light"
     },
     "output_type": "display_data"
    }
   ],
   "source": [
    "plt.figure(figsize=(10,6))\n",
    "plt.plot(t,np.sin(t), lw=3, label='sin')\n",
    "plt.plot(t,np.cos(t), 'r', label='cos')\n",
    "plt.grid()\n",
    "plt.legend()\n",
    "plt.xlabel('time')\n",
    "plt.ylabel('Amplitude')\n",
    "plt.title('Example of sinewave')\n",
    "plt.show()"
   ]
  },
  {
   "cell_type": "code",
   "execution_count": 113,
   "id": "adjacent-surfing",
   "metadata": {},
   "outputs": [
    {
     "data": {
      "image/png": "[encoded data removed]",
      "text/plain": [
       "<Figure size 720x432 with 1 Axes>"
      ]
     },
     "metadata": {
      "needs_background": "light"
     },
     "output_type": "display_data"
    }
   ],
   "source": [
    "t = [0,1,2,3,4,5,6]\n",
    "y = [1,4,5,8,9,5,3]\n",
    "plt.figure(figsize=(10,6))\n",
    "plt.plot(t,y,color='green')\n",
    "plt.show()"
   ]
  },
  {
   "cell_type": "code",
   "execution_count": 114,
   "id": "entire-firmware",
   "metadata": {},
   "outputs": [
    {
     "data": {
      "image/png": "[encoded data removed]",
      "text/plain": [
       "<Figure size 720x432 with 1 Axes>"
      ]
     },
     "metadata": {
      "needs_background": "light"
     },
     "output_type": "display_data"
    }
   ],
   "source": [
    "t = [0,1,2,3,4,5,6]\n",
    "y = [1,4,5,8,9,5,3]\n",
    "plt.figure(figsize=(10,6))\n",
    "plt.plot(t,y,color='green', linestyle='dashed')\n",
    "plt.show()"
   ]
  },
  {
   "cell_type": "markdown",
   "id": "portable-backing",
   "metadata": {},
   "source": [
    "linestyle = 'dashed' 옵션으로 선 스타일을 지정할 수 있다."
   ]
  },
  {
   "cell_type": "code",
   "execution_count": 115,
   "id": "dirty-squad",
   "metadata": {},
   "outputs": [
    {
     "data": {
      "text/plain": [
       "<function matplotlib.pyplot.show(close=None, block=None)>"
      ]
     },
     "execution_count": 115,
     "metadata": {},
     "output_type": "execute_result"
    },
    {
     "data": {
      "image/png": "[encoded data removed]",
      "text/plain": [
       "<Figure size 720x432 with 1 Axes>"
      ]
     },
     "metadata": {
      "needs_background": "light"
     },
     "output_type": "display_data"
    }
   ],
   "source": [
    "plt.figure(figsize=(10,6))\n",
    "plt.plot(t,y,color='green', linestyle='dashed', marker='o')\n",
    "plt.show"
   ]
  },
  {
   "cell_type": "markdown",
   "id": "minor-brazilian",
   "metadata": {},
   "source": [
    "marker 옵션으로 데이터가 존재하는 곳에 마킹할 수 있다. 여기에 markerfacecolor 옵션과 marksize 옵션으로 marksize 옵션으로 마커의 크기와 색상을 지정할 수 있다."
   ]
  },
  {
   "cell_type": "code",
   "execution_count": 116,
   "id": "moderate-bowling",
   "metadata": {},
   "outputs": [
    {
     "data": {
      "text/plain": [
       "<function matplotlib.pyplot.show(close=None, block=None)>"
      ]
     },
     "execution_count": 116,
     "metadata": {},
     "output_type": "execute_result"
    },
    {
     "data": {
      "image/png": "[encoded data removed]",
      "text/plain": [
       "<Figure size 720x432 with 1 Axes>"
      ]
     },
     "metadata": {
      "needs_background": "light"
     },
     "output_type": "display_data"
    }
   ],
   "source": [
    "plt.figure(figsize=(10,6))\n",
    "plt.plot(t,y,color='green', linestyle='dashed', marker='o', markerfacecolor='blue', markersize=12)\n",
    "plt.show"
   ]
  },
  {
   "cell_type": "markdown",
   "id": "human-gasoline",
   "metadata": {},
   "source": [
    "선을 그리는 plot 명령 외에 scatter 명령도 있다.\n"
   ]
  },
  {
   "cell_type": "code",
   "execution_count": 117,
   "id": "bridal-guidance",
   "metadata": {},
   "outputs": [],
   "source": [
    "t = np.array([0,1,2,3,4,5,6,7,8,9])\n",
    "y = np.array([9,8,7,9,8,3,2,4,3,4])"
   ]
  },
  {
   "cell_type": "code",
   "execution_count": 118,
   "id": "facial-species",
   "metadata": {},
   "outputs": [
    {
     "data": {
      "image/png": "[encoded data removed]",
      "text/plain": [
       "<Figure size 720x432 with 1 Axes>"
      ]
     },
     "metadata": {
      "needs_background": "light"
     },
     "output_type": "display_data"
    }
   ],
   "source": [
    "plt.figure(figsize=(10,6))\n",
    "plt.scatter(t,y)\n",
    "plt.show()"
   ]
  },
  {
   "cell_type": "markdown",
   "id": "cognitive-wilderness",
   "metadata": {},
   "source": [
    "여기에 marker를 지정할 수 있다."
   ]
  },
  {
   "cell_type": "code",
   "execution_count": 119,
   "id": "stainless-special",
   "metadata": {},
   "outputs": [
    {
     "data": {
      "image/png": "[encoded data removed]",
      "text/plain": [
       "<Figure size 720x432 with 1 Axes>"
      ]
     },
     "metadata": {
      "needs_background": "light"
     },
     "output_type": "display_data"
    }
   ],
   "source": [
    "plt.figure(figsize=(10,6))\n",
    "plt.scatter(t,y, marker='>')\n",
    "plt.show()"
   ]
  },
  {
   "cell_type": "markdown",
   "id": "recorded-passport",
   "metadata": {},
   "source": [
    "그리고 x축 값인 t에 따라 색상을 바꾸는 color map을 지정할 수 있다. 이 때 s옵션은 마커의 크기이다."
   ]
  },
  {
   "cell_type": "code",
   "execution_count": 120,
   "id": "ceramic-florist",
   "metadata": {},
   "outputs": [
    {
     "data": {
      "image/png": "[encoded data removed]",
      "text/plain": [
       "<Figure size 720x432 with 2 Axes>"
      ]
     },
     "metadata": {
      "needs_background": "light"
     },
     "output_type": "display_data"
    }
   ],
   "source": [
    "colormap = t\n",
    "\n",
    "plt.figure(figsize=(10,6))\n",
    "plt.scatter(t,y, s=50, c=colormap,marker='>')\n",
    "plt.colorbar()\n",
    "plt.show()"
   ]
  },
  {
   "cell_type": "markdown",
   "id": "straight-aruba",
   "metadata": {},
   "source": [
    "numpy의 랜덤변수 함수를 이용해서 데이터 세개를 만들어 보자. 이때 loc 옵션으로 평균값과 scale 옵션으로 표준편차를 지정한다."
   ]
  },
  {
   "cell_type": "code",
   "execution_count": 121,
   "id": "athletic-hunger",
   "metadata": {},
   "outputs": [],
   "source": [
    "s1 = np.random.normal(loc=0,scale=1,size=1000)\n",
    "s2 = np.random.normal(loc=5,scale=0.5,size=1000)\n",
    "s3 = np.random.normal(loc=10,scale=2,size=1000)"
   ]
  },
  {
   "cell_type": "code",
   "execution_count": 122,
   "id": "ready-savings",
   "metadata": {},
   "outputs": [
    {
     "data": {
      "image/png": "[encoded data removed]",
      "text/plain": [
       "<Figure size 720x432 with 1 Axes>"
      ]
     },
     "metadata": {
      "needs_background": "light"
     },
     "output_type": "display_data"
    }
   ],
   "source": [
    "plt.figure(figsize=(10,6))\n",
    "plt.plot(s1,label='s1')\n",
    "plt.plot(s2,label='s2')\n",
    "plt.plot(s3,label='s3')\n",
    "plt.legend()\n",
    "plt.show()"
   ]
  },
  {
   "cell_type": "markdown",
   "id": "prescribed-specification",
   "metadata": {},
   "source": [
    "위와 같이 나온다. 이것을 boxplot으로 표현할 수 있다. boxplot의 정의는 조금 복잡하니 다시 언급하도록 하겠다.\n"
   ]
  },
  {
   "cell_type": "code",
   "execution_count": 123,
   "id": "greenhouse-coral",
   "metadata": {},
   "outputs": [
    {
     "data": {
      "image/png": "[encoded data removed]",
      "text/plain": [
       "<Figure size 720x432 with 1 Axes>"
      ]
     },
     "metadata": {
      "needs_background": "light"
     },
     "output_type": "display_data"
    }
   ],
   "source": [
    "plt.figure(figsize=(10,6))\n",
    "plt.boxplot((s1,s2,s3))\n",
    "plt.grid()\n",
    "plt.show()"
   ]
  },
  {
   "cell_type": "markdown",
   "id": "forbidden-distributor",
   "metadata": {},
   "source": [
    "## 1-8 CCTV 현황 그래프로 분석하기\n",
    "\n",
    "\n",
    "\n",
    "이제는 CCTV 현황을 그래프로 그려보자. 하지만 한 가지 문제가 있는데 바로 한글 문제이다. matplotlib이 기본으로 가진 폰트는 한글을 지원하지 않기 때문에 matplotlib의 폰트를 변경할 필요가 있다.\n"
   ]
  },
  {
   "cell_type": "code",
   "execution_count": 127,
   "id": "light-transsexual",
   "metadata": {},
   "outputs": [],
   "source": [
    "import platform\n",
    "\n",
    "from matplotlib import font_manager, rc\n",
    "plt.rcParams['axes.unicode_minus'] = False\n",
    "\n",
    "if platform.system() == 'Darwin':\n",
    "    rc('font', family='AppleGothic')\n",
    "elif platform.system() == 'Windows':\n",
    "    path = \"c:/Windows/Fonts/malgun.ttf\"\n",
    "    font_name = font_manager.FontProperties(fname=path).get_name()\n",
    "    rc('font', family=font_name)\n",
    "else:\n",
    "    print('Unknown system... sorry~~~~') "
   ]
  },
  {
   "cell_type": "code",
   "execution_count": 128,
   "id": "agreed-bridge",
   "metadata": {},
   "outputs": [
    {
     "data": {
      "text/html": [
       "<div>\n",
       "<style scoped>\n",
       "    .dataframe tbody tr th:only-of-type {\n",
       "        vertical-align: middle;\n",
       "    }\n",
       "\n",
       "    .dataframe tbody tr th {\n",
       "        vertical-align: top;\n",
       "    }\n",
       "\n",
       "    .dataframe thead th {\n",
       "        text-align: right;\n",
       "    }\n",
       "</style>\n",
       "<table border=\"1\" class=\"dataframe\">\n",
       "  <thead>\n",
       "    <tr style=\"text-align: right;\">\n",
       "      <th></th>\n",
       "      <th>소계</th>\n",
       "      <th>최근증가율</th>\n",
       "      <th>인구수</th>\n",
       "      <th>한국인</th>\n",
       "      <th>외국인</th>\n",
       "      <th>고령자</th>\n",
       "      <th>외국인비율</th>\n",
       "      <th>고령자비율</th>\n",
       "    </tr>\n",
       "    <tr>\n",
       "      <th>구별</th>\n",
       "      <th></th>\n",
       "      <th></th>\n",
       "      <th></th>\n",
       "      <th></th>\n",
       "      <th></th>\n",
       "      <th></th>\n",
       "      <th></th>\n",
       "      <th></th>\n",
       "    </tr>\n",
       "  </thead>\n",
       "  <tbody>\n",
       "    <tr>\n",
       "      <th>강남구</th>\n",
       "      <td>2780</td>\n",
       "      <td>150.619195</td>\n",
       "      <td>570500.0</td>\n",
       "      <td>565550.0</td>\n",
       "      <td>4950.0</td>\n",
       "      <td>63167.0</td>\n",
       "      <td>0.867660</td>\n",
       "      <td>11.072217</td>\n",
       "    </tr>\n",
       "    <tr>\n",
       "      <th>강동구</th>\n",
       "      <td>773</td>\n",
       "      <td>166.490765</td>\n",
       "      <td>453233.0</td>\n",
       "      <td>449019.0</td>\n",
       "      <td>4214.0</td>\n",
       "      <td>54622.0</td>\n",
       "      <td>0.929765</td>\n",
       "      <td>12.051638</td>\n",
       "    </tr>\n",
       "    <tr>\n",
       "      <th>강북구</th>\n",
       "      <td>748</td>\n",
       "      <td>125.203252</td>\n",
       "      <td>330192.0</td>\n",
       "      <td>326686.0</td>\n",
       "      <td>3506.0</td>\n",
       "      <td>54813.0</td>\n",
       "      <td>1.061806</td>\n",
       "      <td>16.600342</td>\n",
       "    </tr>\n",
       "    <tr>\n",
       "      <th>강서구</th>\n",
       "      <td>884</td>\n",
       "      <td>134.793814</td>\n",
       "      <td>603772.0</td>\n",
       "      <td>597248.0</td>\n",
       "      <td>6524.0</td>\n",
       "      <td>72548.0</td>\n",
       "      <td>1.080540</td>\n",
       "      <td>12.015794</td>\n",
       "    </tr>\n",
       "    <tr>\n",
       "      <th>관악구</th>\n",
       "      <td>1496</td>\n",
       "      <td>149.290780</td>\n",
       "      <td>525515.0</td>\n",
       "      <td>507203.0</td>\n",
       "      <td>18312.0</td>\n",
       "      <td>68082.0</td>\n",
       "      <td>3.484582</td>\n",
       "      <td>12.955291</td>\n",
       "    </tr>\n",
       "  </tbody>\n",
       "</table>\n",
       "</div>"
      ],
      "text/plain": [
       "       소계       최근증가율       인구수       한국인      외국인      고령자     외국인비율  \\\n",
       "구별                                                                      \n",
       "강남구  2780  150.619195  570500.0  565550.0   4950.0  63167.0  0.867660   \n",
       "강동구   773  166.490765  453233.0  449019.0   4214.0  54622.0  0.929765   \n",
       "강북구   748  125.203252  330192.0  326686.0   3506.0  54813.0  1.061806   \n",
       "강서구   884  134.793814  603772.0  597248.0   6524.0  72548.0  1.080540   \n",
       "관악구  1496  149.290780  525515.0  507203.0  18312.0  68082.0  3.484582   \n",
       "\n",
       "         고령자비율  \n",
       "구별              \n",
       "강남구  11.072217  \n",
       "강동구  12.051638  \n",
       "강북구  16.600342  \n",
       "강서구  12.015794  \n",
       "관악구  12.955291  "
      ]
     },
     "execution_count": 128,
     "metadata": {},
     "output_type": "execute_result"
    }
   ],
   "source": [
    "data_result.head()"
   ]
  },
  {
   "cell_type": "code",
   "execution_count": 131,
   "id": "annoying-technician",
   "metadata": {},
   "outputs": [
    {
     "data": {
      "image/png": "[encoded data removed]",
      "text/plain": [
       "<Figure size 720x720 with 1 Axes>"
      ]
     },
     "metadata": {
      "needs_background": "light"
     },
     "output_type": "display_data"
    }
   ],
   "source": [
    "plt.figure()\n",
    "data_result['소계'].plot(kind='barh', grid=True, figsize=(10,10))\n",
    "plt.show()"
   ]
  },
  {
   "cell_type": "markdown",
   "id": "female-repository",
   "metadata": {},
   "source": [
    "pandas 데이터 뒤에 plot 명령을 붙이면 바로 그려준다."
   ]
  },
  {
   "cell_type": "code",
   "execution_count": 132,
   "id": "sporting-spelling",
   "metadata": {},
   "outputs": [
    {
     "data": {
      "image/png": "[encoded data removed]",
      "text/plain": [
       "<Figure size 720x720 with 1 Axes>"
      ]
     },
     "metadata": {
      "needs_background": "light"
     },
     "output_type": "display_data"
    }
   ],
   "source": [
    "data_result['소계'].plot(kind='barh',grid=True, figsize=(10,10))\n",
    "\n",
    "fontprop = fm.FontProperties(fname=path, size=18)\n",
    "\n",
    "plt.show()"
   ]
  },
  {
   "cell_type": "markdown",
   "id": "broken-princess",
   "metadata": {},
   "source": [
    "여기서 kind='barh'로 지정해서 수평바(bar)로 그리도록 했다. grid=True 로 grid를 그리라 했고 figsize로 그림 크기도 지정했다. 하지만 figsize를 지정했어도 표현되는 곳이 웹 브라우저이기 때문에 항상 그 크기를 유지하는 것은 아닐 수 있다. 유저가 창의 크기를 줄이거나 하면 변하게 될 것이다. 위 그림은 큰 의미를 찾기 어렵다. 사실 수평바 그래프는 데이터가 정렬되어 있을 때 좀 더 보기 좋다."
   ]
  },
  {
   "cell_type": "code",
   "execution_count": 133,
   "id": "concerned-software",
   "metadata": {},
   "outputs": [
    {
     "data": {
      "image/png": "[encoded data removed]",
      "text/plain": [
       "<Figure size 720x720 with 1 Axes>"
      ]
     },
     "metadata": {
      "needs_background": "light"
     },
     "output_type": "display_data"
    }
   ],
   "source": [
    "data_result['소계'].sort_values().plot(kind='barh', grid=True, figsize=(10,10))\n",
    "\n",
    "plt.show()"
   ]
  },
  {
   "cell_type": "markdown",
   "id": "resident-coupon",
   "metadata": {},
   "source": [
    "이제 보니 CCTV 개수에서는 강남구가 월등하다는 것을 알 수 있다. 그 뒤를 이어서 양천구, 서초구, 은평구가 꽤 많은 CCTV가 설치 됐다는 것을 알 수 있다. 여기에 인구대비 CCTV 비율을 계산해서 정렬하고 그려보자."
   ]
  },
  {
   "cell_type": "code",
   "execution_count": 134,
   "id": "mineral-domain",
   "metadata": {},
   "outputs": [
    {
     "data": {
      "image/png": "[encoded data removed]",
      "text/plain": [
       "<Figure size 720x720 with 1 Axes>"
      ]
     },
     "metadata": {
      "needs_background": "light"
     },
     "output_type": "display_data"
    }
   ],
   "source": [
    "data_result['CCTV비율'] = data_result['소계'] / data_result['인구수'] * 100\n",
    "\n",
    "data_result['CCTV비율'].sort_values().plot(kind='barh', \n",
    "                                         grid=True, figsize=(10,10))\n",
    "plt.show()"
   ]
  },
  {
   "cell_type": "markdown",
   "id": "acute-mention",
   "metadata": {},
   "source": [
    "위와 같은 그래프를 볼 수 있다. 인구 대비 CCTV 수를 보니 이번에는 용산구와 종로구가 월등히 높다. 그런데 송파구는 인구 대비로 봐도 CCTV 비율이 낮다. 이번엔 scatter 함수를 사용해보자. 그리고 s=50로 마커의 크기를 잡고 그려보자."
   ]
  },
  {
   "cell_type": "code",
   "execution_count": 135,
   "id": "traditional-cooperative",
   "metadata": {},
   "outputs": [
    {
     "data": {
      "image/png": "[encoded data removed]",
      "text/plain": [
       "<Figure size 432x432 with 1 Axes>"
      ]
     },
     "metadata": {
      "needs_background": "light"
     },
     "output_type": "display_data"
    }
   ],
   "source": [
    "plt.figure(figsize=(6,6))\n",
    "plt.scatter(data_result['인구수'], data_result['소계'], s=50)\n",
    "plt.xlabel('인구수')\n",
    "plt.ylabel('CCTV')\n",
    "plt.grid()\n",
    "plt.show()"
   ]
  },
  {
   "cell_type": "markdown",
   "id": "public-petersburg",
   "metadata": {},
   "source": [
    "이제 위 데이터를 대표하는 직선을 하나 그리려고 한다. "
   ]
  },
  {
   "cell_type": "code",
   "execution_count": 136,
   "id": "incoming-seeking",
   "metadata": {},
   "outputs": [
    {
     "data": {
      "text/plain": [
       "array([1.30916415e-03, 6.45066497e+02])"
      ]
     },
     "execution_count": 136,
     "metadata": {},
     "output_type": "execute_result"
    }
   ],
   "source": [
    "fp1 = np.polyfit(data_result['인구수'], data_result['소계'],1)\n",
    "fp1"
   ]
  },
  {
   "cell_type": "code",
   "execution_count": 137,
   "id": "passing-florida",
   "metadata": {},
   "outputs": [],
   "source": [
    "f1 = np.poly1d(fp1)\n",
    "fx = np.linspace(100000, 700000, 100)"
   ]
  },
  {
   "cell_type": "markdown",
   "id": "stock-cylinder",
   "metadata": {},
   "source": [
    "여기서 numpy의 polyfit 명령으로 손쉽게 직선을 만들 수 있다. 그리고 이를 그리기 위해 x축과 y축 데이터를 얻어야 하는데 x축 데이터는 numpy의 linspace로 만들고 y축은 poly1d로 만들 수 있다.\n"
   ]
  },
  {
   "cell_type": "code",
   "execution_count": 138,
   "id": "decimal-thickness",
   "metadata": {},
   "outputs": [
    {
     "data": {
      "image/png": "[encoded data removed]",
      "text/plain": [
       "<Figure size 720x720 with 1 Axes>"
      ]
     },
     "metadata": {
      "needs_background": "light"
     },
     "output_type": "display_data"
    }
   ],
   "source": [
    "plt.figure(figsize=(10,10))\n",
    "plt.scatter(data_result['인구수'], data_result['소계'], s=50)\n",
    "plt.plot(fx, f1(fx), ls='dashed', lw=3, color='g')\n",
    "plt.xlabel('인구수')\n",
    "plt.ylabel('CCTV')\n",
    "plt.grid()\n",
    "plt.show()"
   ]
  },
  {
   "cell_type": "markdown",
   "id": "spiritual-perfume",
   "metadata": {},
   "source": [
    "여기서 두가지 장치를 넣고싶다. 하나는 직선이 이 전체 데이터의 대표 값 역할을 한다면, 즉 인구수가 300000일 때는 CCTV는 1100 정도여야 한다는 개념을 이야기 하는 거라면 그 경향에서 멀리 있는 구는 이름이 같이 나타나도록 하고 싶다는 것과 직선에서 멀어질수록 다른 색을 나타내도록 하고 싶다는 것이다. 그래서 오차를 계산할 수 있는 코드를 만들고 오차가 큰 순으로 데이터를 정렬해서 다시 저장해보자."
   ]
  },
  {
   "cell_type": "code",
   "execution_count": 139,
   "id": "incoming-benchmark",
   "metadata": {},
   "outputs": [
    {
     "data": {
      "text/html": [
       "<div>\n",
       "<style scoped>\n",
       "    .dataframe tbody tr th:only-of-type {\n",
       "        vertical-align: middle;\n",
       "    }\n",
       "\n",
       "    .dataframe tbody tr th {\n",
       "        vertical-align: top;\n",
       "    }\n",
       "\n",
       "    .dataframe thead th {\n",
       "        text-align: right;\n",
       "    }\n",
       "</style>\n",
       "<table border=\"1\" class=\"dataframe\">\n",
       "  <thead>\n",
       "    <tr style=\"text-align: right;\">\n",
       "      <th></th>\n",
       "      <th>소계</th>\n",
       "      <th>최근증가율</th>\n",
       "      <th>인구수</th>\n",
       "      <th>한국인</th>\n",
       "      <th>외국인</th>\n",
       "      <th>고령자</th>\n",
       "      <th>외국인비율</th>\n",
       "      <th>고령자비율</th>\n",
       "      <th>CCTV비율</th>\n",
       "      <th>오차</th>\n",
       "    </tr>\n",
       "    <tr>\n",
       "      <th>구별</th>\n",
       "      <th></th>\n",
       "      <th></th>\n",
       "      <th></th>\n",
       "      <th></th>\n",
       "      <th></th>\n",
       "      <th></th>\n",
       "      <th></th>\n",
       "      <th></th>\n",
       "      <th></th>\n",
       "      <th></th>\n",
       "    </tr>\n",
       "  </thead>\n",
       "  <tbody>\n",
       "    <tr>\n",
       "      <th>강남구</th>\n",
       "      <td>2780</td>\n",
       "      <td>150.619195</td>\n",
       "      <td>570500.0</td>\n",
       "      <td>565550.0</td>\n",
       "      <td>4950.0</td>\n",
       "      <td>63167.0</td>\n",
       "      <td>0.867660</td>\n",
       "      <td>11.072217</td>\n",
       "      <td>0.487292</td>\n",
       "      <td>1388.055355</td>\n",
       "    </tr>\n",
       "    <tr>\n",
       "      <th>송파구</th>\n",
       "      <td>618</td>\n",
       "      <td>104.347826</td>\n",
       "      <td>667483.0</td>\n",
       "      <td>660584.0</td>\n",
       "      <td>6899.0</td>\n",
       "      <td>72506.0</td>\n",
       "      <td>1.033584</td>\n",
       "      <td>10.862599</td>\n",
       "      <td>0.092587</td>\n",
       "      <td>900.911312</td>\n",
       "    </tr>\n",
       "    <tr>\n",
       "      <th>양천구</th>\n",
       "      <td>2034</td>\n",
       "      <td>34.671731</td>\n",
       "      <td>479978.0</td>\n",
       "      <td>475949.0</td>\n",
       "      <td>4029.0</td>\n",
       "      <td>52975.0</td>\n",
       "      <td>0.839413</td>\n",
       "      <td>11.036964</td>\n",
       "      <td>0.423769</td>\n",
       "      <td>760.563512</td>\n",
       "    </tr>\n",
       "    <tr>\n",
       "      <th>서초구</th>\n",
       "      <td>1930</td>\n",
       "      <td>63.371266</td>\n",
       "      <td>450310.0</td>\n",
       "      <td>445994.0</td>\n",
       "      <td>4316.0</td>\n",
       "      <td>51733.0</td>\n",
       "      <td>0.958451</td>\n",
       "      <td>11.488308</td>\n",
       "      <td>0.428594</td>\n",
       "      <td>695.403794</td>\n",
       "    </tr>\n",
       "    <tr>\n",
       "      <th>용산구</th>\n",
       "      <td>1624</td>\n",
       "      <td>53.216374</td>\n",
       "      <td>244203.0</td>\n",
       "      <td>229456.0</td>\n",
       "      <td>14747.0</td>\n",
       "      <td>36231.0</td>\n",
       "      <td>6.038828</td>\n",
       "      <td>14.836427</td>\n",
       "      <td>0.665020</td>\n",
       "      <td>659.231690</td>\n",
       "    </tr>\n",
       "  </tbody>\n",
       "</table>\n",
       "</div>"
      ],
      "text/plain": [
       "       소계       최근증가율       인구수       한국인      외국인      고령자     외국인비율  \\\n",
       "구별                                                                      \n",
       "강남구  2780  150.619195  570500.0  565550.0   4950.0  63167.0  0.867660   \n",
       "송파구   618  104.347826  667483.0  660584.0   6899.0  72506.0  1.033584   \n",
       "양천구  2034   34.671731  479978.0  475949.0   4029.0  52975.0  0.839413   \n",
       "서초구  1930   63.371266  450310.0  445994.0   4316.0  51733.0  0.958451   \n",
       "용산구  1624   53.216374  244203.0  229456.0  14747.0  36231.0  6.038828   \n",
       "\n",
       "         고령자비율    CCTV비율           오차  \n",
       "구별                                     \n",
       "강남구  11.072217  0.487292  1388.055355  \n",
       "송파구  10.862599  0.092587   900.911312  \n",
       "양천구  11.036964  0.423769   760.563512  \n",
       "서초구  11.488308  0.428594   695.403794  \n",
       "용산구  14.836427  0.665020   659.231690  "
      ]
     },
     "execution_count": 139,
     "metadata": {},
     "output_type": "execute_result"
    }
   ],
   "source": [
    "fp1 = np.polyfit(data_result['인구수'], data_result['소계'], 1)\n",
    "\n",
    "f1 = np.poly1d(fp1)\n",
    "fx = np.linspace(100000, 700000, 100)\n",
    "\n",
    "data_result['오차'] = np.abs(data_result['소계'] - f1(data_result['인구수']))\n",
    "\n",
    "df_sort = data_result.sort_values(by='오차', ascending=False)\n",
    "df_sort.head()"
   ]
  },
  {
   "cell_type": "markdown",
   "id": "sapphire-carter",
   "metadata": {},
   "source": [
    "이제 텍스트와 color map을 입히자."
   ]
  },
  {
   "cell_type": "code",
   "execution_count": 140,
   "id": "italic-junction",
   "metadata": {},
   "outputs": [
    {
     "data": {
      "image/png": "[encoded data removed]",
      "text/plain": [
       "<Figure size 1008x720 with 2 Axes>"
      ]
     },
     "metadata": {
      "needs_background": "light"
     },
     "output_type": "display_data"
    }
   ],
   "source": [
    "plt.figure(figsize=(14,10))\n",
    "plt.scatter(data_result['인구수'], data_result['소계'], \n",
    "            c=data_result['오차'], s=50)\n",
    "plt.plot(fx, f1(fx), ls='dashed', lw=3, color='g')\n",
    "\n",
    "for n in range(10):\n",
    "    plt.text(df_sort['인구수'][n]*1.02, df_sort['소계'][n]*0.98, \n",
    "             df_sort.index[n], fontsize=15)\n",
    "    \n",
    "plt.xlabel('인구수')\n",
    "plt.ylabel('인구당비율')\n",
    "plt.colorbar()\n",
    "plt.grid()\n",
    "plt.show()"
   ]
  }
 ],
 "metadata": {
  "kernelspec": {
   "display_name": "Python 3",
   "language": "python",
   "name": "python3"
  },
  "language_info": {
   "codemirror_mode": {
    "name": "ipython",
    "version": 3
   },
   "file_extension": ".py",
   "mimetype": "text/x-python",
   "name": "python",
   "nbconvert_exporter": "python",
   "pygments_lexer": "ipython3",
   "version": "3.9.2"
  }
 },
 "nbformat": 4,
 "nbformat_minor": 5
}
